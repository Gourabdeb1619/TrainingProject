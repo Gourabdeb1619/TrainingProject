{
  "cells": [
    {
      "cell_type": "markdown",
      "metadata": {
        "_uuid": "abf3f52b9d99ea68063524916d5e85ebb7d44a7e",
        "id": "J7dBGMu2Ak2a"
      },
      "source": [
        "# Introduction"
      ]
    },
    {
      "cell_type": "markdown",
      "metadata": {
        "_uuid": "22a6223fbf3cc26dd388a935730591024fd5e045",
        "id": "rlsaO4GTAk2e"
      },
      "source": [
        "This notebook is designed for people who want to solve binary classification problems using Python. By the end of this notebook, you will have the necessary skills and techniques required to solve such problems."
      ]
    },
    {
      "cell_type": "markdown",
      "metadata": {
        "_uuid": "492602979540f6d1b34b3a4323e87183eca36465",
        "id": "IyY5sM7uAk2e"
      },
      "source": [
        "# Expectation from the Notebook"
      ]
    },
    {
      "cell_type": "markdown",
      "metadata": {
        "_uuid": "2af6bb2277f5caf1a1c258b9b610c53687e71ac0",
        "id": "PpxhzKLAAk2f"
      },
      "source": [
        "This notebook is divided into the below sections:\n",
        "\n",
        "1.Introduction to the problem.\n",
        "\n",
        "2.Exploratory Data Analysis (EDA) and PreProcessing.\n",
        "\n",
        "3.Feature engineering and Model building."
      ]
    },
    {
      "cell_type": "markdown",
      "metadata": {
        "_uuid": "ac43e5098e97976035bec8ad7f01605a0a506e46",
        "id": "pmikQjqcAk2f"
      },
      "source": [
        "# Table of Contents"
      ]
    },
    {
      "cell_type": "markdown",
      "metadata": {
        "_uuid": "e495155199e00284047755e5359365fec272b7d4",
        "id": "RL2ZyZ25Ak2g"
      },
      "source": [
        "Let’s look at the steps that we will follow in this notebook.\n",
        "\n",
        "1.Problem Statement\n",
        "\n",
        "2.Hypothesis Generation\n",
        "\n",
        "3.Loading the data\n",
        "\n",
        "4.Understanding the data\n",
        "\n",
        "5.Exploratory Data Analysis (EDA)\n",
        "\n",
        "6.Missing value and outlier treatment\n",
        "\n",
        "7.Feature Engineering\n",
        "\n",
        "8.Model Building :\n",
        "    \n",
        "i)Logistic Regression\n"
      ]
    },
    {
      "cell_type": "markdown",
      "metadata": {
        "_uuid": "f7bc80543957adc03b763799bced8202f8b96fa3",
        "id": "UCTC5AXQAk2g"
      },
      "source": [
        "# Problem Statement"
      ]
    },
    {
      "cell_type": "markdown",
      "source": [
        "Home Loan Prediction"
      ],
      "metadata": {
        "id": "qQbhn4IsP1sf"
      }
    },
    {
      "cell_type": "markdown",
      "metadata": {
        "_uuid": "c3c57cdbc39a1b73c60feb5c704c3b7079e9014b",
        "id": "nGE-HDddAk2j"
      },
      "source": [
        "# About The Data:"
      ]
    },
    {
      "cell_type": "markdown",
      "metadata": {
        "_uuid": "0f57114788848c6161bdf2c5e274dd7ad72f2971",
        "id": "vE6e98d0Ak2k"
      },
      "source": [
        "\n",
        "\n",
        "\n",
        "\n",
        "Given below is the description for each variable.\n",
        "\n",
        "\n",
        "\n",
        "\n",
        "Variable ----- Description\n",
        "\n",
        "Loan_ID -->> Unique Loan ID\n",
        "\n",
        "Gender -->> Male/ Female\n",
        "\n",
        "Married -->> Applicant married (Y/N)\n",
        "\n",
        "Dependents -->> Number of dependents\n",
        "\n",
        "Education -->> Applicant Education (Graduate/ Under Graduate)\n",
        "\n",
        "Self_Employed -->> Self employed (Y/N)\n",
        "\n",
        "ApplicantIncome -->> Applicant income\n",
        "\n",
        "CoapplicantIncome -->> Coapplicant income\n",
        "\n",
        "LoanAmount -->>  Loan amount in thousands\n",
        "\n",
        "Loan_Amount_Term -->> Term of loan in months\n",
        "\n",
        "Credit_History -->> credit history meets guidelines\n",
        "\n",
        "Property_Area -->> Urban/ Semi Urban/ Rural\n",
        "\n",
        "Loan_Status -->> Loan approved (Y/N)"
      ]
    },
    {
      "cell_type": "markdown",
      "metadata": {
        "_uuid": "ddb5e801c79a85da28eb5fd1a60758609ca2af1c",
        "collapsed": true,
        "id": "lZkhH_wWAk2k"
      },
      "source": [
        "# Import required packages"
      ]
    },
    {
      "cell_type": "code",
      "execution_count": null,
      "metadata": {
        "_uuid": "0c87da7637d61a6d32cf9d51d5e6ae8585f3f041",
        "id": "VBt--mn8Ak2k"
      },
      "outputs": [],
      "source": [
        "import pandas as pd\n",
        "import numpy as np\n",
        "import seaborn as sns\n",
        "import matplotlib.pyplot as plt\n",
        "%matplotlib inline\n",
        "import warnings\n",
        "warnings.filterwarnings(\"ignore\")"
      ]
    },
    {
      "cell_type": "markdown",
      "metadata": {
        "_uuid": "4171540782a03181f567e76f09d672ad829e6407",
        "id": "q52TrXEoAk2l"
      },
      "source": [
        "# Data"
      ]
    },
    {
      "cell_type": "markdown",
      "source": [],
      "metadata": {
        "id": "eHJ3Fitkc9th"
      }
    },
    {
      "cell_type": "markdown",
      "metadata": {
        "_uuid": "96ff338589e485cb659e243e6e0b1b41587c6994",
        "id": "dGd0rQcRAk2l"
      },
      "source": [
        " For this practice problem, we have been given two CSV files: train and test."
      ]
    },
    {
      "cell_type": "markdown",
      "metadata": {
        "_uuid": "7769c482b5f81c501453ec18549ab49fc040c854",
        "id": "o6qaSduGAk2l"
      },
      "source": [
        "Train file will be used for training the model, i.e. our model will learn from this file. It contains all the independent variables and the target variable.\n",
        "\n",
        "Test file contains all the independent variables, but not the target variable. We will apply the model to predict the target variable for the test data."
      ]
    },
    {
      "cell_type": "markdown",
      "metadata": {
        "_uuid": "92974d0bb49ce2f374f5d9c21b282037db0c4e40",
        "id": "mYNbt1NpAk2l"
      },
      "source": [
        "# Read Train and Test Data"
      ]
    },
    {
      "cell_type": "code",
      "execution_count": null,
      "metadata": {
        "_uuid": "83ad303bfa71002ccd20f412841c3078e4c64b81",
        "id": "YtPh324NAk2l"
      },
      "outputs": [],
      "source": [
        "train = pd.read_csv(\"train.csv\")\n",
        "test = pd.read_csv(\"test.csv\")"
      ]
    },
    {
      "cell_type": "markdown",
      "metadata": {
        "_uuid": "c407fda1c35b099e26c6e963600ec8adf9784066",
        "id": "5_cbZFWOAk2l"
      },
      "source": [
        "# Copy of original data"
      ]
    },
    {
      "cell_type": "markdown",
      "metadata": {
        "_uuid": "742c5198be0674ab978aa3816aa55fef3052e0da",
        "id": "L_CJMsgUAk2l"
      },
      "source": [
        "Let’s make a copy of train and test data so that even if we have to make any changes in these datasets we would not lose the original datasets."
      ]
    },
    {
      "cell_type": "code",
      "execution_count": null,
      "metadata": {
        "_uuid": "e6e2cb249f0fa4a761bd3ec2d9b4547c2b524ed4",
        "id": "0kaGprmsAk2m"
      },
      "outputs": [],
      "source": [
        "train_original = train.copy()\n",
        "test_original = test.copy()"
      ]
    },
    {
      "cell_type": "markdown",
      "metadata": {
        "_uuid": "c4e81f7dfa14e0d185e1a6f560872c4c9f3442cf",
        "id": "VafZSEXFAk2m"
      },
      "source": [
        "# Understanding the Data"
      ]
    },
    {
      "cell_type": "markdown",
      "metadata": {
        "_uuid": "03d9f224d04002d025e1c616a8eae28d5a425257",
        "id": "hv5uezaGAk2m"
      },
      "source": [
        "In this section, we will look at the structure of the train and test datasets. Firstly, we will check the features present in our data and then we will look at their data types."
      ]
    },
    {
      "cell_type": "code",
      "execution_count": null,
      "metadata": {
        "_uuid": "17f3b62b8a2d3d28006c5efb4f8d2d5c59d290a5",
        "colab": {
          "base_uri": "https://localhost:8080/"
        },
        "id": "MZivpvqSAk2m",
        "outputId": "aaba3d96-e526-43f3-f11b-e5a86d8a6c4e"
      },
      "outputs": [
        {
          "output_type": "execute_result",
          "data": {
            "text/plain": [
              "Index(['Loan_ID', 'Gender', 'Married', 'Dependents', 'Education',\n",
              "       'Self_Employed', 'ApplicantIncome', 'CoapplicantIncome', 'LoanAmount',\n",
              "       'Loan_Amount_Term', 'Credit_History', 'Property_Area', 'Loan_Status'],\n",
              "      dtype='object')"
            ]
          },
          "metadata": {},
          "execution_count": 524
        }
      ],
      "source": [
        "train.columns"
      ]
    },
    {
      "cell_type": "markdown",
      "metadata": {
        "_uuid": "9342aa80d92510358a80ec7d199c99815bb36a90",
        "id": "FEtczA1KAk2m"
      },
      "source": [
        "We have 12 independent variables and 1 target variable, i.e. Loan_Status in the train dataset. Let’s also have a look at the columns of test dataset."
      ]
    },
    {
      "cell_type": "code",
      "execution_count": null,
      "metadata": {
        "_uuid": "dcfddf7d44dbe347b14594b4b2ac1af07d4e6ecf",
        "colab": {
          "base_uri": "https://localhost:8080/"
        },
        "id": "HRJFZcTDAk2n",
        "outputId": "f17d45e5-cf4a-4c03-e933-246655419836"
      },
      "outputs": [
        {
          "output_type": "execute_result",
          "data": {
            "text/plain": [
              "Index(['Loan_ID', 'Gender', 'Married', 'Dependents', 'Education',\n",
              "       'Self_Employed', 'ApplicantIncome', 'CoapplicantIncome', 'LoanAmount',\n",
              "       'Loan_Amount_Term', 'Credit_History', 'Property_Area'],\n",
              "      dtype='object')"
            ]
          },
          "metadata": {},
          "execution_count": 525
        }
      ],
      "source": [
        "test.columns"
      ]
    },
    {
      "cell_type": "markdown",
      "metadata": {
        "_uuid": "b0f1abbdc6f802eea42d177f581be6babbdf2daa",
        "id": "-1dvRKAUAk2n"
      },
      "source": [
        "We have similar features in the test dataset as the train dataset except the Loan_Status. We will predict the Loan_Status using the model that we will build using the train data."
      ]
    },
    {
      "cell_type": "markdown",
      "metadata": {
        "_uuid": "777c5110d6660218971ed772f0b3df0f0ed93f06",
        "id": "JGzMEtO_Ak2n"
      },
      "source": [
        "# Print the data types"
      ]
    },
    {
      "cell_type": "code",
      "execution_count": null,
      "metadata": {
        "_uuid": "322ee6e07ec4411ea39d023ec9047f61bc164603",
        "colab": {
          "base_uri": "https://localhost:8080/"
        },
        "id": "dl17qgsdAk2n",
        "outputId": "0f71f43b-3799-457a-9d8e-ae27fb51dff9"
      },
      "outputs": [
        {
          "output_type": "execute_result",
          "data": {
            "text/plain": [
              "Loan_ID               object\n",
              "Gender                object\n",
              "Married               object\n",
              "Dependents            object\n",
              "Education             object\n",
              "Self_Employed         object\n",
              "ApplicantIncome        int64\n",
              "CoapplicantIncome    float64\n",
              "LoanAmount           float64\n",
              "Loan_Amount_Term     float64\n",
              "Credit_History       float64\n",
              "Property_Area         object\n",
              "Loan_Status           object\n",
              "dtype: object"
            ]
          },
          "metadata": {},
          "execution_count": 526
        }
      ],
      "source": [
        "train.dtypes"
      ]
    },
    {
      "cell_type": "markdown",
      "metadata": {
        "_uuid": "51ab3cfce64fddc29d4f42a3d284d78993b69dbe",
        "id": "tHcYyAJUAk2n"
      },
      "source": [
        "We can see there are three format of data types:\n"
      ]
    },
    {
      "cell_type": "markdown",
      "metadata": {
        "_uuid": "8dc66e5afded16c0304ebe99f193f0ae713c0873",
        "id": "d0S67GmvAk2n"
      },
      "source": [
        "object: Object format means variables are categorical. Categorical variables in our dataset are: Loan_ID, Gender, Married, Dependents, Education, Self_Employed, Property_Area, Loan_Status."
      ]
    },
    {
      "cell_type": "markdown",
      "metadata": {
        "_uuid": "94c6281ec3c0597b8a7cac93a501260777e75e70",
        "id": "ajw4MmRPAk2n"
      },
      "source": [
        "int64: It represents the integer variables. ApplicantIncome is of this format."
      ]
    },
    {
      "cell_type": "markdown",
      "metadata": {
        "_uuid": "c33e280817c56e642477cc02b58ab38d8a725b4a",
        "id": "RiUd0t5wAk2o"
      },
      "source": [
        "float64: It represents the variable which have some decimal values involved. They are also numerical variables. Numerical variables in our dataset are: CoapplicantIncome, LoanAmount, Loan_Amount_Term, and Credit_History."
      ]
    },
    {
      "cell_type": "markdown",
      "metadata": {
        "_uuid": "a218a0498dc757f8c0f0aec3d5ee6a3c0b353218",
        "id": "RVHbFvmFAk2o"
      },
      "source": [
        "# Shape of the dataset"
      ]
    },
    {
      "cell_type": "code",
      "execution_count": null,
      "metadata": {
        "_uuid": "f3bdbd0e5bfaf3e94de8b63f3209f15b02a222e8",
        "colab": {
          "base_uri": "https://localhost:8080/",
          "height": 224
        },
        "id": "DeYmBIYkAk2o",
        "outputId": "4804df2f-a2d5-4c0b-bdb3-840a7ec0e548"
      },
      "outputs": [
        {
          "output_type": "stream",
          "name": "stdout",
          "text": [
            "Training data shape:  (614, 13)\n"
          ]
        },
        {
          "output_type": "execute_result",
          "data": {
            "text/plain": [
              "    Loan_ID Gender Married Dependents     Education Self_Employed  \\\n",
              "0  LP001002   Male      No          0      Graduate            No   \n",
              "1  LP001003   Male     Yes          1      Graduate            No   \n",
              "2  LP001005   Male     Yes          0      Graduate           Yes   \n",
              "3  LP001006   Male     Yes          0  Not Graduate            No   \n",
              "4  LP001008   Male      No          0      Graduate            No   \n",
              "\n",
              "   ApplicantIncome  CoapplicantIncome  LoanAmount  Loan_Amount_Term  \\\n",
              "0             5849                0.0         NaN             360.0   \n",
              "1             4583             1508.0       128.0             360.0   \n",
              "2             3000                0.0        66.0             360.0   \n",
              "3             2583             2358.0       120.0             360.0   \n",
              "4             6000                0.0       141.0             360.0   \n",
              "\n",
              "   Credit_History Property_Area Loan_Status  \n",
              "0             1.0         Urban           Y  \n",
              "1             1.0         Rural           N  \n",
              "2             1.0         Urban           Y  \n",
              "3             1.0         Urban           Y  \n",
              "4             1.0         Urban           Y  "
            ],
            "text/html": [
              "\n",
              "  <div id=\"df-4edcdb70-34f1-4c5e-b06a-4ce486f9687d\">\n",
              "    <div class=\"colab-df-container\">\n",
              "      <div>\n",
              "<style scoped>\n",
              "    .dataframe tbody tr th:only-of-type {\n",
              "        vertical-align: middle;\n",
              "    }\n",
              "\n",
              "    .dataframe tbody tr th {\n",
              "        vertical-align: top;\n",
              "    }\n",
              "\n",
              "    .dataframe thead th {\n",
              "        text-align: right;\n",
              "    }\n",
              "</style>\n",
              "<table border=\"1\" class=\"dataframe\">\n",
              "  <thead>\n",
              "    <tr style=\"text-align: right;\">\n",
              "      <th></th>\n",
              "      <th>Loan_ID</th>\n",
              "      <th>Gender</th>\n",
              "      <th>Married</th>\n",
              "      <th>Dependents</th>\n",
              "      <th>Education</th>\n",
              "      <th>Self_Employed</th>\n",
              "      <th>ApplicantIncome</th>\n",
              "      <th>CoapplicantIncome</th>\n",
              "      <th>LoanAmount</th>\n",
              "      <th>Loan_Amount_Term</th>\n",
              "      <th>Credit_History</th>\n",
              "      <th>Property_Area</th>\n",
              "      <th>Loan_Status</th>\n",
              "    </tr>\n",
              "  </thead>\n",
              "  <tbody>\n",
              "    <tr>\n",
              "      <th>0</th>\n",
              "      <td>LP001002</td>\n",
              "      <td>Male</td>\n",
              "      <td>No</td>\n",
              "      <td>0</td>\n",
              "      <td>Graduate</td>\n",
              "      <td>No</td>\n",
              "      <td>5849</td>\n",
              "      <td>0.0</td>\n",
              "      <td>NaN</td>\n",
              "      <td>360.0</td>\n",
              "      <td>1.0</td>\n",
              "      <td>Urban</td>\n",
              "      <td>Y</td>\n",
              "    </tr>\n",
              "    <tr>\n",
              "      <th>1</th>\n",
              "      <td>LP001003</td>\n",
              "      <td>Male</td>\n",
              "      <td>Yes</td>\n",
              "      <td>1</td>\n",
              "      <td>Graduate</td>\n",
              "      <td>No</td>\n",
              "      <td>4583</td>\n",
              "      <td>1508.0</td>\n",
              "      <td>128.0</td>\n",
              "      <td>360.0</td>\n",
              "      <td>1.0</td>\n",
              "      <td>Rural</td>\n",
              "      <td>N</td>\n",
              "    </tr>\n",
              "    <tr>\n",
              "      <th>2</th>\n",
              "      <td>LP001005</td>\n",
              "      <td>Male</td>\n",
              "      <td>Yes</td>\n",
              "      <td>0</td>\n",
              "      <td>Graduate</td>\n",
              "      <td>Yes</td>\n",
              "      <td>3000</td>\n",
              "      <td>0.0</td>\n",
              "      <td>66.0</td>\n",
              "      <td>360.0</td>\n",
              "      <td>1.0</td>\n",
              "      <td>Urban</td>\n",
              "      <td>Y</td>\n",
              "    </tr>\n",
              "    <tr>\n",
              "      <th>3</th>\n",
              "      <td>LP001006</td>\n",
              "      <td>Male</td>\n",
              "      <td>Yes</td>\n",
              "      <td>0</td>\n",
              "      <td>Not Graduate</td>\n",
              "      <td>No</td>\n",
              "      <td>2583</td>\n",
              "      <td>2358.0</td>\n",
              "      <td>120.0</td>\n",
              "      <td>360.0</td>\n",
              "      <td>1.0</td>\n",
              "      <td>Urban</td>\n",
              "      <td>Y</td>\n",
              "    </tr>\n",
              "    <tr>\n",
              "      <th>4</th>\n",
              "      <td>LP001008</td>\n",
              "      <td>Male</td>\n",
              "      <td>No</td>\n",
              "      <td>0</td>\n",
              "      <td>Graduate</td>\n",
              "      <td>No</td>\n",
              "      <td>6000</td>\n",
              "      <td>0.0</td>\n",
              "      <td>141.0</td>\n",
              "      <td>360.0</td>\n",
              "      <td>1.0</td>\n",
              "      <td>Urban</td>\n",
              "      <td>Y</td>\n",
              "    </tr>\n",
              "  </tbody>\n",
              "</table>\n",
              "</div>\n",
              "      <button class=\"colab-df-convert\" onclick=\"convertToInteractive('df-4edcdb70-34f1-4c5e-b06a-4ce486f9687d')\"\n",
              "              title=\"Convert this dataframe to an interactive table.\"\n",
              "              style=\"display:none;\">\n",
              "        \n",
              "  <svg xmlns=\"http://www.w3.org/2000/svg\" height=\"24px\"viewBox=\"0 0 24 24\"\n",
              "       width=\"24px\">\n",
              "    <path d=\"M0 0h24v24H0V0z\" fill=\"none\"/>\n",
              "    <path d=\"M18.56 5.44l.94 2.06.94-2.06 2.06-.94-2.06-.94-.94-2.06-.94 2.06-2.06.94zm-11 1L8.5 8.5l.94-2.06 2.06-.94-2.06-.94L8.5 2.5l-.94 2.06-2.06.94zm10 10l.94 2.06.94-2.06 2.06-.94-2.06-.94-.94-2.06-.94 2.06-2.06.94z\"/><path d=\"M17.41 7.96l-1.37-1.37c-.4-.4-.92-.59-1.43-.59-.52 0-1.04.2-1.43.59L10.3 9.45l-7.72 7.72c-.78.78-.78 2.05 0 2.83L4 21.41c.39.39.9.59 1.41.59.51 0 1.02-.2 1.41-.59l7.78-7.78 2.81-2.81c.8-.78.8-2.07 0-2.86zM5.41 20L4 18.59l7.72-7.72 1.47 1.35L5.41 20z\"/>\n",
              "  </svg>\n",
              "      </button>\n",
              "      \n",
              "  <style>\n",
              "    .colab-df-container {\n",
              "      display:flex;\n",
              "      flex-wrap:wrap;\n",
              "      gap: 12px;\n",
              "    }\n",
              "\n",
              "    .colab-df-convert {\n",
              "      background-color: #E8F0FE;\n",
              "      border: none;\n",
              "      border-radius: 50%;\n",
              "      cursor: pointer;\n",
              "      display: none;\n",
              "      fill: #1967D2;\n",
              "      height: 32px;\n",
              "      padding: 0 0 0 0;\n",
              "      width: 32px;\n",
              "    }\n",
              "\n",
              "    .colab-df-convert:hover {\n",
              "      background-color: #E2EBFA;\n",
              "      box-shadow: 0px 1px 2px rgba(60, 64, 67, 0.3), 0px 1px 3px 1px rgba(60, 64, 67, 0.15);\n",
              "      fill: #174EA6;\n",
              "    }\n",
              "\n",
              "    [theme=dark] .colab-df-convert {\n",
              "      background-color: #3B4455;\n",
              "      fill: #D2E3FC;\n",
              "    }\n",
              "\n",
              "    [theme=dark] .colab-df-convert:hover {\n",
              "      background-color: #434B5C;\n",
              "      box-shadow: 0px 1px 3px 1px rgba(0, 0, 0, 0.15);\n",
              "      filter: drop-shadow(0px 1px 2px rgba(0, 0, 0, 0.3));\n",
              "      fill: #FFFFFF;\n",
              "    }\n",
              "  </style>\n",
              "\n",
              "      <script>\n",
              "        const buttonEl =\n",
              "          document.querySelector('#df-4edcdb70-34f1-4c5e-b06a-4ce486f9687d button.colab-df-convert');\n",
              "        buttonEl.style.display =\n",
              "          google.colab.kernel.accessAllowed ? 'block' : 'none';\n",
              "\n",
              "        async function convertToInteractive(key) {\n",
              "          const element = document.querySelector('#df-4edcdb70-34f1-4c5e-b06a-4ce486f9687d');\n",
              "          const dataTable =\n",
              "            await google.colab.kernel.invokeFunction('convertToInteractive',\n",
              "                                                     [key], {});\n",
              "          if (!dataTable) return;\n",
              "\n",
              "          const docLinkHtml = 'Like what you see? Visit the ' +\n",
              "            '<a target=\"_blank\" href=https://colab.research.google.com/notebooks/data_table.ipynb>data table notebook</a>'\n",
              "            + ' to learn more about interactive tables.';\n",
              "          element.innerHTML = '';\n",
              "          dataTable['output_type'] = 'display_data';\n",
              "          await google.colab.output.renderOutput(dataTable, element);\n",
              "          const docLink = document.createElement('div');\n",
              "          docLink.innerHTML = docLinkHtml;\n",
              "          element.appendChild(docLink);\n",
              "        }\n",
              "      </script>\n",
              "    </div>\n",
              "  </div>\n",
              "  "
            ]
          },
          "metadata": {},
          "execution_count": 527
        }
      ],
      "source": [
        "print('Training data shape: ', train.shape)\n",
        "train.head()"
      ]
    },
    {
      "cell_type": "code",
      "execution_count": null,
      "metadata": {
        "_uuid": "1e87f37fbc1391ffc0ce7362df4c608140b72997",
        "colab": {
          "base_uri": "https://localhost:8080/",
          "height": 224
        },
        "id": "ETSMTJIBAk2o",
        "outputId": "972a3345-7ef0-4122-e1a8-734ae6a0eaf7"
      },
      "outputs": [
        {
          "output_type": "stream",
          "name": "stdout",
          "text": [
            "Test data shape:  (367, 12)\n"
          ]
        },
        {
          "output_type": "execute_result",
          "data": {
            "text/plain": [
              "    Loan_ID Gender Married Dependents     Education Self_Employed  \\\n",
              "0  LP001015   Male     Yes          0      Graduate            No   \n",
              "1  LP001022   Male     Yes          1      Graduate            No   \n",
              "2  LP001031   Male     Yes          2      Graduate            No   \n",
              "3  LP001035   Male     Yes          2      Graduate            No   \n",
              "4  LP001051   Male      No          0  Not Graduate            No   \n",
              "\n",
              "   ApplicantIncome  CoapplicantIncome  LoanAmount  Loan_Amount_Term  \\\n",
              "0             5720                  0       110.0             360.0   \n",
              "1             3076               1500       126.0             360.0   \n",
              "2             5000               1800       208.0             360.0   \n",
              "3             2340               2546       100.0             360.0   \n",
              "4             3276                  0        78.0             360.0   \n",
              "\n",
              "   Credit_History Property_Area  \n",
              "0             1.0         Urban  \n",
              "1             1.0         Urban  \n",
              "2             1.0         Urban  \n",
              "3             NaN         Urban  \n",
              "4             1.0         Urban  "
            ],
            "text/html": [
              "\n",
              "  <div id=\"df-4e12f9eb-a915-47b2-b43a-c360bc255ed9\">\n",
              "    <div class=\"colab-df-container\">\n",
              "      <div>\n",
              "<style scoped>\n",
              "    .dataframe tbody tr th:only-of-type {\n",
              "        vertical-align: middle;\n",
              "    }\n",
              "\n",
              "    .dataframe tbody tr th {\n",
              "        vertical-align: top;\n",
              "    }\n",
              "\n",
              "    .dataframe thead th {\n",
              "        text-align: right;\n",
              "    }\n",
              "</style>\n",
              "<table border=\"1\" class=\"dataframe\">\n",
              "  <thead>\n",
              "    <tr style=\"text-align: right;\">\n",
              "      <th></th>\n",
              "      <th>Loan_ID</th>\n",
              "      <th>Gender</th>\n",
              "      <th>Married</th>\n",
              "      <th>Dependents</th>\n",
              "      <th>Education</th>\n",
              "      <th>Self_Employed</th>\n",
              "      <th>ApplicantIncome</th>\n",
              "      <th>CoapplicantIncome</th>\n",
              "      <th>LoanAmount</th>\n",
              "      <th>Loan_Amount_Term</th>\n",
              "      <th>Credit_History</th>\n",
              "      <th>Property_Area</th>\n",
              "    </tr>\n",
              "  </thead>\n",
              "  <tbody>\n",
              "    <tr>\n",
              "      <th>0</th>\n",
              "      <td>LP001015</td>\n",
              "      <td>Male</td>\n",
              "      <td>Yes</td>\n",
              "      <td>0</td>\n",
              "      <td>Graduate</td>\n",
              "      <td>No</td>\n",
              "      <td>5720</td>\n",
              "      <td>0</td>\n",
              "      <td>110.0</td>\n",
              "      <td>360.0</td>\n",
              "      <td>1.0</td>\n",
              "      <td>Urban</td>\n",
              "    </tr>\n",
              "    <tr>\n",
              "      <th>1</th>\n",
              "      <td>LP001022</td>\n",
              "      <td>Male</td>\n",
              "      <td>Yes</td>\n",
              "      <td>1</td>\n",
              "      <td>Graduate</td>\n",
              "      <td>No</td>\n",
              "      <td>3076</td>\n",
              "      <td>1500</td>\n",
              "      <td>126.0</td>\n",
              "      <td>360.0</td>\n",
              "      <td>1.0</td>\n",
              "      <td>Urban</td>\n",
              "    </tr>\n",
              "    <tr>\n",
              "      <th>2</th>\n",
              "      <td>LP001031</td>\n",
              "      <td>Male</td>\n",
              "      <td>Yes</td>\n",
              "      <td>2</td>\n",
              "      <td>Graduate</td>\n",
              "      <td>No</td>\n",
              "      <td>5000</td>\n",
              "      <td>1800</td>\n",
              "      <td>208.0</td>\n",
              "      <td>360.0</td>\n",
              "      <td>1.0</td>\n",
              "      <td>Urban</td>\n",
              "    </tr>\n",
              "    <tr>\n",
              "      <th>3</th>\n",
              "      <td>LP001035</td>\n",
              "      <td>Male</td>\n",
              "      <td>Yes</td>\n",
              "      <td>2</td>\n",
              "      <td>Graduate</td>\n",
              "      <td>No</td>\n",
              "      <td>2340</td>\n",
              "      <td>2546</td>\n",
              "      <td>100.0</td>\n",
              "      <td>360.0</td>\n",
              "      <td>NaN</td>\n",
              "      <td>Urban</td>\n",
              "    </tr>\n",
              "    <tr>\n",
              "      <th>4</th>\n",
              "      <td>LP001051</td>\n",
              "      <td>Male</td>\n",
              "      <td>No</td>\n",
              "      <td>0</td>\n",
              "      <td>Not Graduate</td>\n",
              "      <td>No</td>\n",
              "      <td>3276</td>\n",
              "      <td>0</td>\n",
              "      <td>78.0</td>\n",
              "      <td>360.0</td>\n",
              "      <td>1.0</td>\n",
              "      <td>Urban</td>\n",
              "    </tr>\n",
              "  </tbody>\n",
              "</table>\n",
              "</div>\n",
              "      <button class=\"colab-df-convert\" onclick=\"convertToInteractive('df-4e12f9eb-a915-47b2-b43a-c360bc255ed9')\"\n",
              "              title=\"Convert this dataframe to an interactive table.\"\n",
              "              style=\"display:none;\">\n",
              "        \n",
              "  <svg xmlns=\"http://www.w3.org/2000/svg\" height=\"24px\"viewBox=\"0 0 24 24\"\n",
              "       width=\"24px\">\n",
              "    <path d=\"M0 0h24v24H0V0z\" fill=\"none\"/>\n",
              "    <path d=\"M18.56 5.44l.94 2.06.94-2.06 2.06-.94-2.06-.94-.94-2.06-.94 2.06-2.06.94zm-11 1L8.5 8.5l.94-2.06 2.06-.94-2.06-.94L8.5 2.5l-.94 2.06-2.06.94zm10 10l.94 2.06.94-2.06 2.06-.94-2.06-.94-.94-2.06-.94 2.06-2.06.94z\"/><path d=\"M17.41 7.96l-1.37-1.37c-.4-.4-.92-.59-1.43-.59-.52 0-1.04.2-1.43.59L10.3 9.45l-7.72 7.72c-.78.78-.78 2.05 0 2.83L4 21.41c.39.39.9.59 1.41.59.51 0 1.02-.2 1.41-.59l7.78-7.78 2.81-2.81c.8-.78.8-2.07 0-2.86zM5.41 20L4 18.59l7.72-7.72 1.47 1.35L5.41 20z\"/>\n",
              "  </svg>\n",
              "      </button>\n",
              "      \n",
              "  <style>\n",
              "    .colab-df-container {\n",
              "      display:flex;\n",
              "      flex-wrap:wrap;\n",
              "      gap: 12px;\n",
              "    }\n",
              "\n",
              "    .colab-df-convert {\n",
              "      background-color: #E8F0FE;\n",
              "      border: none;\n",
              "      border-radius: 50%;\n",
              "      cursor: pointer;\n",
              "      display: none;\n",
              "      fill: #1967D2;\n",
              "      height: 32px;\n",
              "      padding: 0 0 0 0;\n",
              "      width: 32px;\n",
              "    }\n",
              "\n",
              "    .colab-df-convert:hover {\n",
              "      background-color: #E2EBFA;\n",
              "      box-shadow: 0px 1px 2px rgba(60, 64, 67, 0.3), 0px 1px 3px 1px rgba(60, 64, 67, 0.15);\n",
              "      fill: #174EA6;\n",
              "    }\n",
              "\n",
              "    [theme=dark] .colab-df-convert {\n",
              "      background-color: #3B4455;\n",
              "      fill: #D2E3FC;\n",
              "    }\n",
              "\n",
              "    [theme=dark] .colab-df-convert:hover {\n",
              "      background-color: #434B5C;\n",
              "      box-shadow: 0px 1px 3px 1px rgba(0, 0, 0, 0.15);\n",
              "      filter: drop-shadow(0px 1px 2px rgba(0, 0, 0, 0.3));\n",
              "      fill: #FFFFFF;\n",
              "    }\n",
              "  </style>\n",
              "\n",
              "      <script>\n",
              "        const buttonEl =\n",
              "          document.querySelector('#df-4e12f9eb-a915-47b2-b43a-c360bc255ed9 button.colab-df-convert');\n",
              "        buttonEl.style.display =\n",
              "          google.colab.kernel.accessAllowed ? 'block' : 'none';\n",
              "\n",
              "        async function convertToInteractive(key) {\n",
              "          const element = document.querySelector('#df-4e12f9eb-a915-47b2-b43a-c360bc255ed9');\n",
              "          const dataTable =\n",
              "            await google.colab.kernel.invokeFunction('convertToInteractive',\n",
              "                                                     [key], {});\n",
              "          if (!dataTable) return;\n",
              "\n",
              "          const docLinkHtml = 'Like what you see? Visit the ' +\n",
              "            '<a target=\"_blank\" href=https://colab.research.google.com/notebooks/data_table.ipynb>data table notebook</a>'\n",
              "            + ' to learn more about interactive tables.';\n",
              "          element.innerHTML = '';\n",
              "          dataTable['output_type'] = 'display_data';\n",
              "          await google.colab.output.renderOutput(dataTable, element);\n",
              "          const docLink = document.createElement('div');\n",
              "          docLink.innerHTML = docLinkHtml;\n",
              "          element.appendChild(docLink);\n",
              "        }\n",
              "      </script>\n",
              "    </div>\n",
              "  </div>\n",
              "  "
            ]
          },
          "metadata": {},
          "execution_count": 528
        }
      ],
      "source": [
        "print('Test data shape: ', test.shape)\n",
        "test.head()"
      ]
    },
    {
      "cell_type": "markdown",
      "metadata": {
        "_uuid": "c661381b9f4869dded6123c479aafcfff5bd55d8",
        "id": "OjBMhKYhAk2o"
      },
      "source": [
        "We have 614 rows and 13 columns in the train dataset and 367 rows and 12 columns in test dataset."
      ]
    },
    {
      "cell_type": "markdown",
      "source": [
        "# Exploratory Data Analysis (EDA)"
      ],
      "metadata": {
        "id": "NLV91reBSpul"
      }
    },
    {
      "cell_type": "markdown",
      "metadata": {
        "_uuid": "8c7887ee70a86c7cc6a003410e162d135e9a62e1",
        "id": "x-zaKwsXAk2o"
      },
      "source": [
        "# Target Variable"
      ]
    },
    {
      "cell_type": "markdown",
      "metadata": {
        "_uuid": "049e1840ddd6f5f9403148f987b364ac1239ef66",
        "id": "UCYdhrWeAk2o"
      },
      "source": [
        "We will first look at the target variable, i.e., Loan_Status.\n",
        "\n",
        "As it is a categorical variable, let us look at its frequency table, percentage distribution and bar plot."
      ]
    },
    {
      "cell_type": "markdown",
      "metadata": {
        "_uuid": "7b2e442e85fee55fd2aee595080f90ba7f009a20",
        "id": "ORNjrOknAk2p"
      },
      "source": [
        "Frequency table of a variable will give us the count of each category in that variable."
      ]
    },
    {
      "cell_type": "code",
      "execution_count": null,
      "metadata": {
        "_uuid": "eec9660b429bbbbd98f9594fb3a5109bd2f3ea67",
        "colab": {
          "base_uri": "https://localhost:8080/"
        },
        "id": "fBHB-1vqAk2p",
        "outputId": "18c5ab5b-e425-49f5-a8f3-251bc9ab7d8f"
      },
      "outputs": [
        {
          "output_type": "execute_result",
          "data": {
            "text/plain": [
              "614"
            ]
          },
          "metadata": {},
          "execution_count": 529
        }
      ],
      "source": [
        "#train[\"Loan_Status\"].size\n",
        "train[\"Loan_Status\"].count()"
      ]
    },
    {
      "cell_type": "markdown",
      "metadata": {
        "_uuid": "ca4dc6edb96959dc7ceb89e5f6db5b7f71bf5e84",
        "id": "CqVBYX0iAk2p"
      },
      "source": [
        "Size of our target variable is : 614"
      ]
    },
    {
      "cell_type": "code",
      "execution_count": null,
      "metadata": {
        "_uuid": "4d3928d89491e777183c7de216d377447ce64186",
        "colab": {
          "base_uri": "https://localhost:8080/"
        },
        "id": "OhHDlu21Ak2p",
        "outputId": "306c3d24-9550-45b5-85ff-e9d39a85edaf"
      },
      "outputs": [
        {
          "output_type": "execute_result",
          "data": {
            "text/plain": [
              "Y    422\n",
              "N    192\n",
              "Name: Loan_Status, dtype: int64"
            ]
          },
          "metadata": {},
          "execution_count": 530
        }
      ],
      "source": [
        "train[\"Loan_Status\"].value_counts()"
      ]
    },
    {
      "cell_type": "markdown",
      "metadata": {
        "_uuid": "647b43c2d0bfe0820ec9b02ab226aa6035fe0130",
        "id": "_GyNqT6CAk2p"
      },
      "source": [
        "Among 614 Loan_Status :\n",
        "Accepted : 422 \n",
        "Rejected : 192"
      ]
    },
    {
      "cell_type": "code",
      "execution_count": null,
      "metadata": {
        "_uuid": "7a53f12f542882478747e7f6469b5a2e75727e2c",
        "colab": {
          "base_uri": "https://localhost:8080/"
        },
        "id": "tbaf3pinAk2p",
        "outputId": "819be30d-9590-4a91-fe33-c73228517a09"
      },
      "outputs": [
        {
          "output_type": "execute_result",
          "data": {
            "text/plain": [
              "Y    68.729642\n",
              "N    31.270358\n",
              "Name: Loan_Status, dtype: float64"
            ]
          },
          "metadata": {},
          "execution_count": 531
        }
      ],
      "source": [
        "# Normalize can be set to True to print proportions instead of number \n",
        "train[\"Loan_Status\"].value_counts(normalize=True)*100"
      ]
    },
    {
      "cell_type": "code",
      "execution_count": null,
      "metadata": {
        "_uuid": "d2ffa47ed61b5ac403fc10b5cd935f50fc973ac1",
        "colab": {
          "base_uri": "https://localhost:8080/",
          "height": 296
        },
        "id": "UyytI20iAk2q",
        "outputId": "ce409788-4265-4097-e1fb-d7777c9e35b2"
      },
      "outputs": [
        {
          "output_type": "execute_result",
          "data": {
            "text/plain": [
              "<matplotlib.axes._subplots.AxesSubplot at 0x7f46e0deb210>"
            ]
          },
          "metadata": {},
          "execution_count": 532
        },
        {
          "output_type": "display_data",
          "data": {
            "text/plain": [
              "<Figure size 432x288 with 1 Axes>"
            ],
            "image/png": "[encoded data removed]"
          },
          "metadata": {
            "needs_background": "light"
          }
        }
      ],
      "source": [
        "train[\"Loan_Status\"].value_counts(normalize=True).plot.bar(title = 'Loan_Status')"
      ]
    },
    {
      "cell_type": "markdown",
      "metadata": {
        "_uuid": "4221c45888f97ffd84e346adb396a58f3ab7f98d",
        "id": "trBW7i_0Ak2q"
      },
      "source": [
        "The loan of 422(around 69%) people out of 614 was approved."
      ]
    },
    {
      "cell_type": "markdown",
      "metadata": {
        "_uuid": "73435e5742dc631c284df14b12bee4a86fbe3574",
        "id": "iiWw4EySAk2q"
      },
      "source": [
        "Now lets visualize each variable separately. Different types of variables are Categorical, ordinal and numerical."
      ]
    },
    {
      "cell_type": "markdown",
      "metadata": {
        "_uuid": "2f609146393ec79991fc37b83f75436c607c1661",
        "id": "Yw2g2a9xAk2q"
      },
      "source": [
        "Categorical features: These features have categories (Gender, Married, Self_Employed, Credit_History, Loan_Status)"
      ]
    },
    {
      "cell_type": "markdown",
      "metadata": {
        "_uuid": "b67622450ddb029cb470b125b08c0a06d0c3f29d",
        "id": "JmBG9Po2Ak2q"
      },
      "source": [
        "# Independent Variable (Categorical)"
      ]
    },
    {
      "cell_type": "markdown",
      "metadata": {
        "_uuid": "db2ab2be3d65b1d89d336fc3201ca4d0655146fa",
        "id": "bm4Vbb_HAk2q"
      },
      "source": [
        "# Analysis on \"Gender\" variable :"
      ]
    },
    {
      "cell_type": "code",
      "execution_count": null,
      "metadata": {
        "_uuid": "043ffbc2072e01264f52ff573ad289e57749cc38",
        "colab": {
          "base_uri": "https://localhost:8080/"
        },
        "id": "PAtm56l5Ak2q",
        "outputId": "622307b1-da7d-4be6-9f73-1336279422a7"
      },
      "outputs": [
        {
          "output_type": "execute_result",
          "data": {
            "text/plain": [
              "601"
            ]
          },
          "metadata": {},
          "execution_count": 533
        }
      ],
      "source": [
        "train[\"Gender\"].count()"
      ]
    },
    {
      "cell_type": "markdown",
      "metadata": {
        "_uuid": "f47db682c421b0005f2dbab0baa77f11ed15dbb1",
        "id": "Z_dPlogjAk2q"
      },
      "source": [
        "Size of our \"Gender\" variable is : 614"
      ]
    },
    {
      "cell_type": "code",
      "execution_count": null,
      "metadata": {
        "_uuid": "7a7f04b6f1f3463ce52388824dd5d29a7c94beee",
        "colab": {
          "base_uri": "https://localhost:8080/"
        },
        "id": "EbhiKScrAk2q",
        "outputId": "b0bc1752-3065-4adb-ba86-420332b60784"
      },
      "outputs": [
        {
          "output_type": "execute_result",
          "data": {
            "text/plain": [
              "Male      489\n",
              "Female    112\n",
              "Name: Gender, dtype: int64"
            ]
          },
          "metadata": {},
          "execution_count": 534
        }
      ],
      "source": [
        "train[\"Gender\"].value_counts()"
      ]
    },
    {
      "cell_type": "markdown",
      "metadata": {
        "_uuid": "397b6194e78e3b7ab6093a48a4bca9c05f19f6b9",
        "id": "og-cIMdeAk2r"
      },
      "source": [
        "Among 601 person: \n",
        "Male : 489 \n",
        "Female : 112"
      ]
    },
    {
      "cell_type": "code",
      "execution_count": null,
      "metadata": {
        "_uuid": "4952b9d859b49aff3786ff7ea4b68d3e97a8caf4",
        "colab": {
          "base_uri": "https://localhost:8080/"
        },
        "id": "ZrT0GrtZAk2r",
        "outputId": "db25e75f-eb90-4d7f-9dba-2b0d2ca96099"
      },
      "outputs": [
        {
          "output_type": "execute_result",
          "data": {
            "text/plain": [
              "Male      81.364393\n",
              "Female    18.635607\n",
              "Name: Gender, dtype: float64"
            ]
          },
          "metadata": {},
          "execution_count": 535
        }
      ],
      "source": [
        "train['Gender'].value_counts(normalize=True)*100"
      ]
    },
    {
      "cell_type": "code",
      "execution_count": null,
      "metadata": {
        "_uuid": "8700758af3eeba08aeea0330836def2a97954e79",
        "colab": {
          "base_uri": "https://localhost:8080/",
          "height": 324
        },
        "id": "QYoUDKmSAk2r",
        "outputId": "b253ef9a-f1ae-4304-ba55-1b838a8affff"
      },
      "outputs": [
        {
          "output_type": "execute_result",
          "data": {
            "text/plain": [
              "<matplotlib.axes._subplots.AxesSubplot at 0x7f46dff3b6d0>"
            ]
          },
          "metadata": {},
          "execution_count": 536
        },
        {
          "output_type": "display_data",
          "data": {
            "text/plain": [
              "<Figure size 432x288 with 1 Axes>"
            ],
            "image/png": "[encoded data removed]"
          },
          "metadata": {
            "needs_background": "light"
          }
        }
      ],
      "source": [
        "train['Gender'].value_counts(normalize=True).plot.bar(title= 'Gender')"
      ]
    },
    {
      "cell_type": "markdown",
      "metadata": {
        "_uuid": "0d27005f535781e50731f0bdf4437a6ef5d5c53b",
        "id": "9U4yebuSAk2r"
      },
      "source": [
        "In our train dataset the \"Gender\" variable contain\n",
        "Male : 81%\n",
        "Female: 19%     "
      ]
    },
    {
      "cell_type": "markdown",
      "metadata": {
        "_uuid": "8716f685afbfad573a547ac1809f2d95497d617e",
        "id": "1kpnSaOhAk2r"
      },
      "source": [
        "# Analysis on \"Married\" variable :"
      ]
    },
    {
      "cell_type": "code",
      "execution_count": null,
      "metadata": {
        "_uuid": "5260e5a84a3d612bf12835c062c87fed749bb455",
        "colab": {
          "base_uri": "https://localhost:8080/"
        },
        "id": "TI4tDSElAk2r",
        "outputId": "ad5072b6-d25f-4fe8-eca1-d7a7f9782f20"
      },
      "outputs": [
        {
          "output_type": "execute_result",
          "data": {
            "text/plain": [
              "611"
            ]
          },
          "metadata": {},
          "execution_count": 537
        }
      ],
      "source": [
        "train[\"Married\"].count()"
      ]
    },
    {
      "cell_type": "markdown",
      "metadata": {
        "_uuid": "be8e4d52c71f6cf2affbe7a7a2d72acae544403c",
        "id": "nJgVGPdxAk2r"
      },
      "source": [
        "Size of our \"Married\" variable is : 611"
      ]
    },
    {
      "cell_type": "code",
      "execution_count": null,
      "metadata": {
        "_uuid": "8293c7ca49b90a8643aab93619530e63b0fc6135",
        "colab": {
          "base_uri": "https://localhost:8080/"
        },
        "id": "70xDDeusAk2s",
        "outputId": "ebaf9f65-366b-4bed-8d3c-f3cee6e282c6"
      },
      "outputs": [
        {
          "output_type": "execute_result",
          "data": {
            "text/plain": [
              "Yes    398\n",
              "No     213\n",
              "Name: Married, dtype: int64"
            ]
          },
          "metadata": {},
          "execution_count": 538
        }
      ],
      "source": [
        "train[\"Married\"].value_counts()"
      ]
    },
    {
      "cell_type": "markdown",
      "metadata": {
        "_uuid": "61e540cc94836b7a6f73f50583e2db84cbddd41f",
        "id": "xroslSHaAk2s"
      },
      "source": [
        "Total number of people : 611\n",
        "\n",
        "Married : 398\n",
        "\n",
        "Unmarried : 213    "
      ]
    },
    {
      "cell_type": "code",
      "execution_count": null,
      "metadata": {
        "_uuid": "ac7b58fce7c19298d3278896dff21e3e2b26deb3",
        "colab": {
          "base_uri": "https://localhost:8080/"
        },
        "id": "WdmyDpYgAk2s",
        "outputId": "c1a807e2-123c-4d7a-ef68-daf0c9193b40"
      },
      "outputs": [
        {
          "output_type": "execute_result",
          "data": {
            "text/plain": [
              "Yes    65.139116\n",
              "No     34.860884\n",
              "Name: Married, dtype: float64"
            ]
          },
          "metadata": {},
          "execution_count": 539
        }
      ],
      "source": [
        "train['Married'].value_counts(normalize=True)*100"
      ]
    },
    {
      "cell_type": "code",
      "execution_count": null,
      "metadata": {
        "_uuid": "e49d98637a1006ea2e68a69b51094bda42f485d4",
        "colab": {
          "base_uri": "https://localhost:8080/",
          "height": 304
        },
        "id": "bI6SQzpOAk2s",
        "outputId": "1d73828b-6ffc-4672-cd19-0af431bd83ea"
      },
      "outputs": [
        {
          "output_type": "execute_result",
          "data": {
            "text/plain": [
              "<matplotlib.axes._subplots.AxesSubplot at 0x7f46dfeba8d0>"
            ]
          },
          "metadata": {},
          "execution_count": 540
        },
        {
          "output_type": "display_data",
          "data": {
            "text/plain": [
              "<Figure size 432x288 with 1 Axes>"
            ],
            "image/png": "[encoded data removed]"
          },
          "metadata": {
            "needs_background": "light"
          }
        }
      ],
      "source": [
        "train['Married'].value_counts(normalize=True).plot.bar(title= 'Married')"
      ]
    },
    {
      "cell_type": "markdown",
      "metadata": {
        "_uuid": "564cca5f2adee036022710e24ce05974bda50724",
        "id": "73uv3tY9Ak2s"
      },
      "source": [
        "From the Grapch we see that :\n",
        "\n",
        "Number of married people : 65%\n",
        "\n",
        "Number of unmarried people : 35%    "
      ]
    },
    {
      "cell_type": "markdown",
      "metadata": {
        "_uuid": "bc490415258095a11b7215bb5fa896b4c5b98764",
        "id": "yiTHq7DvAk2s"
      },
      "source": [
        "# Analysis on \"Self_Employed\" variable : "
      ]
    },
    {
      "cell_type": "code",
      "execution_count": null,
      "metadata": {
        "_uuid": "82a17178745cc4712493e08fdab6832ab88f0576",
        "colab": {
          "base_uri": "https://localhost:8080/"
        },
        "id": "oVS8669TAk2s",
        "outputId": "141213c6-2f5e-4d4f-9f87-bce3c99952dd"
      },
      "outputs": [
        {
          "output_type": "execute_result",
          "data": {
            "text/plain": [
              "582"
            ]
          },
          "metadata": {},
          "execution_count": 541
        }
      ],
      "source": [
        "train[\"Self_Employed\"].count()"
      ]
    },
    {
      "cell_type": "markdown",
      "metadata": {
        "_uuid": "087451513d74f1aa94f98851c95fbeb2d09fd501",
        "id": "9XoGs3rmAk2t"
      },
      "source": [
        "Size of our \"Self_Employed\" variable is : 582"
      ]
    },
    {
      "cell_type": "code",
      "execution_count": null,
      "metadata": {
        "_uuid": "576a5f0eaff4f32f0d262b29e3ec2c3c6fb17816",
        "colab": {
          "base_uri": "https://localhost:8080/"
        },
        "id": "jzWI-DFjAk2t",
        "outputId": "c387f014-5ab8-4d6c-f030-7e9df9f58b75"
      },
      "outputs": [
        {
          "output_type": "execute_result",
          "data": {
            "text/plain": [
              "No     500\n",
              "Yes     82\n",
              "Name: Self_Employed, dtype: int64"
            ]
          },
          "metadata": {},
          "execution_count": 542
        }
      ],
      "source": [
        "train[\"Self_Employed\"].value_counts()"
      ]
    },
    {
      "cell_type": "markdown",
      "metadata": {
        "_uuid": "b40e889caacd1fcf4b23904d4dd75bf5a81910e7",
        "id": "QRJ7M63lAk2t"
      },
      "source": [
        "Total number of people : 582\n",
        "\n",
        "Self_Employed : 82\n",
        "\n",
        "Not_Self_Employed : 500"
      ]
    },
    {
      "cell_type": "code",
      "execution_count": null,
      "metadata": {
        "_uuid": "b952ab2c65ccdda7de675b96971f16239318ef9b",
        "colab": {
          "base_uri": "https://localhost:8080/"
        },
        "id": "rL-0Yv2qAk2t",
        "outputId": "8ba3cf0b-4160-4656-b300-84c9ff75b379"
      },
      "outputs": [
        {
          "output_type": "execute_result",
          "data": {
            "text/plain": [
              "No     85.910653\n",
              "Yes    14.089347\n",
              "Name: Self_Employed, dtype: float64"
            ]
          },
          "metadata": {},
          "execution_count": 543
        }
      ],
      "source": [
        "train['Self_Employed'].value_counts(normalize=True)*100"
      ]
    },
    {
      "cell_type": "code",
      "execution_count": null,
      "metadata": {
        "_uuid": "1674948e9f8eefadb3e773e71d25cc539c0a6753",
        "colab": {
          "base_uri": "https://localhost:8080/",
          "height": 304
        },
        "id": "1TrkqTxOAk2t",
        "outputId": "b66678aa-198b-4a67-9f85-9ba4b844e8dc"
      },
      "outputs": [
        {
          "output_type": "execute_result",
          "data": {
            "text/plain": [
              "<matplotlib.axes._subplots.AxesSubplot at 0x7f46dfe2c450>"
            ]
          },
          "metadata": {},
          "execution_count": 544
        },
        {
          "output_type": "display_data",
          "data": {
            "text/plain": [
              "<Figure size 432x288 with 1 Axes>"
            ],
            "image/png": "[encoded data removed]"
          },
          "metadata": {
            "needs_background": "light"
          }
        }
      ],
      "source": [
        "train['Self_Employed'].value_counts(normalize=True).plot.bar(title='Self_Employed')"
      ]
    },
    {
      "cell_type": "markdown",
      "metadata": {
        "_uuid": "a92815e3138a5cfee5cad0b0f84c3ef6e2663f09",
        "id": "xIXVt4bbAk2t"
      },
      "source": [
        "Among 582 people only 14% are Self_Employed and rest of the 86% are Not_Self_Employed"
      ]
    },
    {
      "cell_type": "markdown",
      "metadata": {
        "_uuid": "3d320b376831726b8796e75fb6f39f7b0dcbeb29",
        "id": "mvdWwZFGAk2t"
      },
      "source": [
        "# Analysis on \"Credit_History\" variable :"
      ]
    },
    {
      "cell_type": "code",
      "execution_count": null,
      "metadata": {
        "_uuid": "75f5b4efdcb7aa91398b66e83693e41a7830b05d",
        "colab": {
          "base_uri": "https://localhost:8080/"
        },
        "id": "6NxHNHBPAk2t",
        "outputId": "ceb28d2b-69c1-4c48-cd4f-bd4762578895"
      },
      "outputs": [
        {
          "output_type": "execute_result",
          "data": {
            "text/plain": [
              "564"
            ]
          },
          "metadata": {},
          "execution_count": 545
        }
      ],
      "source": [
        "train[\"Credit_History\"].count()"
      ]
    },
    {
      "cell_type": "markdown",
      "metadata": {
        "_uuid": "5266c4c56d54f37bf4ac95a6a32f3debf668e62e",
        "id": "ORgbrOfJAk2t"
      },
      "source": [
        "Size of our \"Credit_History\" variable is : 564"
      ]
    },
    {
      "cell_type": "code",
      "execution_count": null,
      "metadata": {
        "_uuid": "94e79d30be08624c95d72e38ec7ea777cdc69e9d",
        "colab": {
          "base_uri": "https://localhost:8080/"
        },
        "id": "jGo9KEJBAk2u",
        "outputId": "6d854dd3-301d-4eee-8e78-1db13cfaf997"
      },
      "outputs": [
        {
          "output_type": "execute_result",
          "data": {
            "text/plain": [
              "1.0    475\n",
              "0.0     89\n",
              "Name: Credit_History, dtype: int64"
            ]
          },
          "metadata": {},
          "execution_count": 546
        }
      ],
      "source": [
        "train[\"Credit_History\"].value_counts()"
      ]
    },
    {
      "cell_type": "markdown",
      "metadata": {
        "_uuid": "242303aa89d615f66169c83c2e3c6fcddd283592",
        "id": "ja4BEgRUAk2u"
      },
      "source": [
        "Total number of debts : 564\n",
        "\n",
        "Repaid Debts : 475\n",
        "\n",
        "Not Repaid Debts : 89    "
      ]
    },
    {
      "cell_type": "code",
      "execution_count": null,
      "metadata": {
        "_uuid": "5d3aa37f879e88d0433b4a9a86a7c771d560a156",
        "colab": {
          "base_uri": "https://localhost:8080/"
        },
        "id": "NypclplbAk2u",
        "outputId": "7b2364e7-1d0b-47b3-f7fa-f3671d6d1bd8"
      },
      "outputs": [
        {
          "output_type": "execute_result",
          "data": {
            "text/plain": [
              "1.0    84.219858\n",
              "0.0    15.780142\n",
              "Name: Credit_History, dtype: float64"
            ]
          },
          "metadata": {},
          "execution_count": 547
        }
      ],
      "source": [
        "train['Credit_History'].value_counts(normalize=True)*100"
      ]
    },
    {
      "cell_type": "code",
      "execution_count": null,
      "metadata": {
        "_uuid": "630a2649c89f664e2874a47f92ac8e09fe85c9a3",
        "colab": {
          "base_uri": "https://localhost:8080/",
          "height": 304
        },
        "id": "Xi176Ap5Ak2u",
        "outputId": "00904ca5-1d87-4ee2-bcbc-b2ea01c33d03"
      },
      "outputs": [
        {
          "output_type": "execute_result",
          "data": {
            "text/plain": [
              "<matplotlib.axes._subplots.AxesSubplot at 0x7f46dfe93c10>"
            ]
          },
          "metadata": {},
          "execution_count": 548
        },
        {
          "output_type": "display_data",
          "data": {
            "text/plain": [
              "<Figure size 432x288 with 1 Axes>"
            ],
            "image/png": "[encoded data removed]"
          },
          "metadata": {
            "needs_background": "light"
          }
        }
      ],
      "source": [
        "train['Credit_History'].value_counts(normalize=True).plot.bar(title='Credit_History')\n"
      ]
    },
    {
      "cell_type": "markdown",
      "metadata": {
        "_uuid": "f9cb0b59105dc8b44cc75d56a00dc3c8a298416d",
        "id": "AaTv_6e8Ak2u"
      },
      "source": [
        "Around 84% applicants have repaid their debts."
      ]
    },
    {
      "cell_type": "markdown",
      "metadata": {
        "_uuid": "8f5866e8f4165b3d8411cdd39e27f087b73a95fe",
        "id": "bVQb7rKDAk2u"
      },
      "source": [
        "Ordinal features: Variables in categorical features having some order involved (Dependents, Education, Property_Area)"
      ]
    },
    {
      "cell_type": "markdown",
      "metadata": {
        "_uuid": "1d0876e4a9e5c3458f5258b8fc7ee35061cb1b44",
        "id": "VB-qX0T7Ak2u"
      },
      "source": [
        "# Independent Variable (Ordinal)"
      ]
    },
    {
      "cell_type": "markdown",
      "metadata": {
        "_uuid": "162ff964d3c5a0d1de6a663f09968c3221a70911",
        "id": "jiyngjmYAk2u"
      },
      "source": [
        "Ordinal features: Variables in categorical features having some order involved (Dependents, Education, Property_Area)"
      ]
    },
    {
      "cell_type": "markdown",
      "metadata": {
        "_uuid": "62a4ac2bac000b763a1d97fe6879895888224661",
        "id": "uySKb9jJAk2u"
      },
      "source": [
        "# Analysis on \"Dependents\" variable :"
      ]
    },
    {
      "cell_type": "code",
      "execution_count": null,
      "metadata": {
        "_uuid": "0627a1636e2a28fb9f1847b7a303775809da0f64",
        "colab": {
          "base_uri": "https://localhost:8080/"
        },
        "id": "NvOeClIeAk2v",
        "outputId": "3eff215b-abba-491e-a0ae-429ae61258db"
      },
      "outputs": [
        {
          "output_type": "execute_result",
          "data": {
            "text/plain": [
              "599"
            ]
          },
          "metadata": {},
          "execution_count": 549
        }
      ],
      "source": [
        "train['Dependents'].count()"
      ]
    },
    {
      "cell_type": "markdown",
      "metadata": {
        "_uuid": "7cfcc8ee54d6a89ef6cb5a12180e1100a968649d",
        "id": "WOFrHcl-Ak2v"
      },
      "source": [
        "Size of our \"Dependents\" variable is : 599"
      ]
    },
    {
      "cell_type": "code",
      "execution_count": null,
      "metadata": {
        "_uuid": "e89cc36eaebc8aa69c24a7cfec01ddc8ebf9b152",
        "colab": {
          "base_uri": "https://localhost:8080/"
        },
        "id": "bZyZmk-kAk2v",
        "outputId": "accb8424-e2fd-4f65-a0b9-1cba30b1f0f6"
      },
      "outputs": [
        {
          "output_type": "execute_result",
          "data": {
            "text/plain": [
              "0     345\n",
              "1     102\n",
              "2     101\n",
              "3+     51\n",
              "Name: Dependents, dtype: int64"
            ]
          },
          "metadata": {},
          "execution_count": 550
        }
      ],
      "source": [
        "train[\"Dependents\"].value_counts()"
      ]
    },
    {
      "cell_type": "markdown",
      "metadata": {
        "_uuid": "7022370553f01e8a176bc1d289b00f1673e59499",
        "id": "GhAe7ryaAk2v"
      },
      "source": [
        "Number of 0 Dependent : 345\n",
        "\n",
        "Number of 1 Dependent : 102\n",
        "\n",
        "Number of 2 Dependesnt : 101\n",
        "\n",
        "Number of 3+ Dependent : 51"
      ]
    },
    {
      "cell_type": "code",
      "execution_count": null,
      "metadata": {
        "_uuid": "8d74b3b0e9fc096c4e28a975c79aa123316645d2",
        "colab": {
          "base_uri": "https://localhost:8080/"
        },
        "id": "Li6B8nteAk2v",
        "outputId": "aaad09ef-b413-467f-d686-36cdf0f07d33"
      },
      "outputs": [
        {
          "output_type": "execute_result",
          "data": {
            "text/plain": [
              "0     57.595993\n",
              "1     17.028381\n",
              "2     16.861436\n",
              "3+     8.514190\n",
              "Name: Dependents, dtype: float64"
            ]
          },
          "metadata": {},
          "execution_count": 551
        }
      ],
      "source": [
        "train['Dependents'].value_counts(normalize=True)*100"
      ]
    },
    {
      "cell_type": "code",
      "execution_count": null,
      "metadata": {
        "_uuid": "d9a5fe8558178314adbff17efb19aed42596761c",
        "colab": {
          "base_uri": "https://localhost:8080/",
          "height": 303
        },
        "id": "yzrmQYq9Ak2v",
        "outputId": "eef73e74-351e-4de7-96bc-b40ed02c55cf"
      },
      "outputs": [
        {
          "output_type": "execute_result",
          "data": {
            "text/plain": [
              "<matplotlib.axes._subplots.AxesSubplot at 0x7f46dfd0a310>"
            ]
          },
          "metadata": {},
          "execution_count": 552
        },
        {
          "output_type": "display_data",
          "data": {
            "text/plain": [
              "<Figure size 432x288 with 1 Axes>"
            ],
            "image/png": "[encoded data removed]"
          },
          "metadata": {
            "needs_background": "light"
          }
        }
      ],
      "source": [
        "train['Dependents'].value_counts(normalize=True).plot.bar(title=\"Dependents\")"
      ]
    },
    {
      "cell_type": "markdown",
      "metadata": {
        "_uuid": "c7b3a497f41df12ea285efffb90b204f1d565545",
        "id": "B9h1XtcYAk2v"
      },
      "source": [
        "58% people have 0 dependent\n",
        "\n",
        "17% people have 1 dependent\n",
        "\n",
        "17% people have 2 dependent\n",
        "\n",
        "8% people have 3+ dependent"
      ]
    },
    {
      "cell_type": "markdown",
      "metadata": {
        "_uuid": "413a4e61a815d13009dc498d9e49eed3d3ffafd9",
        "id": "dw42BMjiAk2w"
      },
      "source": [
        "# Analysis on \"Education\" variable :"
      ]
    },
    {
      "cell_type": "code",
      "execution_count": null,
      "metadata": {
        "_uuid": "6a2b4dcc6c8db8fc1b940d872d7fca59cc619574",
        "colab": {
          "base_uri": "https://localhost:8080/"
        },
        "id": "h0CvvHR_Ak2w",
        "outputId": "7d8c28f0-8743-4868-e1b6-f84a24137a9c"
      },
      "outputs": [
        {
          "output_type": "execute_result",
          "data": {
            "text/plain": [
              "614"
            ]
          },
          "metadata": {},
          "execution_count": 553
        }
      ],
      "source": [
        "train[\"Education\"].count()"
      ]
    },
    {
      "cell_type": "markdown",
      "metadata": {
        "_uuid": "23bf5801a119596164795a95cc6e1ed2942e1dab",
        "id": "Mkfuh6GWAk2w"
      },
      "source": [
        "Size of Education variable : 614"
      ]
    },
    {
      "cell_type": "code",
      "execution_count": null,
      "metadata": {
        "_uuid": "535edaeb4c1941d4b936d83c19860acfa2472a6b",
        "colab": {
          "base_uri": "https://localhost:8080/"
        },
        "id": "ZLbApxjgAk2w",
        "outputId": "014648a1-da52-45ac-d1fb-fa5c5b6ff977"
      },
      "outputs": [
        {
          "output_type": "execute_result",
          "data": {
            "text/plain": [
              "Graduate        480\n",
              "Not Graduate    134\n",
              "Name: Education, dtype: int64"
            ]
          },
          "metadata": {},
          "execution_count": 554
        }
      ],
      "source": [
        "train[\"Education\"].value_counts()"
      ]
    },
    {
      "cell_type": "markdown",
      "metadata": {
        "_uuid": "c8b60ae414b444ac68b9535316c01b404badd6b9",
        "id": "Mbt-FOoDAk2w"
      },
      "source": [
        "People who are Graduated : 480\n",
        "\n",
        "People who are not Graduated : 134"
      ]
    },
    {
      "cell_type": "code",
      "execution_count": null,
      "metadata": {
        "_uuid": "e4af36d23023c97b3a5d9d94347bb6a84a9cd2c0",
        "colab": {
          "base_uri": "https://localhost:8080/"
        },
        "id": "AxfE__mwAk2w",
        "outputId": "58ee7c90-0856-4a05-a03a-29d7a5a9f0e0"
      },
      "outputs": [
        {
          "output_type": "execute_result",
          "data": {
            "text/plain": [
              "Graduate        78.175896\n",
              "Not Graduate    21.824104\n",
              "Name: Education, dtype: float64"
            ]
          },
          "metadata": {},
          "execution_count": 555
        }
      ],
      "source": [
        "train[\"Education\"].value_counts(normalize=True)*100"
      ]
    },
    {
      "cell_type": "code",
      "execution_count": null,
      "metadata": {
        "_uuid": "e8f7a19ca48a78b23c25bf8a04a8ebf7e174e0e0",
        "colab": {
          "base_uri": "https://localhost:8080/",
          "height": 356
        },
        "id": "ZycHpS1rAk2w",
        "outputId": "7e3f6310-f8da-4234-a11e-9424eb320896"
      },
      "outputs": [
        {
          "output_type": "execute_result",
          "data": {
            "text/plain": [
              "<matplotlib.axes._subplots.AxesSubplot at 0x7f46dfc96590>"
            ]
          },
          "metadata": {},
          "execution_count": 556
        },
        {
          "output_type": "display_data",
          "data": {
            "text/plain": [
              "<Figure size 432x288 with 1 Axes>"
            ],
            "image/png": "[encoded data removed]"
          },
          "metadata": {
            "needs_background": "light"
          }
        }
      ],
      "source": [
        "train[\"Education\"].value_counts(normalize=True).plot.bar(title = \"Education\")"
      ]
    },
    {
      "cell_type": "markdown",
      "metadata": {
        "_uuid": "8de010f77bd6db55428ee0829bda484f96e6db60",
        "id": "OKm2qpAKAk2w"
      },
      "source": [
        "Total number of People : 614\n",
        "\n",
        "78% are Graduated and 22% are not Graduated"
      ]
    },
    {
      "cell_type": "markdown",
      "metadata": {
        "_uuid": "06020d0e583d1730ef7ca36551e096b9807a81ba",
        "id": "iL6nPqj9Ak2w"
      },
      "source": [
        "# Analysis on \"Property_Area\" variable :"
      ]
    },
    {
      "cell_type": "code",
      "execution_count": null,
      "metadata": {
        "_uuid": "5473c754913bfd0f8ff7804e5a40dfe17a491d86",
        "colab": {
          "base_uri": "https://localhost:8080/"
        },
        "id": "p_u-oWUIAk2w",
        "outputId": "ed720a59-ec4e-4fd0-b085-0170df6b2cc6"
      },
      "outputs": [
        {
          "output_type": "execute_result",
          "data": {
            "text/plain": [
              "614"
            ]
          },
          "metadata": {},
          "execution_count": 557
        }
      ],
      "source": [
        "train[\"Property_Area\"].count()"
      ]
    },
    {
      "cell_type": "markdown",
      "metadata": {
        "_uuid": "296c42c65984ca1c06175c711ad5c3694ea4c455",
        "id": "y5HP44sSAk2x"
      },
      "source": [
        "Size of \"Property_Area\" variable : 614"
      ]
    },
    {
      "cell_type": "code",
      "execution_count": null,
      "metadata": {
        "_uuid": "b61cad840f8a1330ca24f0e16756f3f79c8be65c",
        "colab": {
          "base_uri": "https://localhost:8080/"
        },
        "id": "x0LM3VG5Ak2x",
        "outputId": "4b1038eb-60f4-43d3-d70e-ef325ef28f29"
      },
      "outputs": [
        {
          "output_type": "execute_result",
          "data": {
            "text/plain": [
              "Semiurban    233\n",
              "Urban        202\n",
              "Rural        179\n",
              "Name: Property_Area, dtype: int64"
            ]
          },
          "metadata": {},
          "execution_count": 558
        }
      ],
      "source": [
        "train[\"Property_Area\"].value_counts()"
      ]
    },
    {
      "cell_type": "markdown",
      "metadata": {
        "_uuid": "9044cabdce191e13aa63d1339d0b315fdc523771",
        "id": "I9fhiL88Ak2x"
      },
      "source": [
        "Total number of People : 614\n",
        "\n",
        "People from Semiurban area : 233\n",
        "\n",
        "People from Urban area : 202\n",
        "\n",
        "People from Rural area : 179\n",
        "    "
      ]
    },
    {
      "cell_type": "code",
      "execution_count": null,
      "metadata": {
        "_uuid": "dfd0daa2891f14cc82d2c621be68bb338d304606",
        "colab": {
          "base_uri": "https://localhost:8080/"
        },
        "id": "FRb2Ia5QAk2x",
        "outputId": "ad708fd6-ee71-437b-e05c-e7e55e51c5b1"
      },
      "outputs": [
        {
          "output_type": "execute_result",
          "data": {
            "text/plain": [
              "Semiurban    37.947883\n",
              "Urban        32.899023\n",
              "Rural        29.153094\n",
              "Name: Property_Area, dtype: float64"
            ]
          },
          "metadata": {},
          "execution_count": 559
        }
      ],
      "source": [
        "train[\"Property_Area\"].value_counts(normalize=True)*100"
      ]
    },
    {
      "cell_type": "code",
      "execution_count": null,
      "metadata": {
        "_uuid": "6c6c8f8db1d22bd69fddfbf4b5fff47653a4107d",
        "colab": {
          "base_uri": "https://localhost:8080/",
          "height": 342
        },
        "id": "raf4NVQqAk2x",
        "outputId": "f7ecf93f-47e4-40af-e16e-5fd39390e27c"
      },
      "outputs": [
        {
          "output_type": "execute_result",
          "data": {
            "text/plain": [
              "<matplotlib.axes._subplots.AxesSubplot at 0x7f46dff0c4d0>"
            ]
          },
          "metadata": {},
          "execution_count": 560
        },
        {
          "output_type": "display_data",
          "data": {
            "text/plain": [
              "<Figure size 432x288 with 1 Axes>"
            ],
            "image/png": "[encoded data removed]"
          },
          "metadata": {
            "needs_background": "light"
          }
        }
      ],
      "source": [
        "train[\"Property_Area\"].value_counts(normalize=True).plot.bar(title=\"Property_Area\")"
      ]
    },
    {
      "cell_type": "markdown",
      "metadata": {
        "_uuid": "cad30f1e73cba001237ef4650e32c741afe71f10",
        "id": "8YmK_wMpAk2x"
      },
      "source": [
        "38% people from Semiurban area\n",
        "\n",
        "33% people from Urban area\n",
        "\n",
        "29% people from Rural area"
      ]
    },
    {
      "cell_type": "markdown",
      "metadata": {
        "_uuid": "93104b0a05058d336004556796adc9c16541dd63",
        "id": "b0YSh13WAk2x"
      },
      "source": [
        "# Independent Variable (Numerical)"
      ]
    },
    {
      "cell_type": "markdown",
      "metadata": {
        "_uuid": "6bd2476eee9e0665849d93385cb0f216f7bc7d04",
        "id": "jgG2xyJzAk2x"
      },
      "source": [
        "Numerical features: These features have numerical values (ApplicantIncome, CoapplicantIncome, LoanAmount, Loan_Amount_Term)"
      ]
    },
    {
      "cell_type": "markdown",
      "metadata": {
        "_uuid": "bc5b58d7c735cd06d21450d06d5a605bf7b87f46",
        "id": "QF_N2uueAk2x"
      },
      "source": [
        "# \"ApplicantIncome\" distribution :"
      ]
    },
    {
      "cell_type": "code",
      "execution_count": null,
      "metadata": {
        "_uuid": "f947095ee79ede803a415810675121087fef00ff",
        "colab": {
          "base_uri": "https://localhost:8080/",
          "height": 334
        },
        "id": "bf9WuNIHAk2y",
        "outputId": "d3c52c8c-22d4-476e-f60d-2730e6048c3f"
      },
      "outputs": [
        {
          "output_type": "display_data",
          "data": {
            "text/plain": [
              "<Figure size 1152x360 with 2 Axes>"
            ],
            "image/png": "[encoded data removed]"
          },
          "metadata": {
            "needs_background": "light"
          }
        }
      ],
      "source": [
        "plt.figure(1)\n",
        "plt.subplot(121)\n",
        "sns.distplot(train[\"ApplicantIncome\"]);\n",
        "\n",
        "plt.subplot(122)\n",
        "train[\"ApplicantIncome\"].plot.box(figsize=(16,5))\n",
        "plt.show()"
      ]
    },
    {
      "cell_type": "markdown",
      "metadata": {
        "_uuid": "8ffa5588a51db431a0610d3e8890c18c7c856d30",
        "id": "5eE6TVPDAk2y"
      },
      "source": [
        "It can be inferred that most of the data in the distribution of applicant income is towards left which means it is not normally distributed. We will try to make it normal in later sections as algorithms works better if the data is normally distributed.\n",
        "\n",
        "The boxplot confirms the presence of a lot of outliers/extreme values. This can be attributed to the income disparity in the society."
      ]
    },
    {
      "cell_type": "markdown",
      "metadata": {
        "_uuid": "8689c62bad73da42141e36cb9fb9105ab822154b",
        "id": "UphoIEfiAk2y"
      },
      "source": [
        "Part of this can be driven by the fact that we are looking at people with different education levels. Let us segregate them by Education:"
      ]
    },
    {
      "cell_type": "code",
      "execution_count": null,
      "metadata": {
        "_uuid": "f7de79199eeafef79d545d3f008e584b9cf213fb",
        "colab": {
          "base_uri": "https://localhost:8080/",
          "height": 301
        },
        "id": "uur5M82nAk2y",
        "outputId": "a2737311-cfb5-4e95-df31-088a2cb0acbb"
      },
      "outputs": [
        {
          "output_type": "display_data",
          "data": {
            "text/plain": [
              "<Figure size 432x288 with 1 Axes>"
            ],
            "image/png": "[encoded data removed]"
          },
          "metadata": {
            "needs_background": "light"
          }
        }
      ],
      "source": [
        "train.boxplot(column='ApplicantIncome',by=\"Education\" )\n",
        "plt.suptitle(\" \")\n",
        "plt.show()"
      ]
    },
    {
      "cell_type": "markdown",
      "metadata": {
        "_uuid": "f20c2f3fff9c5e66cfb9d8021b21e317f1a0078a",
        "id": "XMIvbZ69Ak2y"
      },
      "source": [
        "We can see that there are a higher number of graduates with very high incomes, which are appearing to be the outliers."
      ]
    },
    {
      "cell_type": "markdown",
      "metadata": {
        "_uuid": "88fab85ad99dad708c91fbf16ca80ac51ce21f6d",
        "id": "ZdsL1v8-Ak2y"
      },
      "source": [
        "# Let’s look at the \"CoapplicantIncome\" distribution:\n"
      ]
    },
    {
      "cell_type": "code",
      "execution_count": null,
      "metadata": {
        "_uuid": "78ceae0bb3459a3baf7b94d2886d10e1da3e349a",
        "scrolled": true,
        "colab": {
          "base_uri": "https://localhost:8080/",
          "height": 334
        },
        "id": "0_iiuhEDAk2y",
        "outputId": "da698670-0168-4a74-eedb-f079ae26be08"
      },
      "outputs": [
        {
          "output_type": "display_data",
          "data": {
            "text/plain": [
              "<Figure size 1152x360 with 2 Axes>"
            ],
            "image/png": "[encoded data removed]"
          },
          "metadata": {
            "needs_background": "light"
          }
        }
      ],
      "source": [
        "plt.figure(1)\n",
        "plt.subplot(121)\n",
        "sns.distplot(train[\"CoapplicantIncome\"]);\n",
        "\n",
        "plt.subplot(122)\n",
        "train[\"CoapplicantIncome\"].plot.box(figsize=(16,5))\n",
        "plt.show()"
      ]
    },
    {
      "cell_type": "markdown",
      "metadata": {
        "_uuid": "6c3886f52129e84b9a6e3aba1f8b922e28da14b6",
        "id": "Ug9DQ2fWAk2y"
      },
      "source": [
        "We see a similar distribution as that of the applicant income. Majority of coapplicant’s income ranges from 0 to 5000. We also see a lot of outliers in the coapplicant income and it is not normally distributed."
      ]
    },
    {
      "cell_type": "markdown",
      "metadata": {
        "_uuid": "09024ce0065d29398cdb4eafea33990ef1e686da",
        "id": "jfhF1dFRAk2z"
      },
      "source": [
        "# Let’s look at the distribution of \"LoanAmount\" variable :"
      ]
    },
    {
      "cell_type": "code",
      "execution_count": null,
      "metadata": {
        "_uuid": "5948a1968c78125a467ca71cd05fb3cb1cf1dba0",
        "colab": {
          "base_uri": "https://localhost:8080/",
          "height": 334
        },
        "id": "52E20c0yAk2z",
        "outputId": "c4de864a-2a35-4645-dad1-859db40e72d0"
      },
      "outputs": [
        {
          "output_type": "display_data",
          "data": {
            "text/plain": [
              "<Figure size 1152x360 with 2 Axes>"
            ],
            "image/png": "[encoded data removed]"
          },
          "metadata": {
            "needs_background": "light"
          }
        }
      ],
      "source": [
        "plt.figure(1)\n",
        "plt.subplot(121)\n",
        "df=train.dropna()\n",
        "sns.distplot(df['LoanAmount']);\n",
        "\n",
        "plt.subplot(122)\n",
        "train['LoanAmount'].plot.box(figsize=(16,5))\n",
        "\n",
        "plt.show()"
      ]
    },
    {
      "cell_type": "markdown",
      "metadata": {
        "_uuid": "331754993368ad6e09084e855f0dd3ea17c78670",
        "id": "aXns2BzLAk2z"
      },
      "source": [
        "We see a lot of outliers in this variable and the distribution is fairly normal. We will treat the outliers in later sections."
      ]
    },
    {
      "cell_type": "markdown",
      "metadata": {
        "_uuid": "cbc26856fe8e26a664b5e5a2ceb7fecc0c4dca03",
        "id": "YrYaCgzbAk2z"
      },
      "source": [
        "# distribution of \"LoanAmountTerm\" variable :"
      ]
    },
    {
      "cell_type": "code",
      "execution_count": null,
      "metadata": {
        "_uuid": "c393db36719526292ab83ec64e2a3764b45ef374",
        "colab": {
          "base_uri": "https://localhost:8080/",
          "height": 337
        },
        "id": "xr4VuB0MAk2z",
        "outputId": "080c09a0-cf77-491d-a5f3-919be7ea8ee5"
      },
      "outputs": [
        {
          "output_type": "display_data",
          "data": {
            "text/plain": [
              "<Figure size 1152x360 with 2 Axes>"
            ],
            "image/png": "[encoded data removed]"
          },
          "metadata": {
            "needs_background": "light"
          }
        }
      ],
      "source": [
        "plt.figure(1)\n",
        "plt.subplot(121)\n",
        "df = train.dropna()\n",
        "sns.distplot(df[\"Loan_Amount_Term\"]);\n",
        "\n",
        "plt.subplot(122)\n",
        "df[\"Loan_Amount_Term\"].plot.box(figsize=(16,5))\n",
        "plt.show()"
      ]
    },
    {
      "cell_type": "markdown",
      "metadata": {
        "_uuid": "c92abb1f4e6d692e772303d391a302702c8a486c",
        "id": "z3hB9XQMAk2z"
      },
      "source": [
        "We see a lot of outliers in this variable and the distribution is fairly normal. We will treat the outliers in later sections."
      ]
    },
    {
      "cell_type": "markdown",
      "metadata": {
        "_uuid": "0ad355ad4e43fb5a904eef7ddf8c82ec03179eec",
        "id": "GCgeQIN8Ak26"
      },
      "source": [
        "# Missing Value and Outlier Treatment"
      ]
    },
    {
      "cell_type": "markdown",
      "metadata": {
        "_uuid": "a1be6f32fadeea6a9728283b8a0fe32be711ae40",
        "id": "UXK1VnDlAk26"
      },
      "source": [
        "After exploring all the variables in our data, we can now impute the missing values and treat the outliers because missing data and outliers can have adverse effect on the model performance."
      ]
    },
    {
      "cell_type": "markdown",
      "metadata": {
        "_uuid": "8455d9028e259c95566cf828a1ca13bd99b49fa5",
        "id": "mPv4E0fFAk26"
      },
      "source": [
        "# Missing value imputation"
      ]
    },
    {
      "cell_type": "markdown",
      "metadata": {
        "_uuid": "f588dc000527767c768f9a33bad9e91783db6333",
        "id": "wvsVN31dAk26"
      },
      "source": [
        "Let’s list out feature-wise count of missing values."
      ]
    },
    {
      "cell_type": "code",
      "execution_count": null,
      "metadata": {
        "_uuid": "544dbbde4536fc9a575e4a178b5c6d83cc1689a9",
        "colab": {
          "base_uri": "https://localhost:8080/"
        },
        "id": "vL8R0BFLAk26",
        "outputId": "aa87874d-ea50-4aaf-fa03-b675f7485d37"
      },
      "outputs": [
        {
          "output_type": "execute_result",
          "data": {
            "text/plain": [
              "Loan_ID               0\n",
              "Gender               13\n",
              "Married               3\n",
              "Dependents           15\n",
              "Education             0\n",
              "Self_Employed        32\n",
              "ApplicantIncome       0\n",
              "CoapplicantIncome     0\n",
              "LoanAmount           22\n",
              "Loan_Amount_Term     14\n",
              "Credit_History       50\n",
              "Property_Area         0\n",
              "Loan_Status           0\n",
              "dtype: int64"
            ]
          },
          "metadata": {},
          "execution_count": 566
        }
      ],
      "source": [
        "train.isnull().sum()"
      ]
    },
    {
      "cell_type": "markdown",
      "metadata": {
        "_uuid": "eabe4c0ab6e1f881eda4aa582f66e4a735f39a34",
        "id": "TlifcZZ3Ak26"
      },
      "source": [
        "There are missing values in Gender, Married, Dependents, Self_Employed, LoanAmount, Loan_Amount_Term and Credit_History features."
      ]
    },
    {
      "cell_type": "markdown",
      "metadata": {
        "_uuid": "16693011afaa2de451480016337eddbfd1eea2d2",
        "id": "_kUf84qIAk26"
      },
      "source": [
        "We will treat the missing values in all the features one by one.\n",
        "\n",
        "We can consider these methods to fill the missing values:\n",
        "\n",
        "For numerical variables: imputation using mean or median\n",
        "    \n",
        "For categorical variables: imputation using mode"
      ]
    },
    {
      "cell_type": "markdown",
      "metadata": {
        "_uuid": "a0d097654ada2a2510f5005fb78fc41fc9b25c55",
        "id": "oyZlZCV9Ak27"
      },
      "source": [
        "There are very less missing values in Gender, Married, Dependents, Credit_History and Self_Employed features so we can fill them using the mode of the features"
      ]
    },
    {
      "cell_type": "code",
      "execution_count": null,
      "metadata": {
        "_uuid": "9eabedbb9a79ccfb3202a710310d9ee1efcf1422",
        "id": "ZLLrKad6Ak27"
      },
      "outputs": [],
      "source": [
        "train[\"Gender\"].fillna(train[\"Gender\"].mode()[0],inplace=True)\n",
        "train[\"Married\"].fillna(train[\"Married\"].mode()[0],inplace=True)\n",
        "train['Dependents'].fillna(train[\"Dependents\"].mode()[0],inplace=True)\n",
        "train[\"Self_Employed\"].fillna(train[\"Self_Employed\"].mode()[0],inplace=True)\n",
        "train[\"Credit_History\"].fillna(train[\"Credit_History\"].mode()[0],inplace=True)"
      ]
    },
    {
      "cell_type": "markdown",
      "metadata": {
        "_uuid": "b7fe48aa5e2cbda85180bc5890e82f90ffa0d085",
        "id": "hncdh7IgAk27"
      },
      "source": [
        "Now let’s try to find a way to fill the missing values in Loan_Amount_Term. \n",
        "We will look at the value count of the Loan amount term variable."
      ]
    },
    {
      "cell_type": "code",
      "execution_count": null,
      "metadata": {
        "_uuid": "4e21c285a2ae24c503340bd879bbcc7d4cae981b",
        "colab": {
          "base_uri": "https://localhost:8080/"
        },
        "id": "q5gLLxP_Ak27",
        "outputId": "a2ef7fd9-aa61-4d1e-85a3-fc63952c66e4"
      },
      "outputs": [
        {
          "output_type": "execute_result",
          "data": {
            "text/plain": [
              "360.0    512\n",
              "180.0     44\n",
              "480.0     15\n",
              "300.0     13\n",
              "240.0      4\n",
              "84.0       4\n",
              "120.0      3\n",
              "60.0       2\n",
              "36.0       2\n",
              "12.0       1\n",
              "Name: Loan_Amount_Term, dtype: int64"
            ]
          },
          "metadata": {},
          "execution_count": 568
        }
      ],
      "source": [
        "train[\"Loan_Amount_Term\"].value_counts()"
      ]
    },
    {
      "cell_type": "markdown",
      "metadata": {
        "_uuid": "a2f40d0815233bfae8e64a827b9be9b47a3f1cd4",
        "id": "azWUYurXAk27"
      },
      "source": [
        "It can be seen that in loan amount term variable, the value of 360 is repeating the most.\n",
        "So we will replace the missing values in this variable using the mode of this variable."
      ]
    },
    {
      "cell_type": "code",
      "execution_count": null,
      "metadata": {
        "_uuid": "a161e686deffba5e97e1c22b7887e4c32a77e5a4",
        "id": "--00_1Y2Ak27"
      },
      "outputs": [],
      "source": [
        "train[\"Loan_Amount_Term\"].fillna(train[\"Loan_Amount_Term\"].mode()[0],inplace=True)"
      ]
    },
    {
      "cell_type": "code",
      "execution_count": null,
      "metadata": {
        "_uuid": "9ed30d4d201957de3a05fab51c779ac2f377951d",
        "colab": {
          "base_uri": "https://localhost:8080/"
        },
        "id": "CNBqbjUjAk27",
        "outputId": "a5234a1e-d247-4c1d-b5b3-ea906506ed91"
      },
      "outputs": [
        {
          "output_type": "execute_result",
          "data": {
            "text/plain": [
              "360.0    526\n",
              "180.0     44\n",
              "480.0     15\n",
              "300.0     13\n",
              "240.0      4\n",
              "84.0       4\n",
              "120.0      3\n",
              "60.0       2\n",
              "36.0       2\n",
              "12.0       1\n",
              "Name: Loan_Amount_Term, dtype: int64"
            ]
          },
          "metadata": {},
          "execution_count": 570
        }
      ],
      "source": [
        "train[\"Loan_Amount_Term\"].value_counts()"
      ]
    },
    {
      "cell_type": "markdown",
      "metadata": {
        "_uuid": "3cf07efa3a942c2b3b2f70e8e303799d0dd4d569",
        "id": "-YP1aareAk27"
      },
      "source": [
        "Now we will see the LoanAmount variable. As it is a numerical variable, we can use mean or median to impute the missing values.\n",
        "\n",
        "We will use median to fill the null values as earlier we saw that loan amount have outliers so the mean will not be the proper approach as it is highly affected by the presence of outliers."
      ]
    },
    {
      "cell_type": "code",
      "execution_count": null,
      "metadata": {
        "_uuid": "2bdd50ebf4bccef3985fe008d642783f888be23d",
        "id": "HqEUe06nAk27"
      },
      "outputs": [],
      "source": [
        "train[\"LoanAmount\"].fillna(train[\"LoanAmount\"].median(),inplace=True)"
      ]
    },
    {
      "cell_type": "markdown",
      "metadata": {
        "_uuid": "ba01047b03b5bf354d740f560d9a30fe69b9ce14",
        "id": "Y8NAFmRKAk27"
      },
      "source": [
        "Now lets check whether all the missing values are filled in the dataset."
      ]
    },
    {
      "cell_type": "code",
      "execution_count": null,
      "metadata": {
        "_uuid": "dd0c936329a55d8c83e77d47c3182f169df1f3f2",
        "colab": {
          "base_uri": "https://localhost:8080/"
        },
        "id": "mMW3SP-3Ak28",
        "outputId": "1d7608bd-4215-41cf-a118-8af14db0fcaf"
      },
      "outputs": [
        {
          "output_type": "execute_result",
          "data": {
            "text/plain": [
              "Loan_ID              0\n",
              "Gender               0\n",
              "Married              0\n",
              "Dependents           0\n",
              "Education            0\n",
              "Self_Employed        0\n",
              "ApplicantIncome      0\n",
              "CoapplicantIncome    0\n",
              "LoanAmount           0\n",
              "Loan_Amount_Term     0\n",
              "Credit_History       0\n",
              "Property_Area        0\n",
              "Loan_Status          0\n",
              "dtype: int64"
            ]
          },
          "metadata": {},
          "execution_count": 572
        }
      ],
      "source": [
        "train.isnull().sum()"
      ]
    },
    {
      "cell_type": "markdown",
      "metadata": {
        "_uuid": "b0eee31c491d9b161ff67a938c631225f507c459",
        "id": "uuBt3h_kAk28"
      },
      "source": [
        "As we can see that all the missing values have been filled in the train dataset.\n",
        "\n",
        "Let’s fill all the missing values in the test dataset too with the same approach"
      ]
    },
    {
      "cell_type": "code",
      "execution_count": null,
      "metadata": {
        "_uuid": "263dcadcfc10e2e40c7b9dfd30ca4a5ffb878a78",
        "colab": {
          "base_uri": "https://localhost:8080/"
        },
        "id": "1oIrTqmwAk28",
        "outputId": "5664d58c-df9a-40e2-c53b-da15dd83b68f"
      },
      "outputs": [
        {
          "output_type": "execute_result",
          "data": {
            "text/plain": [
              "Loan_ID               0\n",
              "Gender               11\n",
              "Married               0\n",
              "Dependents           10\n",
              "Education             0\n",
              "Self_Employed        23\n",
              "ApplicantIncome       0\n",
              "CoapplicantIncome     0\n",
              "LoanAmount            5\n",
              "Loan_Amount_Term      6\n",
              "Credit_History       29\n",
              "Property_Area         0\n",
              "dtype: int64"
            ]
          },
          "metadata": {},
          "execution_count": 573
        }
      ],
      "source": [
        "test.isnull().sum()"
      ]
    },
    {
      "cell_type": "code",
      "execution_count": null,
      "metadata": {
        "_uuid": "24f38a60698e499a3b664dd2514d423924ff9ce3",
        "id": "LXNs3MoJAk28"
      },
      "outputs": [],
      "source": [
        "test[\"Gender\"].fillna(test[\"Gender\"].mode()[0],inplace=True)\n",
        "test['Dependents'].fillna(test[\"Dependents\"].mode()[0],inplace=True)\n",
        "test[\"Self_Employed\"].fillna(test[\"Self_Employed\"].mode()[0],inplace=True)\n",
        "test[\"Loan_Amount_Term\"].fillna(test[\"Loan_Amount_Term\"].mode()[0],inplace=True)\n",
        "test[\"Credit_History\"].fillna(test[\"Credit_History\"].mode()[0],inplace=True)\n",
        "test[\"LoanAmount\"].fillna(test[\"LoanAmount\"].median(),inplace=True)"
      ]
    },
    {
      "cell_type": "code",
      "execution_count": null,
      "metadata": {
        "_uuid": "04c601fd62efc49d50d298d1ccd57276df91c257",
        "colab": {
          "base_uri": "https://localhost:8080/"
        },
        "id": "jLg3yK4DAk28",
        "outputId": "18150afa-813f-4f4a-def6-6d4afd65f54e"
      },
      "outputs": [
        {
          "output_type": "execute_result",
          "data": {
            "text/plain": [
              "Loan_ID              0\n",
              "Gender               0\n",
              "Married              0\n",
              "Dependents           0\n",
              "Education            0\n",
              "Self_Employed        0\n",
              "ApplicantIncome      0\n",
              "CoapplicantIncome    0\n",
              "LoanAmount           0\n",
              "Loan_Amount_Term     0\n",
              "Credit_History       0\n",
              "Property_Area        0\n",
              "dtype: int64"
            ]
          },
          "metadata": {},
          "execution_count": 575
        }
      ],
      "source": [
        "test.isnull().sum()"
      ]
    },
    {
      "cell_type": "code",
      "execution_count": null,
      "metadata": {
        "_uuid": "871147d297f1433e111ba7a557619b80f360b78a",
        "colab": {
          "base_uri": "https://localhost:8080/",
          "height": 279
        },
        "id": "mTMstNzjAk28",
        "outputId": "129d5942-18b2-49ef-826f-b25723e3ec16"
      },
      "outputs": [
        {
          "output_type": "display_data",
          "data": {
            "text/plain": [
              "<Figure size 432x288 with 1 Axes>"
            ],
            "image/png": "[encoded data removed]"
          },
          "metadata": {
            "needs_background": "light"
          }
        }
      ],
      "source": [
        "sns.distplot(train[\"LoanAmount\"]);"
      ]
    },
    {
      "cell_type": "code",
      "execution_count": null,
      "metadata": {
        "_uuid": "11ad787aedb80d37d0b6289cb59708baadda69c7",
        "colab": {
          "base_uri": "https://localhost:8080/",
          "height": 282
        },
        "id": "sj7YDuQcAk28",
        "outputId": "a64a5414-b08a-43c8-953f-46888cedbd1e"
      },
      "outputs": [
        {
          "output_type": "execute_result",
          "data": {
            "text/plain": [
              "<matplotlib.axes._subplots.AxesSubplot at 0x7f46e0426a10>"
            ]
          },
          "metadata": {},
          "execution_count": 577
        },
        {
          "output_type": "display_data",
          "data": {
            "text/plain": [
              "<Figure size 432x288 with 1 Axes>"
            ],
            "image/png": "[encoded data removed]"
          },
          "metadata": {
            "needs_background": "light"
          }
        }
      ],
      "source": [
        "train['LoanAmount'].hist(bins=20)"
      ]
    },
    {
      "cell_type": "markdown",
      "metadata": {
        "_uuid": "523fb83cfc4526269d37d4ccf7a71fe1187adae1",
        "id": "PXUR6PA5Ak28"
      },
      "source": [
        "Due to these outliers bulk of the data in the loan amount is at the left and the right tail is longer. This is called right skewness.\n",
        "\n",
        "One way to remove the skewness is by doing the log transformation. As we take the log transformation, it does not affect the smaller values much, but reduces the larger values. \n",
        "\n",
        "So, we get a distribution similar to normal distribution."
      ]
    },
    {
      "cell_type": "markdown",
      "metadata": {
        "_uuid": "611a9e2309fd0e6d6836b87ed504f4a55facdb70",
        "id": "ESW24BFRAk28"
      },
      "source": [
        "Let’s visualize the effect of log transformation. \n",
        "\n",
        "We will do the similar changes to the test file simultaneously."
      ]
    },
    {
      "cell_type": "code",
      "execution_count": null,
      "metadata": {
        "_uuid": "b99858ec729849d9332039300a2a364346341718",
        "colab": {
          "base_uri": "https://localhost:8080/",
          "height": 282
        },
        "id": "oK9YLVQcAk29",
        "outputId": "e4652c85-4523-411a-d0d0-7f94792929bb"
      },
      "outputs": [
        {
          "output_type": "execute_result",
          "data": {
            "text/plain": [
              "<matplotlib.axes._subplots.AxesSubplot at 0x7f46e0280d10>"
            ]
          },
          "metadata": {},
          "execution_count": 578
        },
        {
          "output_type": "display_data",
          "data": {
            "text/plain": [
              "<Figure size 432x288 with 1 Axes>"
            ],
            "image/png": "[encoded data removed]"
          },
          "metadata": {
            "needs_background": "light"
          }
        }
      ],
      "source": [
        "train['LoanAmount_log'] = np.log(train['LoanAmount'])\n",
        "train['LoanAmount_log'].hist(bins=20)"
      ]
    },
    {
      "cell_type": "code",
      "execution_count": null,
      "metadata": {
        "_uuid": "c50caf9c187a52150b1ea8c95f4ddf1a5a4f7fad",
        "colab": {
          "base_uri": "https://localhost:8080/",
          "height": 297
        },
        "id": "sQmGa4SfAk29",
        "outputId": "06d33698-f72a-4ad6-a6f8-56be91c9434a"
      },
      "outputs": [
        {
          "output_type": "execute_result",
          "data": {
            "text/plain": [
              "<matplotlib.axes._subplots.AxesSubplot at 0x7f46df9ca810>"
            ]
          },
          "metadata": {},
          "execution_count": 579
        },
        {
          "output_type": "display_data",
          "data": {
            "text/plain": [
              "<Figure size 432x288 with 1 Axes>"
            ],
            "image/png": "[encoded data removed]"
          },
          "metadata": {
            "needs_background": "light"
          }
        }
      ],
      "source": [
        "sns.distplot(train[\"LoanAmount_log\"])"
      ]
    },
    {
      "cell_type": "markdown",
      "metadata": {
        "_uuid": "21e592e29c74b06cb861f93c473ced879c73c333",
        "id": "RUWPaOnuAk29"
      },
      "source": [
        "Let's have a look in test set [LoanAmount]"
      ]
    },
    {
      "cell_type": "code",
      "execution_count": null,
      "metadata": {
        "_uuid": "3ed949305bdd583b484ecc4138648a0320b2e567",
        "colab": {
          "base_uri": "https://localhost:8080/",
          "height": 282
        },
        "id": "oufrPLAWAk29",
        "outputId": "a7ba07d4-5c1f-4637-bb89-a5858f0088e2"
      },
      "outputs": [
        {
          "output_type": "execute_result",
          "data": {
            "text/plain": [
              "<matplotlib.axes._subplots.AxesSubplot at 0x7f46df8da290>"
            ]
          },
          "metadata": {},
          "execution_count": 580
        },
        {
          "output_type": "display_data",
          "data": {
            "text/plain": [
              "<Figure size 432x288 with 1 Axes>"
            ],
            "image/png": "[encoded data removed]"
          },
          "metadata": {
            "needs_background": "light"
          }
        }
      ],
      "source": [
        "test[\"LoanAmount_log\"]=np.log(train[\"LoanAmount\"])\n",
        "test['LoanAmount_log'].hist(bins=20)"
      ]
    },
    {
      "cell_type": "code",
      "execution_count": null,
      "metadata": {
        "_uuid": "db7eb58dc1e727cd7be59ac6acf00b09e91399eb",
        "colab": {
          "base_uri": "https://localhost:8080/",
          "height": 298
        },
        "id": "eZ3mipj4Ak29",
        "outputId": "8f3bda77-bed9-47cd-b0bb-00a43e64ffd7"
      },
      "outputs": [
        {
          "output_type": "execute_result",
          "data": {
            "text/plain": [
              "<matplotlib.axes._subplots.AxesSubplot at 0x7f46df8fb6d0>"
            ]
          },
          "metadata": {},
          "execution_count": 581
        },
        {
          "output_type": "display_data",
          "data": {
            "text/plain": [
              "<Figure size 432x288 with 1 Axes>"
            ],
            "image/png": "[encoded data removed]"
          },
          "metadata": {
            "needs_background": "light"
          }
        }
      ],
      "source": [
        "sns.distplot(test[\"LoanAmount_log\"])"
      ]
    },
    {
      "cell_type": "markdown",
      "metadata": {
        "_uuid": "8c027a160b4aa113380a3c30a11aac5e2a5bf58f",
        "id": "NsLfRHl9Ak29"
      },
      "source": [
        "# Feature Engineering"
      ]
    },
    {
      "cell_type": "markdown",
      "metadata": {
        "_uuid": "67df7ec213ddde368be9811f77ae7b5ba8b28d17",
        "id": "Lq8hSxviAk29"
      },
      "source": [
        "Based on the domain knowledge, we can come up with new features that might affect the target variable. We will create the following three new features:"
      ]
    },
    {
      "cell_type": "markdown",
      "metadata": {
        "_uuid": "c58b6502e02c1786c72eedcea44296a572c9d91a",
        "id": "GlM0aWKTAk29"
      },
      "source": [
        "Total Income - As discussed during bivariate analysis we will combine the Applicant Income and Coapplicant Income. If the total income is high, chances of loan approval might also be high."
      ]
    },
    {
      "cell_type": "markdown",
      "metadata": {
        "_uuid": "bb9e48158c7789ee97cbacac90f958ae4d7901f2",
        "id": "IlFJ8ig1Ak29"
      },
      "source": [
        "EMI - EMI is the monthly amount to be paid by the applicant to repay the loan. Idea behind making this variable is that people who have high EMI’s might find it difficult to pay back the loan. We can calculate the EMI by taking the ratio of loan amount with respect to loan amount term."
      ]
    },
    {
      "cell_type": "markdown",
      "metadata": {
        "_uuid": "5dc5c38104d3ed72606f8e462fb0e6e1022702a6",
        "id": "ohw1RqOrAk29"
      },
      "source": [
        "Balance Income - This is the income left after the EMI has been paid. Idea behind creating this variable is that if this value is high, the chances are high that a person will repay the loan and hence increasing the chances of loan approval."
      ]
    },
    {
      "cell_type": "code",
      "execution_count": null,
      "metadata": {
        "_uuid": "839ac00d5e05e0e0d3d63733f6c2634a7554f261",
        "id": "NRH5kC79Ak2-"
      },
      "outputs": [],
      "source": [
        "train[\"TotalIncome\"]=train[\"ApplicantIncome\"]+train[\"CoapplicantIncome\"]"
      ]
    },
    {
      "cell_type": "markdown",
      "metadata": {
        "_uuid": "7ec36b3c4422d96e4ffdb8e4de733fd7594ea819",
        "id": "TGIhx4NTAk2-"
      },
      "source": [
        "Just have a look of train dataset  \"TotalIncome\""
      ]
    },
    {
      "cell_type": "code",
      "execution_count": null,
      "metadata": {
        "_uuid": "92a1070057d4edaa0594757faf134d95b5d7a7d9",
        "colab": {
          "base_uri": "https://localhost:8080/",
          "height": 206
        },
        "id": "mzkW1OTVAk2-",
        "outputId": "173a327d-4788-4a41-b0d7-e1003d9b18f5"
      },
      "outputs": [
        {
          "output_type": "execute_result",
          "data": {
            "text/plain": [
              "   TotalIncome\n",
              "0       5849.0\n",
              "1       6091.0\n",
              "2       3000.0\n",
              "3       4941.0\n",
              "4       6000.0"
            ],
            "text/html": [
              "\n",
              "  <div id=\"df-0ed5ed38-d6f0-4a43-a637-07abf4f0c2d8\">\n",
              "    <div class=\"colab-df-container\">\n",
              "      <div>\n",
              "<style scoped>\n",
              "    .dataframe tbody tr th:only-of-type {\n",
              "        vertical-align: middle;\n",
              "    }\n",
              "\n",
              "    .dataframe tbody tr th {\n",
              "        vertical-align: top;\n",
              "    }\n",
              "\n",
              "    .dataframe thead th {\n",
              "        text-align: right;\n",
              "    }\n",
              "</style>\n",
              "<table border=\"1\" class=\"dataframe\">\n",
              "  <thead>\n",
              "    <tr style=\"text-align: right;\">\n",
              "      <th></th>\n",
              "      <th>TotalIncome</th>\n",
              "    </tr>\n",
              "  </thead>\n",
              "  <tbody>\n",
              "    <tr>\n",
              "      <th>0</th>\n",
              "      <td>5849.0</td>\n",
              "    </tr>\n",
              "    <tr>\n",
              "      <th>1</th>\n",
              "      <td>6091.0</td>\n",
              "    </tr>\n",
              "    <tr>\n",
              "      <th>2</th>\n",
              "      <td>3000.0</td>\n",
              "    </tr>\n",
              "    <tr>\n",
              "      <th>3</th>\n",
              "      <td>4941.0</td>\n",
              "    </tr>\n",
              "    <tr>\n",
              "      <th>4</th>\n",
              "      <td>6000.0</td>\n",
              "    </tr>\n",
              "  </tbody>\n",
              "</table>\n",
              "</div>\n",
              "      <button class=\"colab-df-convert\" onclick=\"convertToInteractive('df-0ed5ed38-d6f0-4a43-a637-07abf4f0c2d8')\"\n",
              "              title=\"Convert this dataframe to an interactive table.\"\n",
              "              style=\"display:none;\">\n",
              "        \n",
              "  <svg xmlns=\"http://www.w3.org/2000/svg\" height=\"24px\"viewBox=\"0 0 24 24\"\n",
              "       width=\"24px\">\n",
              "    <path d=\"M0 0h24v24H0V0z\" fill=\"none\"/>\n",
              "    <path d=\"M18.56 5.44l.94 2.06.94-2.06 2.06-.94-2.06-.94-.94-2.06-.94 2.06-2.06.94zm-11 1L8.5 8.5l.94-2.06 2.06-.94-2.06-.94L8.5 2.5l-.94 2.06-2.06.94zm10 10l.94 2.06.94-2.06 2.06-.94-2.06-.94-.94-2.06-.94 2.06-2.06.94z\"/><path d=\"M17.41 7.96l-1.37-1.37c-.4-.4-.92-.59-1.43-.59-.52 0-1.04.2-1.43.59L10.3 9.45l-7.72 7.72c-.78.78-.78 2.05 0 2.83L4 21.41c.39.39.9.59 1.41.59.51 0 1.02-.2 1.41-.59l7.78-7.78 2.81-2.81c.8-.78.8-2.07 0-2.86zM5.41 20L4 18.59l7.72-7.72 1.47 1.35L5.41 20z\"/>\n",
              "  </svg>\n",
              "      </button>\n",
              "      \n",
              "  <style>\n",
              "    .colab-df-container {\n",
              "      display:flex;\n",
              "      flex-wrap:wrap;\n",
              "      gap: 12px;\n",
              "    }\n",
              "\n",
              "    .colab-df-convert {\n",
              "      background-color: #E8F0FE;\n",
              "      border: none;\n",
              "      border-radius: 50%;\n",
              "      cursor: pointer;\n",
              "      display: none;\n",
              "      fill: #1967D2;\n",
              "      height: 32px;\n",
              "      padding: 0 0 0 0;\n",
              "      width: 32px;\n",
              "    }\n",
              "\n",
              "    .colab-df-convert:hover {\n",
              "      background-color: #E2EBFA;\n",
              "      box-shadow: 0px 1px 2px rgba(60, 64, 67, 0.3), 0px 1px 3px 1px rgba(60, 64, 67, 0.15);\n",
              "      fill: #174EA6;\n",
              "    }\n",
              "\n",
              "    [theme=dark] .colab-df-convert {\n",
              "      background-color: #3B4455;\n",
              "      fill: #D2E3FC;\n",
              "    }\n",
              "\n",
              "    [theme=dark] .colab-df-convert:hover {\n",
              "      background-color: #434B5C;\n",
              "      box-shadow: 0px 1px 3px 1px rgba(0, 0, 0, 0.15);\n",
              "      filter: drop-shadow(0px 1px 2px rgba(0, 0, 0, 0.3));\n",
              "      fill: #FFFFFF;\n",
              "    }\n",
              "  </style>\n",
              "\n",
              "      <script>\n",
              "        const buttonEl =\n",
              "          document.querySelector('#df-0ed5ed38-d6f0-4a43-a637-07abf4f0c2d8 button.colab-df-convert');\n",
              "        buttonEl.style.display =\n",
              "          google.colab.kernel.accessAllowed ? 'block' : 'none';\n",
              "\n",
              "        async function convertToInteractive(key) {\n",
              "          const element = document.querySelector('#df-0ed5ed38-d6f0-4a43-a637-07abf4f0c2d8');\n",
              "          const dataTable =\n",
              "            await google.colab.kernel.invokeFunction('convertToInteractive',\n",
              "                                                     [key], {});\n",
              "          if (!dataTable) return;\n",
              "\n",
              "          const docLinkHtml = 'Like what you see? Visit the ' +\n",
              "            '<a target=\"_blank\" href=https://colab.research.google.com/notebooks/data_table.ipynb>data table notebook</a>'\n",
              "            + ' to learn more about interactive tables.';\n",
              "          element.innerHTML = '';\n",
              "          dataTable['output_type'] = 'display_data';\n",
              "          await google.colab.output.renderOutput(dataTable, element);\n",
              "          const docLink = document.createElement('div');\n",
              "          docLink.innerHTML = docLinkHtml;\n",
              "          element.appendChild(docLink);\n",
              "        }\n",
              "      </script>\n",
              "    </div>\n",
              "  </div>\n",
              "  "
            ]
          },
          "metadata": {},
          "execution_count": 583
        }
      ],
      "source": [
        "train[[\"TotalIncome\"]].head()"
      ]
    },
    {
      "cell_type": "code",
      "execution_count": null,
      "metadata": {
        "_uuid": "7e298ca7ff9c59a6cefb64d68dc4f57d7a1b83ca",
        "id": "2Xef-VrkAk2-"
      },
      "outputs": [],
      "source": [
        "test[\"TotalIncome\"]=test[\"ApplicantIncome\"]+test[\"CoapplicantIncome\"]"
      ]
    },
    {
      "cell_type": "markdown",
      "metadata": {
        "_uuid": "10b1f08c7a39ead00be7cd2433b8399285dc04ff",
        "id": "0Bgs8Td9Ak2-"
      },
      "source": [
        "Just have a look of test dataset \"TotalIncome\""
      ]
    },
    {
      "cell_type": "code",
      "execution_count": null,
      "metadata": {
        "_uuid": "da1061025b530b59085d51a61cb06d2a4ff9c885",
        "colab": {
          "base_uri": "https://localhost:8080/",
          "height": 206
        },
        "id": "i5MRFIkLAk2-",
        "outputId": "a9e60c32-b59e-4c3d-ef1e-06ff84228612"
      },
      "outputs": [
        {
          "output_type": "execute_result",
          "data": {
            "text/plain": [
              "   TotalIncome\n",
              "0         5720\n",
              "1         4576\n",
              "2         6800\n",
              "3         4886\n",
              "4         3276"
            ],
            "text/html": [
              "\n",
              "  <div id=\"df-cd6833aa-e357-4c4c-8be4-61bbafc6a16c\">\n",
              "    <div class=\"colab-df-container\">\n",
              "      <div>\n",
              "<style scoped>\n",
              "    .dataframe tbody tr th:only-of-type {\n",
              "        vertical-align: middle;\n",
              "    }\n",
              "\n",
              "    .dataframe tbody tr th {\n",
              "        vertical-align: top;\n",
              "    }\n",
              "\n",
              "    .dataframe thead th {\n",
              "        text-align: right;\n",
              "    }\n",
              "</style>\n",
              "<table border=\"1\" class=\"dataframe\">\n",
              "  <thead>\n",
              "    <tr style=\"text-align: right;\">\n",
              "      <th></th>\n",
              "      <th>TotalIncome</th>\n",
              "    </tr>\n",
              "  </thead>\n",
              "  <tbody>\n",
              "    <tr>\n",
              "      <th>0</th>\n",
              "      <td>5720</td>\n",
              "    </tr>\n",
              "    <tr>\n",
              "      <th>1</th>\n",
              "      <td>4576</td>\n",
              "    </tr>\n",
              "    <tr>\n",
              "      <th>2</th>\n",
              "      <td>6800</td>\n",
              "    </tr>\n",
              "    <tr>\n",
              "      <th>3</th>\n",
              "      <td>4886</td>\n",
              "    </tr>\n",
              "    <tr>\n",
              "      <th>4</th>\n",
              "      <td>3276</td>\n",
              "    </tr>\n",
              "  </tbody>\n",
              "</table>\n",
              "</div>\n",
              "      <button class=\"colab-df-convert\" onclick=\"convertToInteractive('df-cd6833aa-e357-4c4c-8be4-61bbafc6a16c')\"\n",
              "              title=\"Convert this dataframe to an interactive table.\"\n",
              "              style=\"display:none;\">\n",
              "        \n",
              "  <svg xmlns=\"http://www.w3.org/2000/svg\" height=\"24px\"viewBox=\"0 0 24 24\"\n",
              "       width=\"24px\">\n",
              "    <path d=\"M0 0h24v24H0V0z\" fill=\"none\"/>\n",
              "    <path d=\"M18.56 5.44l.94 2.06.94-2.06 2.06-.94-2.06-.94-.94-2.06-.94 2.06-2.06.94zm-11 1L8.5 8.5l.94-2.06 2.06-.94-2.06-.94L8.5 2.5l-.94 2.06-2.06.94zm10 10l.94 2.06.94-2.06 2.06-.94-2.06-.94-.94-2.06-.94 2.06-2.06.94z\"/><path d=\"M17.41 7.96l-1.37-1.37c-.4-.4-.92-.59-1.43-.59-.52 0-1.04.2-1.43.59L10.3 9.45l-7.72 7.72c-.78.78-.78 2.05 0 2.83L4 21.41c.39.39.9.59 1.41.59.51 0 1.02-.2 1.41-.59l7.78-7.78 2.81-2.81c.8-.78.8-2.07 0-2.86zM5.41 20L4 18.59l7.72-7.72 1.47 1.35L5.41 20z\"/>\n",
              "  </svg>\n",
              "      </button>\n",
              "      \n",
              "  <style>\n",
              "    .colab-df-container {\n",
              "      display:flex;\n",
              "      flex-wrap:wrap;\n",
              "      gap: 12px;\n",
              "    }\n",
              "\n",
              "    .colab-df-convert {\n",
              "      background-color: #E8F0FE;\n",
              "      border: none;\n",
              "      border-radius: 50%;\n",
              "      cursor: pointer;\n",
              "      display: none;\n",
              "      fill: #1967D2;\n",
              "      height: 32px;\n",
              "      padding: 0 0 0 0;\n",
              "      width: 32px;\n",
              "    }\n",
              "\n",
              "    .colab-df-convert:hover {\n",
              "      background-color: #E2EBFA;\n",
              "      box-shadow: 0px 1px 2px rgba(60, 64, 67, 0.3), 0px 1px 3px 1px rgba(60, 64, 67, 0.15);\n",
              "      fill: #174EA6;\n",
              "    }\n",
              "\n",
              "    [theme=dark] .colab-df-convert {\n",
              "      background-color: #3B4455;\n",
              "      fill: #D2E3FC;\n",
              "    }\n",
              "\n",
              "    [theme=dark] .colab-df-convert:hover {\n",
              "      background-color: #434B5C;\n",
              "      box-shadow: 0px 1px 3px 1px rgba(0, 0, 0, 0.15);\n",
              "      filter: drop-shadow(0px 1px 2px rgba(0, 0, 0, 0.3));\n",
              "      fill: #FFFFFF;\n",
              "    }\n",
              "  </style>\n",
              "\n",
              "      <script>\n",
              "        const buttonEl =\n",
              "          document.querySelector('#df-cd6833aa-e357-4c4c-8be4-61bbafc6a16c button.colab-df-convert');\n",
              "        buttonEl.style.display =\n",
              "          google.colab.kernel.accessAllowed ? 'block' : 'none';\n",
              "\n",
              "        async function convertToInteractive(key) {\n",
              "          const element = document.querySelector('#df-cd6833aa-e357-4c4c-8be4-61bbafc6a16c');\n",
              "          const dataTable =\n",
              "            await google.colab.kernel.invokeFunction('convertToInteractive',\n",
              "                                                     [key], {});\n",
              "          if (!dataTable) return;\n",
              "\n",
              "          const docLinkHtml = 'Like what you see? Visit the ' +\n",
              "            '<a target=\"_blank\" href=https://colab.research.google.com/notebooks/data_table.ipynb>data table notebook</a>'\n",
              "            + ' to learn more about interactive tables.';\n",
              "          element.innerHTML = '';\n",
              "          dataTable['output_type'] = 'display_data';\n",
              "          await google.colab.output.renderOutput(dataTable, element);\n",
              "          const docLink = document.createElement('div');\n",
              "          docLink.innerHTML = docLinkHtml;\n",
              "          element.appendChild(docLink);\n",
              "        }\n",
              "      </script>\n",
              "    </div>\n",
              "  </div>\n",
              "  "
            ]
          },
          "metadata": {},
          "execution_count": 585
        }
      ],
      "source": [
        "test[[\"TotalIncome\"]].head()"
      ]
    },
    {
      "cell_type": "markdown",
      "metadata": {
        "_uuid": "367b7005e8e220cf26ca1fe3e65614b94028251f",
        "id": "V4mzzLT9Ak2-"
      },
      "source": [
        "Let’s check the distribution of train dataset Total Income."
      ]
    },
    {
      "cell_type": "code",
      "execution_count": null,
      "metadata": {
        "_uuid": "9a12d9e0f12af80ec13f556ca06d8f5f46aafdcd",
        "colab": {
          "base_uri": "https://localhost:8080/",
          "height": 296
        },
        "id": "A20Kk0ZgAk2-",
        "outputId": "bb49d5cd-fef0-4dc9-845c-9a262773f8a9"
      },
      "outputs": [
        {
          "output_type": "execute_result",
          "data": {
            "text/plain": [
              "<matplotlib.axes._subplots.AxesSubplot at 0x7f46df7b8090>"
            ]
          },
          "metadata": {},
          "execution_count": 586
        },
        {
          "output_type": "display_data",
          "data": {
            "text/plain": [
              "<Figure size 432x288 with 1 Axes>"
            ],
            "image/png": "[encoded data removed]"
          },
          "metadata": {
            "needs_background": "light"
          }
        }
      ],
      "source": [
        "sns.distplot(train[\"TotalIncome\"])"
      ]
    },
    {
      "cell_type": "markdown",
      "metadata": {
        "_uuid": "806f2978e64c7996b4344316df861dbf3eb96c0b",
        "id": "pG5DWM2rAk2-"
      },
      "source": [
        "We can see it is shifted towards left, i.e., the distribution is right skewed. So, let’s take the log transformation to make the distribution normal."
      ]
    },
    {
      "cell_type": "code",
      "execution_count": null,
      "metadata": {
        "_uuid": "42de653648b5851c1d470bd68a555a7ba1f7cc19",
        "colab": {
          "base_uri": "https://localhost:8080/",
          "height": 297
        },
        "id": "VjQJYAjNAk2-",
        "outputId": "9d8ee70c-3ba4-49bb-e750-611064e8c4e9"
      },
      "outputs": [
        {
          "output_type": "execute_result",
          "data": {
            "text/plain": [
              "<matplotlib.axes._subplots.AxesSubplot at 0x7f46df6b27d0>"
            ]
          },
          "metadata": {},
          "execution_count": 587
        },
        {
          "output_type": "display_data",
          "data": {
            "text/plain": [
              "<Figure size 432x288 with 1 Axes>"
            ],
            "image/png": "[encoded data removed]"
          },
          "metadata": {
            "needs_background": "light"
          }
        }
      ],
      "source": [
        "train[\"TotalIncome_log\"]=np.log(train[\"TotalIncome\"])\n",
        "sns.distplot(train[\"TotalIncome_log\"])"
      ]
    },
    {
      "cell_type": "markdown",
      "metadata": {
        "_uuid": "9ac547e0d0eeb660894fe208900390a1d4e817e6",
        "id": "DxXmvdN_Ak2-"
      },
      "source": [
        "Now the distribution looks much closer to normal and effect of extreme values has been significantly subsided."
      ]
    },
    {
      "cell_type": "markdown",
      "metadata": {
        "_uuid": "26f92020dbf102181b0c85656112bfe3873fa9ad",
        "id": "KFvQyAOlAk2_"
      },
      "source": [
        "Let’s check the distribution of test dataset Total Income."
      ]
    },
    {
      "cell_type": "code",
      "execution_count": null,
      "metadata": {
        "_uuid": "50fcbd225e643cbe28656aceb797da11caa2b044",
        "colab": {
          "base_uri": "https://localhost:8080/",
          "height": 296
        },
        "id": "Z3DtsGHwAk2_",
        "outputId": "6b908327-6e34-49a6-cd44-75d4c78b2461"
      },
      "outputs": [
        {
          "output_type": "execute_result",
          "data": {
            "text/plain": [
              "<matplotlib.axes._subplots.AxesSubplot at 0x7f46df586050>"
            ]
          },
          "metadata": {},
          "execution_count": 588
        },
        {
          "output_type": "display_data",
          "data": {
            "text/plain": [
              "<Figure size 432x288 with 1 Axes>"
            ],
            "image/png": "[encoded data removed]"
          },
          "metadata": {
            "needs_background": "light"
          }
        }
      ],
      "source": [
        "sns.distplot(test[\"TotalIncome\"])"
      ]
    },
    {
      "cell_type": "markdown",
      "metadata": {
        "_uuid": "abb05cfa9eafaa19d2406b396478d7c2dee67575",
        "id": "-_bVBB6UAk2_"
      },
      "source": [
        "We can see it is shifted towards left, i.e., the distribution is right skewed. So, let’s take the log transformation to make the distribution normal."
      ]
    },
    {
      "cell_type": "code",
      "execution_count": null,
      "metadata": {
        "_uuid": "a52b28115435a12dafe5a5822c5a49ee8e2a1e59",
        "colab": {
          "base_uri": "https://localhost:8080/",
          "height": 297
        },
        "id": "yIJ5SlBTAk2_",
        "outputId": "bff50eb8-b8bb-4162-bcf6-3c15fb25c2ed"
      },
      "outputs": [
        {
          "output_type": "execute_result",
          "data": {
            "text/plain": [
              "<matplotlib.axes._subplots.AxesSubplot at 0x7f46df482890>"
            ]
          },
          "metadata": {},
          "execution_count": 589
        },
        {
          "output_type": "display_data",
          "data": {
            "text/plain": [
              "<Figure size 432x288 with 1 Axes>"
            ],
            "image/png": "[encoded data removed]"
          },
          "metadata": {
            "needs_background": "light"
          }
        }
      ],
      "source": [
        "test[\"TotalIncome_log\"] = np.log(train[\"TotalIncome\"])\n",
        "sns.distplot(test[\"TotalIncome_log\"])"
      ]
    },
    {
      "cell_type": "markdown",
      "metadata": {
        "_uuid": "502ef0cfa52d56486514e9ee86c382371e1aeb3c",
        "id": "2r4H-tyuAk2_"
      },
      "source": [
        "Now the distribution looks much closer to normal and effect of extreme values has been significantly subsided."
      ]
    },
    {
      "cell_type": "markdown",
      "metadata": {
        "_uuid": "c5bfbc9a427c0901130b1df2fcb8713ca0656c65",
        "id": "bGyaoOxNAk2_"
      },
      "source": [
        "Now create the EMI feature."
      ]
    },
    {
      "cell_type": "code",
      "execution_count": null,
      "metadata": {
        "_uuid": "fe1adb837dde927351321482703d6b4752548b76",
        "id": "VWtGxKoEAk2_"
      },
      "outputs": [],
      "source": [
        "train[\"EMI\"]=train[\"LoanAmount\"]/train[\"Loan_Amount_Term\"]\n",
        "test[\"EMI\"]=test[\"LoanAmount\"]/test[\"Loan_Amount_Term\"]"
      ]
    },
    {
      "cell_type": "markdown",
      "metadata": {
        "_uuid": "9c6a9457d213529fc4d465b727ba30a9ef9c7dfa",
        "id": "8ffM3FJkAk2_"
      },
      "source": [
        "Have a look of train dataset \"EMI\""
      ]
    },
    {
      "cell_type": "code",
      "execution_count": null,
      "metadata": {
        "_uuid": "7a90f56a4f5a02dc2261ab8c2af48901ff98d302",
        "colab": {
          "base_uri": "https://localhost:8080/",
          "height": 206
        },
        "id": "Wxuo8p46Ak2_",
        "outputId": "788ffd6f-2393-45fc-ef2e-93e134f548a2"
      },
      "outputs": [
        {
          "output_type": "execute_result",
          "data": {
            "text/plain": [
              "        EMI\n",
              "0  0.355556\n",
              "1  0.355556\n",
              "2  0.183333\n",
              "3  0.333333\n",
              "4  0.391667"
            ],
            "text/html": [
              "\n",
              "  <div id=\"df-807e42d8-66c6-444b-963d-5a1acffc95bc\">\n",
              "    <div class=\"colab-df-container\">\n",
              "      <div>\n",
              "<style scoped>\n",
              "    .dataframe tbody tr th:only-of-type {\n",
              "        vertical-align: middle;\n",
              "    }\n",
              "\n",
              "    .dataframe tbody tr th {\n",
              "        vertical-align: top;\n",
              "    }\n",
              "\n",
              "    .dataframe thead th {\n",
              "        text-align: right;\n",
              "    }\n",
              "</style>\n",
              "<table border=\"1\" class=\"dataframe\">\n",
              "  <thead>\n",
              "    <tr style=\"text-align: right;\">\n",
              "      <th></th>\n",
              "      <th>EMI</th>\n",
              "    </tr>\n",
              "  </thead>\n",
              "  <tbody>\n",
              "    <tr>\n",
              "      <th>0</th>\n",
              "      <td>0.355556</td>\n",
              "    </tr>\n",
              "    <tr>\n",
              "      <th>1</th>\n",
              "      <td>0.355556</td>\n",
              "    </tr>\n",
              "    <tr>\n",
              "      <th>2</th>\n",
              "      <td>0.183333</td>\n",
              "    </tr>\n",
              "    <tr>\n",
              "      <th>3</th>\n",
              "      <td>0.333333</td>\n",
              "    </tr>\n",
              "    <tr>\n",
              "      <th>4</th>\n",
              "      <td>0.391667</td>\n",
              "    </tr>\n",
              "  </tbody>\n",
              "</table>\n",
              "</div>\n",
              "      <button class=\"colab-df-convert\" onclick=\"convertToInteractive('df-807e42d8-66c6-444b-963d-5a1acffc95bc')\"\n",
              "              title=\"Convert this dataframe to an interactive table.\"\n",
              "              style=\"display:none;\">\n",
              "        \n",
              "  <svg xmlns=\"http://www.w3.org/2000/svg\" height=\"24px\"viewBox=\"0 0 24 24\"\n",
              "       width=\"24px\">\n",
              "    <path d=\"M0 0h24v24H0V0z\" fill=\"none\"/>\n",
              "    <path d=\"M18.56 5.44l.94 2.06.94-2.06 2.06-.94-2.06-.94-.94-2.06-.94 2.06-2.06.94zm-11 1L8.5 8.5l.94-2.06 2.06-.94-2.06-.94L8.5 2.5l-.94 2.06-2.06.94zm10 10l.94 2.06.94-2.06 2.06-.94-2.06-.94-.94-2.06-.94 2.06-2.06.94z\"/><path d=\"M17.41 7.96l-1.37-1.37c-.4-.4-.92-.59-1.43-.59-.52 0-1.04.2-1.43.59L10.3 9.45l-7.72 7.72c-.78.78-.78 2.05 0 2.83L4 21.41c.39.39.9.59 1.41.59.51 0 1.02-.2 1.41-.59l7.78-7.78 2.81-2.81c.8-.78.8-2.07 0-2.86zM5.41 20L4 18.59l7.72-7.72 1.47 1.35L5.41 20z\"/>\n",
              "  </svg>\n",
              "      </button>\n",
              "      \n",
              "  <style>\n",
              "    .colab-df-container {\n",
              "      display:flex;\n",
              "      flex-wrap:wrap;\n",
              "      gap: 12px;\n",
              "    }\n",
              "\n",
              "    .colab-df-convert {\n",
              "      background-color: #E8F0FE;\n",
              "      border: none;\n",
              "      border-radius: 50%;\n",
              "      cursor: pointer;\n",
              "      display: none;\n",
              "      fill: #1967D2;\n",
              "      height: 32px;\n",
              "      padding: 0 0 0 0;\n",
              "      width: 32px;\n",
              "    }\n",
              "\n",
              "    .colab-df-convert:hover {\n",
              "      background-color: #E2EBFA;\n",
              "      box-shadow: 0px 1px 2px rgba(60, 64, 67, 0.3), 0px 1px 3px 1px rgba(60, 64, 67, 0.15);\n",
              "      fill: #174EA6;\n",
              "    }\n",
              "\n",
              "    [theme=dark] .colab-df-convert {\n",
              "      background-color: #3B4455;\n",
              "      fill: #D2E3FC;\n",
              "    }\n",
              "\n",
              "    [theme=dark] .colab-df-convert:hover {\n",
              "      background-color: #434B5C;\n",
              "      box-shadow: 0px 1px 3px 1px rgba(0, 0, 0, 0.15);\n",
              "      filter: drop-shadow(0px 1px 2px rgba(0, 0, 0, 0.3));\n",
              "      fill: #FFFFFF;\n",
              "    }\n",
              "  </style>\n",
              "\n",
              "      <script>\n",
              "        const buttonEl =\n",
              "          document.querySelector('#df-807e42d8-66c6-444b-963d-5a1acffc95bc button.colab-df-convert');\n",
              "        buttonEl.style.display =\n",
              "          google.colab.kernel.accessAllowed ? 'block' : 'none';\n",
              "\n",
              "        async function convertToInteractive(key) {\n",
              "          const element = document.querySelector('#df-807e42d8-66c6-444b-963d-5a1acffc95bc');\n",
              "          const dataTable =\n",
              "            await google.colab.kernel.invokeFunction('convertToInteractive',\n",
              "                                                     [key], {});\n",
              "          if (!dataTable) return;\n",
              "\n",
              "          const docLinkHtml = 'Like what you see? Visit the ' +\n",
              "            '<a target=\"_blank\" href=https://colab.research.google.com/notebooks/data_table.ipynb>data table notebook</a>'\n",
              "            + ' to learn more about interactive tables.';\n",
              "          element.innerHTML = '';\n",
              "          dataTable['output_type'] = 'display_data';\n",
              "          await google.colab.output.renderOutput(dataTable, element);\n",
              "          const docLink = document.createElement('div');\n",
              "          docLink.innerHTML = docLinkHtml;\n",
              "          element.appendChild(docLink);\n",
              "        }\n",
              "      </script>\n",
              "    </div>\n",
              "  </div>\n",
              "  "
            ]
          },
          "metadata": {},
          "execution_count": 591
        }
      ],
      "source": [
        "train[[\"EMI\"]].head()"
      ]
    },
    {
      "cell_type": "markdown",
      "metadata": {
        "_uuid": "0f7535b3bce63c6b45f19921ab12bb69b4e720a5",
        "id": "4FWbgpCmAk2_"
      },
      "source": [
        "Again have a look of test dataset \"EMI\""
      ]
    },
    {
      "cell_type": "code",
      "execution_count": null,
      "metadata": {
        "_uuid": "ab40229fe4b215f15445a9d2b7bc79134c908815",
        "colab": {
          "base_uri": "https://localhost:8080/",
          "height": 206
        },
        "id": "Xorm5jFrAk2_",
        "outputId": "8c8f7b36-4a91-4f90-8ebd-0c5d697c4daf"
      },
      "outputs": [
        {
          "output_type": "execute_result",
          "data": {
            "text/plain": [
              "        EMI\n",
              "0  0.305556\n",
              "1  0.350000\n",
              "2  0.577778\n",
              "3  0.277778\n",
              "4  0.216667"
            ],
            "text/html": [
              "\n",
              "  <div id=\"df-1ffc0c8b-c7d0-4dd7-880d-3e2be6ef66e6\">\n",
              "    <div class=\"colab-df-container\">\n",
              "      <div>\n",
              "<style scoped>\n",
              "    .dataframe tbody tr th:only-of-type {\n",
              "        vertical-align: middle;\n",
              "    }\n",
              "\n",
              "    .dataframe tbody tr th {\n",
              "        vertical-align: top;\n",
              "    }\n",
              "\n",
              "    .dataframe thead th {\n",
              "        text-align: right;\n",
              "    }\n",
              "</style>\n",
              "<table border=\"1\" class=\"dataframe\">\n",
              "  <thead>\n",
              "    <tr style=\"text-align: right;\">\n",
              "      <th></th>\n",
              "      <th>EMI</th>\n",
              "    </tr>\n",
              "  </thead>\n",
              "  <tbody>\n",
              "    <tr>\n",
              "      <th>0</th>\n",
              "      <td>0.305556</td>\n",
              "    </tr>\n",
              "    <tr>\n",
              "      <th>1</th>\n",
              "      <td>0.350000</td>\n",
              "    </tr>\n",
              "    <tr>\n",
              "      <th>2</th>\n",
              "      <td>0.577778</td>\n",
              "    </tr>\n",
              "    <tr>\n",
              "      <th>3</th>\n",
              "      <td>0.277778</td>\n",
              "    </tr>\n",
              "    <tr>\n",
              "      <th>4</th>\n",
              "      <td>0.216667</td>\n",
              "    </tr>\n",
              "  </tbody>\n",
              "</table>\n",
              "</div>\n",
              "      <button class=\"colab-df-convert\" onclick=\"convertToInteractive('df-1ffc0c8b-c7d0-4dd7-880d-3e2be6ef66e6')\"\n",
              "              title=\"Convert this dataframe to an interactive table.\"\n",
              "              style=\"display:none;\">\n",
              "        \n",
              "  <svg xmlns=\"http://www.w3.org/2000/svg\" height=\"24px\"viewBox=\"0 0 24 24\"\n",
              "       width=\"24px\">\n",
              "    <path d=\"M0 0h24v24H0V0z\" fill=\"none\"/>\n",
              "    <path d=\"M18.56 5.44l.94 2.06.94-2.06 2.06-.94-2.06-.94-.94-2.06-.94 2.06-2.06.94zm-11 1L8.5 8.5l.94-2.06 2.06-.94-2.06-.94L8.5 2.5l-.94 2.06-2.06.94zm10 10l.94 2.06.94-2.06 2.06-.94-2.06-.94-.94-2.06-.94 2.06-2.06.94z\"/><path d=\"M17.41 7.96l-1.37-1.37c-.4-.4-.92-.59-1.43-.59-.52 0-1.04.2-1.43.59L10.3 9.45l-7.72 7.72c-.78.78-.78 2.05 0 2.83L4 21.41c.39.39.9.59 1.41.59.51 0 1.02-.2 1.41-.59l7.78-7.78 2.81-2.81c.8-.78.8-2.07 0-2.86zM5.41 20L4 18.59l7.72-7.72 1.47 1.35L5.41 20z\"/>\n",
              "  </svg>\n",
              "      </button>\n",
              "      \n",
              "  <style>\n",
              "    .colab-df-container {\n",
              "      display:flex;\n",
              "      flex-wrap:wrap;\n",
              "      gap: 12px;\n",
              "    }\n",
              "\n",
              "    .colab-df-convert {\n",
              "      background-color: #E8F0FE;\n",
              "      border: none;\n",
              "      border-radius: 50%;\n",
              "      cursor: pointer;\n",
              "      display: none;\n",
              "      fill: #1967D2;\n",
              "      height: 32px;\n",
              "      padding: 0 0 0 0;\n",
              "      width: 32px;\n",
              "    }\n",
              "\n",
              "    .colab-df-convert:hover {\n",
              "      background-color: #E2EBFA;\n",
              "      box-shadow: 0px 1px 2px rgba(60, 64, 67, 0.3), 0px 1px 3px 1px rgba(60, 64, 67, 0.15);\n",
              "      fill: #174EA6;\n",
              "    }\n",
              "\n",
              "    [theme=dark] .colab-df-convert {\n",
              "      background-color: #3B4455;\n",
              "      fill: #D2E3FC;\n",
              "    }\n",
              "\n",
              "    [theme=dark] .colab-df-convert:hover {\n",
              "      background-color: #434B5C;\n",
              "      box-shadow: 0px 1px 3px 1px rgba(0, 0, 0, 0.15);\n",
              "      filter: drop-shadow(0px 1px 2px rgba(0, 0, 0, 0.3));\n",
              "      fill: #FFFFFF;\n",
              "    }\n",
              "  </style>\n",
              "\n",
              "      <script>\n",
              "        const buttonEl =\n",
              "          document.querySelector('#df-1ffc0c8b-c7d0-4dd7-880d-3e2be6ef66e6 button.colab-df-convert');\n",
              "        buttonEl.style.display =\n",
              "          google.colab.kernel.accessAllowed ? 'block' : 'none';\n",
              "\n",
              "        async function convertToInteractive(key) {\n",
              "          const element = document.querySelector('#df-1ffc0c8b-c7d0-4dd7-880d-3e2be6ef66e6');\n",
              "          const dataTable =\n",
              "            await google.colab.kernel.invokeFunction('convertToInteractive',\n",
              "                                                     [key], {});\n",
              "          if (!dataTable) return;\n",
              "\n",
              "          const docLinkHtml = 'Like what you see? Visit the ' +\n",
              "            '<a target=\"_blank\" href=https://colab.research.google.com/notebooks/data_table.ipynb>data table notebook</a>'\n",
              "            + ' to learn more about interactive tables.';\n",
              "          element.innerHTML = '';\n",
              "          dataTable['output_type'] = 'display_data';\n",
              "          await google.colab.output.renderOutput(dataTable, element);\n",
              "          const docLink = document.createElement('div');\n",
              "          docLink.innerHTML = docLinkHtml;\n",
              "          element.appendChild(docLink);\n",
              "        }\n",
              "      </script>\n",
              "    </div>\n",
              "  </div>\n",
              "  "
            ]
          },
          "metadata": {},
          "execution_count": 592
        }
      ],
      "source": [
        "test[[\"EMI\"]].head()"
      ]
    },
    {
      "cell_type": "markdown",
      "metadata": {
        "_uuid": "06dbb9b5e213e7febfc59d3b40facae41982fafb",
        "id": "rlZ5b45FAk3A"
      },
      "source": [
        "Let’s check the distribution of EMI variable."
      ]
    },
    {
      "cell_type": "code",
      "execution_count": null,
      "metadata": {
        "_uuid": "96c9f4519f97c78c9520f6f3ed12a3a7be128714",
        "colab": {
          "base_uri": "https://localhost:8080/",
          "height": 296
        },
        "id": "-GqsWrb5Ak3A",
        "outputId": "a87ad113-d950-4e81-f6ba-9113b6634eff"
      },
      "outputs": [
        {
          "output_type": "execute_result",
          "data": {
            "text/plain": [
              "<matplotlib.axes._subplots.AxesSubplot at 0x7f46df41e2d0>"
            ]
          },
          "metadata": {},
          "execution_count": 593
        },
        {
          "output_type": "display_data",
          "data": {
            "text/plain": [
              "<Figure size 432x288 with 1 Axes>"
            ],
            "image/png": "[encoded data removed]"
          },
          "metadata": {
            "needs_background": "light"
          }
        }
      ],
      "source": [
        "sns.distplot(train[\"EMI\"])"
      ]
    },
    {
      "cell_type": "code",
      "execution_count": null,
      "metadata": {
        "_uuid": "0ceaae53ab6a66332183c0d0d98f888c341d708e",
        "colab": {
          "base_uri": "https://localhost:8080/",
          "height": 296
        },
        "id": "ks_d3TrfAk3A",
        "outputId": "b2369952-9e90-49c0-c96a-6076daf6989b"
      },
      "outputs": [
        {
          "output_type": "execute_result",
          "data": {
            "text/plain": [
              "<matplotlib.axes._subplots.AxesSubplot at 0x7f46df3f45d0>"
            ]
          },
          "metadata": {},
          "execution_count": 594
        },
        {
          "output_type": "display_data",
          "data": {
            "text/plain": [
              "<Figure size 432x288 with 1 Axes>"
            ],
            "image/png": "[encoded data removed]"
          },
          "metadata": {
            "needs_background": "light"
          }
        }
      ],
      "source": [
        "sns.distplot(test[\"EMI\"])"
      ]
    },
    {
      "cell_type": "markdown",
      "metadata": {
        "_uuid": "190620fe79e20f7baac809f841e9ac5c0e0f6783",
        "id": "ctOCeoOTAk3A"
      },
      "source": [
        "Let's create Balance Income feature now and check its distribution."
      ]
    },
    {
      "cell_type": "code",
      "execution_count": null,
      "metadata": {
        "_uuid": "79225d94e62119ff41a773e03f9c7ed0de3a917a",
        "id": "pX2mH_ZiAk3A"
      },
      "outputs": [],
      "source": [
        "train[\"Balance_Income\"] = train[\"TotalIncome\"]-train[\"EMI\"]*1000 # To make the units equal we multiply with 1000\n",
        "test[\"Balance_Income\"] = test[\"TotalIncome\"]-test[\"EMI\"]"
      ]
    },
    {
      "cell_type": "markdown",
      "metadata": {
        "_uuid": "b8dc498b3f7b3abe64d966768bcc766bbae222ea",
        "id": "P-nIGAQdAk3A"
      },
      "source": [
        "Have a look of train dataset \"Balance Income\""
      ]
    },
    {
      "cell_type": "code",
      "execution_count": null,
      "metadata": {
        "_uuid": "93c3bf327493fb0c4f50e1896dd357a9f57f9b0b",
        "colab": {
          "base_uri": "https://localhost:8080/",
          "height": 206
        },
        "id": "LcvJK99GAk3A",
        "outputId": "80d99c0a-2f67-40cf-b1d6-01c7a1485884"
      },
      "outputs": [
        {
          "output_type": "execute_result",
          "data": {
            "text/plain": [
              "   Balance_Income\n",
              "0     5493.444444\n",
              "1     5735.444444\n",
              "2     2816.666667\n",
              "3     4607.666667\n",
              "4     5608.333333"
            ],
            "text/html": [
              "\n",
              "  <div id=\"df-925af163-feaf-4740-b61b-9f6d0e63e6e0\">\n",
              "    <div class=\"colab-df-container\">\n",
              "      <div>\n",
              "<style scoped>\n",
              "    .dataframe tbody tr th:only-of-type {\n",
              "        vertical-align: middle;\n",
              "    }\n",
              "\n",
              "    .dataframe tbody tr th {\n",
              "        vertical-align: top;\n",
              "    }\n",
              "\n",
              "    .dataframe thead th {\n",
              "        text-align: right;\n",
              "    }\n",
              "</style>\n",
              "<table border=\"1\" class=\"dataframe\">\n",
              "  <thead>\n",
              "    <tr style=\"text-align: right;\">\n",
              "      <th></th>\n",
              "      <th>Balance_Income</th>\n",
              "    </tr>\n",
              "  </thead>\n",
              "  <tbody>\n",
              "    <tr>\n",
              "      <th>0</th>\n",
              "      <td>5493.444444</td>\n",
              "    </tr>\n",
              "    <tr>\n",
              "      <th>1</th>\n",
              "      <td>5735.444444</td>\n",
              "    </tr>\n",
              "    <tr>\n",
              "      <th>2</th>\n",
              "      <td>2816.666667</td>\n",
              "    </tr>\n",
              "    <tr>\n",
              "      <th>3</th>\n",
              "      <td>4607.666667</td>\n",
              "    </tr>\n",
              "    <tr>\n",
              "      <th>4</th>\n",
              "      <td>5608.333333</td>\n",
              "    </tr>\n",
              "  </tbody>\n",
              "</table>\n",
              "</div>\n",
              "      <button class=\"colab-df-convert\" onclick=\"convertToInteractive('df-925af163-feaf-4740-b61b-9f6d0e63e6e0')\"\n",
              "              title=\"Convert this dataframe to an interactive table.\"\n",
              "              style=\"display:none;\">\n",
              "        \n",
              "  <svg xmlns=\"http://www.w3.org/2000/svg\" height=\"24px\"viewBox=\"0 0 24 24\"\n",
              "       width=\"24px\">\n",
              "    <path d=\"M0 0h24v24H0V0z\" fill=\"none\"/>\n",
              "    <path d=\"M18.56 5.44l.94 2.06.94-2.06 2.06-.94-2.06-.94-.94-2.06-.94 2.06-2.06.94zm-11 1L8.5 8.5l.94-2.06 2.06-.94-2.06-.94L8.5 2.5l-.94 2.06-2.06.94zm10 10l.94 2.06.94-2.06 2.06-.94-2.06-.94-.94-2.06-.94 2.06-2.06.94z\"/><path d=\"M17.41 7.96l-1.37-1.37c-.4-.4-.92-.59-1.43-.59-.52 0-1.04.2-1.43.59L10.3 9.45l-7.72 7.72c-.78.78-.78 2.05 0 2.83L4 21.41c.39.39.9.59 1.41.59.51 0 1.02-.2 1.41-.59l7.78-7.78 2.81-2.81c.8-.78.8-2.07 0-2.86zM5.41 20L4 18.59l7.72-7.72 1.47 1.35L5.41 20z\"/>\n",
              "  </svg>\n",
              "      </button>\n",
              "      \n",
              "  <style>\n",
              "    .colab-df-container {\n",
              "      display:flex;\n",
              "      flex-wrap:wrap;\n",
              "      gap: 12px;\n",
              "    }\n",
              "\n",
              "    .colab-df-convert {\n",
              "      background-color: #E8F0FE;\n",
              "      border: none;\n",
              "      border-radius: 50%;\n",
              "      cursor: pointer;\n",
              "      display: none;\n",
              "      fill: #1967D2;\n",
              "      height: 32px;\n",
              "      padding: 0 0 0 0;\n",
              "      width: 32px;\n",
              "    }\n",
              "\n",
              "    .colab-df-convert:hover {\n",
              "      background-color: #E2EBFA;\n",
              "      box-shadow: 0px 1px 2px rgba(60, 64, 67, 0.3), 0px 1px 3px 1px rgba(60, 64, 67, 0.15);\n",
              "      fill: #174EA6;\n",
              "    }\n",
              "\n",
              "    [theme=dark] .colab-df-convert {\n",
              "      background-color: #3B4455;\n",
              "      fill: #D2E3FC;\n",
              "    }\n",
              "\n",
              "    [theme=dark] .colab-df-convert:hover {\n",
              "      background-color: #434B5C;\n",
              "      box-shadow: 0px 1px 3px 1px rgba(0, 0, 0, 0.15);\n",
              "      filter: drop-shadow(0px 1px 2px rgba(0, 0, 0, 0.3));\n",
              "      fill: #FFFFFF;\n",
              "    }\n",
              "  </style>\n",
              "\n",
              "      <script>\n",
              "        const buttonEl =\n",
              "          document.querySelector('#df-925af163-feaf-4740-b61b-9f6d0e63e6e0 button.colab-df-convert');\n",
              "        buttonEl.style.display =\n",
              "          google.colab.kernel.accessAllowed ? 'block' : 'none';\n",
              "\n",
              "        async function convertToInteractive(key) {\n",
              "          const element = document.querySelector('#df-925af163-feaf-4740-b61b-9f6d0e63e6e0');\n",
              "          const dataTable =\n",
              "            await google.colab.kernel.invokeFunction('convertToInteractive',\n",
              "                                                     [key], {});\n",
              "          if (!dataTable) return;\n",
              "\n",
              "          const docLinkHtml = 'Like what you see? Visit the ' +\n",
              "            '<a target=\"_blank\" href=https://colab.research.google.com/notebooks/data_table.ipynb>data table notebook</a>'\n",
              "            + ' to learn more about interactive tables.';\n",
              "          element.innerHTML = '';\n",
              "          dataTable['output_type'] = 'display_data';\n",
              "          await google.colab.output.renderOutput(dataTable, element);\n",
              "          const docLink = document.createElement('div');\n",
              "          docLink.innerHTML = docLinkHtml;\n",
              "          element.appendChild(docLink);\n",
              "        }\n",
              "      </script>\n",
              "    </div>\n",
              "  </div>\n",
              "  "
            ]
          },
          "metadata": {},
          "execution_count": 596
        }
      ],
      "source": [
        "train[[\"Balance_Income\"]].head()"
      ]
    },
    {
      "cell_type": "markdown",
      "metadata": {
        "_uuid": "f3880f59d7475d93f801a4fa820f0432ea82db5f",
        "id": "NMSqEizUAk3A"
      },
      "source": [
        "Have a look of test dataset \"Balance Income\""
      ]
    },
    {
      "cell_type": "code",
      "execution_count": null,
      "metadata": {
        "_uuid": "2961d2d90d67a25994ddbb8ccbe8841e3f7d314c",
        "colab": {
          "base_uri": "https://localhost:8080/",
          "height": 206
        },
        "id": "UmLQLmc4Ak3A",
        "outputId": "0a936d48-a408-490a-d32a-398bd8479d91"
      },
      "outputs": [
        {
          "output_type": "execute_result",
          "data": {
            "text/plain": [
              "   Balance_Income\n",
              "0     5719.694444\n",
              "1     4575.650000\n",
              "2     6799.422222\n",
              "3     4885.722222\n",
              "4     3275.783333"
            ],
            "text/html": [
              "\n",
              "  <div id=\"df-6ff35ca6-a056-4d37-82e2-174941fd9dcd\">\n",
              "    <div class=\"colab-df-container\">\n",
              "      <div>\n",
              "<style scoped>\n",
              "    .dataframe tbody tr th:only-of-type {\n",
              "        vertical-align: middle;\n",
              "    }\n",
              "\n",
              "    .dataframe tbody tr th {\n",
              "        vertical-align: top;\n",
              "    }\n",
              "\n",
              "    .dataframe thead th {\n",
              "        text-align: right;\n",
              "    }\n",
              "</style>\n",
              "<table border=\"1\" class=\"dataframe\">\n",
              "  <thead>\n",
              "    <tr style=\"text-align: right;\">\n",
              "      <th></th>\n",
              "      <th>Balance_Income</th>\n",
              "    </tr>\n",
              "  </thead>\n",
              "  <tbody>\n",
              "    <tr>\n",
              "      <th>0</th>\n",
              "      <td>5719.694444</td>\n",
              "    </tr>\n",
              "    <tr>\n",
              "      <th>1</th>\n",
              "      <td>4575.650000</td>\n",
              "    </tr>\n",
              "    <tr>\n",
              "      <th>2</th>\n",
              "      <td>6799.422222</td>\n",
              "    </tr>\n",
              "    <tr>\n",
              "      <th>3</th>\n",
              "      <td>4885.722222</td>\n",
              "    </tr>\n",
              "    <tr>\n",
              "      <th>4</th>\n",
              "      <td>3275.783333</td>\n",
              "    </tr>\n",
              "  </tbody>\n",
              "</table>\n",
              "</div>\n",
              "      <button class=\"colab-df-convert\" onclick=\"convertToInteractive('df-6ff35ca6-a056-4d37-82e2-174941fd9dcd')\"\n",
              "              title=\"Convert this dataframe to an interactive table.\"\n",
              "              style=\"display:none;\">\n",
              "        \n",
              "  <svg xmlns=\"http://www.w3.org/2000/svg\" height=\"24px\"viewBox=\"0 0 24 24\"\n",
              "       width=\"24px\">\n",
              "    <path d=\"M0 0h24v24H0V0z\" fill=\"none\"/>\n",
              "    <path d=\"M18.56 5.44l.94 2.06.94-2.06 2.06-.94-2.06-.94-.94-2.06-.94 2.06-2.06.94zm-11 1L8.5 8.5l.94-2.06 2.06-.94-2.06-.94L8.5 2.5l-.94 2.06-2.06.94zm10 10l.94 2.06.94-2.06 2.06-.94-2.06-.94-.94-2.06-.94 2.06-2.06.94z\"/><path d=\"M17.41 7.96l-1.37-1.37c-.4-.4-.92-.59-1.43-.59-.52 0-1.04.2-1.43.59L10.3 9.45l-7.72 7.72c-.78.78-.78 2.05 0 2.83L4 21.41c.39.39.9.59 1.41.59.51 0 1.02-.2 1.41-.59l7.78-7.78 2.81-2.81c.8-.78.8-2.07 0-2.86zM5.41 20L4 18.59l7.72-7.72 1.47 1.35L5.41 20z\"/>\n",
              "  </svg>\n",
              "      </button>\n",
              "      \n",
              "  <style>\n",
              "    .colab-df-container {\n",
              "      display:flex;\n",
              "      flex-wrap:wrap;\n",
              "      gap: 12px;\n",
              "    }\n",
              "\n",
              "    .colab-df-convert {\n",
              "      background-color: #E8F0FE;\n",
              "      border: none;\n",
              "      border-radius: 50%;\n",
              "      cursor: pointer;\n",
              "      display: none;\n",
              "      fill: #1967D2;\n",
              "      height: 32px;\n",
              "      padding: 0 0 0 0;\n",
              "      width: 32px;\n",
              "    }\n",
              "\n",
              "    .colab-df-convert:hover {\n",
              "      background-color: #E2EBFA;\n",
              "      box-shadow: 0px 1px 2px rgba(60, 64, 67, 0.3), 0px 1px 3px 1px rgba(60, 64, 67, 0.15);\n",
              "      fill: #174EA6;\n",
              "    }\n",
              "\n",
              "    [theme=dark] .colab-df-convert {\n",
              "      background-color: #3B4455;\n",
              "      fill: #D2E3FC;\n",
              "    }\n",
              "\n",
              "    [theme=dark] .colab-df-convert:hover {\n",
              "      background-color: #434B5C;\n",
              "      box-shadow: 0px 1px 3px 1px rgba(0, 0, 0, 0.15);\n",
              "      filter: drop-shadow(0px 1px 2px rgba(0, 0, 0, 0.3));\n",
              "      fill: #FFFFFF;\n",
              "    }\n",
              "  </style>\n",
              "\n",
              "      <script>\n",
              "        const buttonEl =\n",
              "          document.querySelector('#df-6ff35ca6-a056-4d37-82e2-174941fd9dcd button.colab-df-convert');\n",
              "        buttonEl.style.display =\n",
              "          google.colab.kernel.accessAllowed ? 'block' : 'none';\n",
              "\n",
              "        async function convertToInteractive(key) {\n",
              "          const element = document.querySelector('#df-6ff35ca6-a056-4d37-82e2-174941fd9dcd');\n",
              "          const dataTable =\n",
              "            await google.colab.kernel.invokeFunction('convertToInteractive',\n",
              "                                                     [key], {});\n",
              "          if (!dataTable) return;\n",
              "\n",
              "          const docLinkHtml = 'Like what you see? Visit the ' +\n",
              "            '<a target=\"_blank\" href=https://colab.research.google.com/notebooks/data_table.ipynb>data table notebook</a>'\n",
              "            + ' to learn more about interactive tables.';\n",
              "          element.innerHTML = '';\n",
              "          dataTable['output_type'] = 'display_data';\n",
              "          await google.colab.output.renderOutput(dataTable, element);\n",
              "          const docLink = document.createElement('div');\n",
              "          docLink.innerHTML = docLinkHtml;\n",
              "          element.appendChild(docLink);\n",
              "        }\n",
              "      </script>\n",
              "    </div>\n",
              "  </div>\n",
              "  "
            ]
          },
          "metadata": {},
          "execution_count": 597
        }
      ],
      "source": [
        "test[[\"Balance_Income\"]].head()"
      ]
    },
    {
      "cell_type": "markdown",
      "metadata": {
        "_uuid": "2f0c4a321caebeba7183c15e17a69e539921070a",
        "id": "vzCLX2ZqAk3B"
      },
      "source": [
        "Let us now drop the variables which we used to create these new features. Reason for doing this is, the correlation between those old features and these new features will be very high and logistic regression assumes that the variables are not highly correlated. We also wants to remove the noise from the dataset, so removing correlated features will help in reducing the noise too."
      ]
    },
    {
      "cell_type": "code",
      "execution_count": null,
      "metadata": {
        "_uuid": "be05278decfd15fa7c411df63d7367b7389cf4ae",
        "id": "AuyWLLfTAk3B"
      },
      "outputs": [],
      "source": [
        "train=train.drop([\"ApplicantIncome\",\"CoapplicantIncome\",\"LoanAmount\",\"Loan_Amount_Term\"],axis=1)"
      ]
    },
    {
      "cell_type": "code",
      "execution_count": null,
      "metadata": {
        "_uuid": "91d691ef2acca708ce16a56e26f32199bd0fa3b0",
        "colab": {
          "base_uri": "https://localhost:8080/",
          "height": 206
        },
        "id": "6TkPESVgAk3B",
        "outputId": "7c30bc67-d6ef-458a-b550-38dea869dadb"
      },
      "outputs": [
        {
          "output_type": "execute_result",
          "data": {
            "text/plain": [
              "    Loan_ID Gender Married Dependents     Education Self_Employed  \\\n",
              "0  LP001002   Male      No          0      Graduate            No   \n",
              "1  LP001003   Male     Yes          1      Graduate            No   \n",
              "2  LP001005   Male     Yes          0      Graduate           Yes   \n",
              "3  LP001006   Male     Yes          0  Not Graduate            No   \n",
              "4  LP001008   Male      No          0      Graduate            No   \n",
              "\n",
              "   Credit_History Property_Area Loan_Status  LoanAmount_log  TotalIncome  \\\n",
              "0             1.0         Urban           Y        4.852030       5849.0   \n",
              "1             1.0         Rural           N        4.852030       6091.0   \n",
              "2             1.0         Urban           Y        4.189655       3000.0   \n",
              "3             1.0         Urban           Y        4.787492       4941.0   \n",
              "4             1.0         Urban           Y        4.948760       6000.0   \n",
              "\n",
              "   TotalIncome_log       EMI  Balance_Income  \n",
              "0         8.674026  0.355556     5493.444444  \n",
              "1         8.714568  0.355556     5735.444444  \n",
              "2         8.006368  0.183333     2816.666667  \n",
              "3         8.505323  0.333333     4607.666667  \n",
              "4         8.699515  0.391667     5608.333333  "
            ],
            "text/html": [
              "\n",
              "  <div id=\"df-7344b95e-0069-4ff9-9e2e-8a8abae1dcec\">\n",
              "    <div class=\"colab-df-container\">\n",
              "      <div>\n",
              "<style scoped>\n",
              "    .dataframe tbody tr th:only-of-type {\n",
              "        vertical-align: middle;\n",
              "    }\n",
              "\n",
              "    .dataframe tbody tr th {\n",
              "        vertical-align: top;\n",
              "    }\n",
              "\n",
              "    .dataframe thead th {\n",
              "        text-align: right;\n",
              "    }\n",
              "</style>\n",
              "<table border=\"1\" class=\"dataframe\">\n",
              "  <thead>\n",
              "    <tr style=\"text-align: right;\">\n",
              "      <th></th>\n",
              "      <th>Loan_ID</th>\n",
              "      <th>Gender</th>\n",
              "      <th>Married</th>\n",
              "      <th>Dependents</th>\n",
              "      <th>Education</th>\n",
              "      <th>Self_Employed</th>\n",
              "      <th>Credit_History</th>\n",
              "      <th>Property_Area</th>\n",
              "      <th>Loan_Status</th>\n",
              "      <th>LoanAmount_log</th>\n",
              "      <th>TotalIncome</th>\n",
              "      <th>TotalIncome_log</th>\n",
              "      <th>EMI</th>\n",
              "      <th>Balance_Income</th>\n",
              "    </tr>\n",
              "  </thead>\n",
              "  <tbody>\n",
              "    <tr>\n",
              "      <th>0</th>\n",
              "      <td>LP001002</td>\n",
              "      <td>Male</td>\n",
              "      <td>No</td>\n",
              "      <td>0</td>\n",
              "      <td>Graduate</td>\n",
              "      <td>No</td>\n",
              "      <td>1.0</td>\n",
              "      <td>Urban</td>\n",
              "      <td>Y</td>\n",
              "      <td>4.852030</td>\n",
              "      <td>5849.0</td>\n",
              "      <td>8.674026</td>\n",
              "      <td>0.355556</td>\n",
              "      <td>5493.444444</td>\n",
              "    </tr>\n",
              "    <tr>\n",
              "      <th>1</th>\n",
              "      <td>LP001003</td>\n",
              "      <td>Male</td>\n",
              "      <td>Yes</td>\n",
              "      <td>1</td>\n",
              "      <td>Graduate</td>\n",
              "      <td>No</td>\n",
              "      <td>1.0</td>\n",
              "      <td>Rural</td>\n",
              "      <td>N</td>\n",
              "      <td>4.852030</td>\n",
              "      <td>6091.0</td>\n",
              "      <td>8.714568</td>\n",
              "      <td>0.355556</td>\n",
              "      <td>5735.444444</td>\n",
              "    </tr>\n",
              "    <tr>\n",
              "      <th>2</th>\n",
              "      <td>LP001005</td>\n",
              "      <td>Male</td>\n",
              "      <td>Yes</td>\n",
              "      <td>0</td>\n",
              "      <td>Graduate</td>\n",
              "      <td>Yes</td>\n",
              "      <td>1.0</td>\n",
              "      <td>Urban</td>\n",
              "      <td>Y</td>\n",
              "      <td>4.189655</td>\n",
              "      <td>3000.0</td>\n",
              "      <td>8.006368</td>\n",
              "      <td>0.183333</td>\n",
              "      <td>2816.666667</td>\n",
              "    </tr>\n",
              "    <tr>\n",
              "      <th>3</th>\n",
              "      <td>LP001006</td>\n",
              "      <td>Male</td>\n",
              "      <td>Yes</td>\n",
              "      <td>0</td>\n",
              "      <td>Not Graduate</td>\n",
              "      <td>No</td>\n",
              "      <td>1.0</td>\n",
              "      <td>Urban</td>\n",
              "      <td>Y</td>\n",
              "      <td>4.787492</td>\n",
              "      <td>4941.0</td>\n",
              "      <td>8.505323</td>\n",
              "      <td>0.333333</td>\n",
              "      <td>4607.666667</td>\n",
              "    </tr>\n",
              "    <tr>\n",
              "      <th>4</th>\n",
              "      <td>LP001008</td>\n",
              "      <td>Male</td>\n",
              "      <td>No</td>\n",
              "      <td>0</td>\n",
              "      <td>Graduate</td>\n",
              "      <td>No</td>\n",
              "      <td>1.0</td>\n",
              "      <td>Urban</td>\n",
              "      <td>Y</td>\n",
              "      <td>4.948760</td>\n",
              "      <td>6000.0</td>\n",
              "      <td>8.699515</td>\n",
              "      <td>0.391667</td>\n",
              "      <td>5608.333333</td>\n",
              "    </tr>\n",
              "  </tbody>\n",
              "</table>\n",
              "</div>\n",
              "      <button class=\"colab-df-convert\" onclick=\"convertToInteractive('df-7344b95e-0069-4ff9-9e2e-8a8abae1dcec')\"\n",
              "              title=\"Convert this dataframe to an interactive table.\"\n",
              "              style=\"display:none;\">\n",
              "        \n",
              "  <svg xmlns=\"http://www.w3.org/2000/svg\" height=\"24px\"viewBox=\"0 0 24 24\"\n",
              "       width=\"24px\">\n",
              "    <path d=\"M0 0h24v24H0V0z\" fill=\"none\"/>\n",
              "    <path d=\"M18.56 5.44l.94 2.06.94-2.06 2.06-.94-2.06-.94-.94-2.06-.94 2.06-2.06.94zm-11 1L8.5 8.5l.94-2.06 2.06-.94-2.06-.94L8.5 2.5l-.94 2.06-2.06.94zm10 10l.94 2.06.94-2.06 2.06-.94-2.06-.94-.94-2.06-.94 2.06-2.06.94z\"/><path d=\"M17.41 7.96l-1.37-1.37c-.4-.4-.92-.59-1.43-.59-.52 0-1.04.2-1.43.59L10.3 9.45l-7.72 7.72c-.78.78-.78 2.05 0 2.83L4 21.41c.39.39.9.59 1.41.59.51 0 1.02-.2 1.41-.59l7.78-7.78 2.81-2.81c.8-.78.8-2.07 0-2.86zM5.41 20L4 18.59l7.72-7.72 1.47 1.35L5.41 20z\"/>\n",
              "  </svg>\n",
              "      </button>\n",
              "      \n",
              "  <style>\n",
              "    .colab-df-container {\n",
              "      display:flex;\n",
              "      flex-wrap:wrap;\n",
              "      gap: 12px;\n",
              "    }\n",
              "\n",
              "    .colab-df-convert {\n",
              "      background-color: #E8F0FE;\n",
              "      border: none;\n",
              "      border-radius: 50%;\n",
              "      cursor: pointer;\n",
              "      display: none;\n",
              "      fill: #1967D2;\n",
              "      height: 32px;\n",
              "      padding: 0 0 0 0;\n",
              "      width: 32px;\n",
              "    }\n",
              "\n",
              "    .colab-df-convert:hover {\n",
              "      background-color: #E2EBFA;\n",
              "      box-shadow: 0px 1px 2px rgba(60, 64, 67, 0.3), 0px 1px 3px 1px rgba(60, 64, 67, 0.15);\n",
              "      fill: #174EA6;\n",
              "    }\n",
              "\n",
              "    [theme=dark] .colab-df-convert {\n",
              "      background-color: #3B4455;\n",
              "      fill: #D2E3FC;\n",
              "    }\n",
              "\n",
              "    [theme=dark] .colab-df-convert:hover {\n",
              "      background-color: #434B5C;\n",
              "      box-shadow: 0px 1px 3px 1px rgba(0, 0, 0, 0.15);\n",
              "      filter: drop-shadow(0px 1px 2px rgba(0, 0, 0, 0.3));\n",
              "      fill: #FFFFFF;\n",
              "    }\n",
              "  </style>\n",
              "\n",
              "      <script>\n",
              "        const buttonEl =\n",
              "          document.querySelector('#df-7344b95e-0069-4ff9-9e2e-8a8abae1dcec button.colab-df-convert');\n",
              "        buttonEl.style.display =\n",
              "          google.colab.kernel.accessAllowed ? 'block' : 'none';\n",
              "\n",
              "        async function convertToInteractive(key) {\n",
              "          const element = document.querySelector('#df-7344b95e-0069-4ff9-9e2e-8a8abae1dcec');\n",
              "          const dataTable =\n",
              "            await google.colab.kernel.invokeFunction('convertToInteractive',\n",
              "                                                     [key], {});\n",
              "          if (!dataTable) return;\n",
              "\n",
              "          const docLinkHtml = 'Like what you see? Visit the ' +\n",
              "            '<a target=\"_blank\" href=https://colab.research.google.com/notebooks/data_table.ipynb>data table notebook</a>'\n",
              "            + ' to learn more about interactive tables.';\n",
              "          element.innerHTML = '';\n",
              "          dataTable['output_type'] = 'display_data';\n",
              "          await google.colab.output.renderOutput(dataTable, element);\n",
              "          const docLink = document.createElement('div');\n",
              "          docLink.innerHTML = docLinkHtml;\n",
              "          element.appendChild(docLink);\n",
              "        }\n",
              "      </script>\n",
              "    </div>\n",
              "  </div>\n",
              "  "
            ]
          },
          "metadata": {},
          "execution_count": 599
        }
      ],
      "source": [
        "train.head()"
      ]
    },
    {
      "cell_type": "code",
      "execution_count": null,
      "metadata": {
        "_uuid": "7bee87af79d18bad23bdf208fa7408ad743c9f06",
        "id": "Wz4lQilpAk3C"
      },
      "outputs": [],
      "source": [
        "test = test.drop([\"ApplicantIncome\",\"CoapplicantIncome\",\"LoanAmount\",\"Loan_Amount_Term\"],axis=1)"
      ]
    },
    {
      "cell_type": "code",
      "execution_count": null,
      "metadata": {
        "_uuid": "20387c78ef3f60beeff2b3f0f3091c81ac87b1f0",
        "colab": {
          "base_uri": "https://localhost:8080/",
          "height": 206
        },
        "id": "30XfringAk3C",
        "outputId": "3f09af34-6b80-48e8-922b-9f6ffd6329bb"
      },
      "outputs": [
        {
          "output_type": "execute_result",
          "data": {
            "text/plain": [
              "    Loan_ID Gender Married Dependents     Education Self_Employed  \\\n",
              "0  LP001015   Male     Yes          0      Graduate            No   \n",
              "1  LP001022   Male     Yes          1      Graduate            No   \n",
              "2  LP001031   Male     Yes          2      Graduate            No   \n",
              "3  LP001035   Male     Yes          2      Graduate            No   \n",
              "4  LP001051   Male      No          0  Not Graduate            No   \n",
              "\n",
              "   Credit_History Property_Area  LoanAmount_log  TotalIncome  TotalIncome_log  \\\n",
              "0             1.0         Urban        4.852030         5720         8.674026   \n",
              "1             1.0         Urban        4.852030         4576         8.714568   \n",
              "2             1.0         Urban        4.189655         6800         8.006368   \n",
              "3             1.0         Urban        4.787492         4886         8.505323   \n",
              "4             1.0         Urban        4.948760         3276         8.699515   \n",
              "\n",
              "        EMI  Balance_Income  \n",
              "0  0.305556     5719.694444  \n",
              "1  0.350000     4575.650000  \n",
              "2  0.577778     6799.422222  \n",
              "3  0.277778     4885.722222  \n",
              "4  0.216667     3275.783333  "
            ],
            "text/html": [
              "\n",
              "  <div id=\"df-a62c4a1f-9874-42c2-a853-de2b8253a95e\">\n",
              "    <div class=\"colab-df-container\">\n",
              "      <div>\n",
              "<style scoped>\n",
              "    .dataframe tbody tr th:only-of-type {\n",
              "        vertical-align: middle;\n",
              "    }\n",
              "\n",
              "    .dataframe tbody tr th {\n",
              "        vertical-align: top;\n",
              "    }\n",
              "\n",
              "    .dataframe thead th {\n",
              "        text-align: right;\n",
              "    }\n",
              "</style>\n",
              "<table border=\"1\" class=\"dataframe\">\n",
              "  <thead>\n",
              "    <tr style=\"text-align: right;\">\n",
              "      <th></th>\n",
              "      <th>Loan_ID</th>\n",
              "      <th>Gender</th>\n",
              "      <th>Married</th>\n",
              "      <th>Dependents</th>\n",
              "      <th>Education</th>\n",
              "      <th>Self_Employed</th>\n",
              "      <th>Credit_History</th>\n",
              "      <th>Property_Area</th>\n",
              "      <th>LoanAmount_log</th>\n",
              "      <th>TotalIncome</th>\n",
              "      <th>TotalIncome_log</th>\n",
              "      <th>EMI</th>\n",
              "      <th>Balance_Income</th>\n",
              "    </tr>\n",
              "  </thead>\n",
              "  <tbody>\n",
              "    <tr>\n",
              "      <th>0</th>\n",
              "      <td>LP001015</td>\n",
              "      <td>Male</td>\n",
              "      <td>Yes</td>\n",
              "      <td>0</td>\n",
              "      <td>Graduate</td>\n",
              "      <td>No</td>\n",
              "      <td>1.0</td>\n",
              "      <td>Urban</td>\n",
              "      <td>4.852030</td>\n",
              "      <td>5720</td>\n",
              "      <td>8.674026</td>\n",
              "      <td>0.305556</td>\n",
              "      <td>5719.694444</td>\n",
              "    </tr>\n",
              "    <tr>\n",
              "      <th>1</th>\n",
              "      <td>LP001022</td>\n",
              "      <td>Male</td>\n",
              "      <td>Yes</td>\n",
              "      <td>1</td>\n",
              "      <td>Graduate</td>\n",
              "      <td>No</td>\n",
              "      <td>1.0</td>\n",
              "      <td>Urban</td>\n",
              "      <td>4.852030</td>\n",
              "      <td>4576</td>\n",
              "      <td>8.714568</td>\n",
              "      <td>0.350000</td>\n",
              "      <td>4575.650000</td>\n",
              "    </tr>\n",
              "    <tr>\n",
              "      <th>2</th>\n",
              "      <td>LP001031</td>\n",
              "      <td>Male</td>\n",
              "      <td>Yes</td>\n",
              "      <td>2</td>\n",
              "      <td>Graduate</td>\n",
              "      <td>No</td>\n",
              "      <td>1.0</td>\n",
              "      <td>Urban</td>\n",
              "      <td>4.189655</td>\n",
              "      <td>6800</td>\n",
              "      <td>8.006368</td>\n",
              "      <td>0.577778</td>\n",
              "      <td>6799.422222</td>\n",
              "    </tr>\n",
              "    <tr>\n",
              "      <th>3</th>\n",
              "      <td>LP001035</td>\n",
              "      <td>Male</td>\n",
              "      <td>Yes</td>\n",
              "      <td>2</td>\n",
              "      <td>Graduate</td>\n",
              "      <td>No</td>\n",
              "      <td>1.0</td>\n",
              "      <td>Urban</td>\n",
              "      <td>4.787492</td>\n",
              "      <td>4886</td>\n",
              "      <td>8.505323</td>\n",
              "      <td>0.277778</td>\n",
              "      <td>4885.722222</td>\n",
              "    </tr>\n",
              "    <tr>\n",
              "      <th>4</th>\n",
              "      <td>LP001051</td>\n",
              "      <td>Male</td>\n",
              "      <td>No</td>\n",
              "      <td>0</td>\n",
              "      <td>Not Graduate</td>\n",
              "      <td>No</td>\n",
              "      <td>1.0</td>\n",
              "      <td>Urban</td>\n",
              "      <td>4.948760</td>\n",
              "      <td>3276</td>\n",
              "      <td>8.699515</td>\n",
              "      <td>0.216667</td>\n",
              "      <td>3275.783333</td>\n",
              "    </tr>\n",
              "  </tbody>\n",
              "</table>\n",
              "</div>\n",
              "      <button class=\"colab-df-convert\" onclick=\"convertToInteractive('df-a62c4a1f-9874-42c2-a853-de2b8253a95e')\"\n",
              "              title=\"Convert this dataframe to an interactive table.\"\n",
              "              style=\"display:none;\">\n",
              "        \n",
              "  <svg xmlns=\"http://www.w3.org/2000/svg\" height=\"24px\"viewBox=\"0 0 24 24\"\n",
              "       width=\"24px\">\n",
              "    <path d=\"M0 0h24v24H0V0z\" fill=\"none\"/>\n",
              "    <path d=\"M18.56 5.44l.94 2.06.94-2.06 2.06-.94-2.06-.94-.94-2.06-.94 2.06-2.06.94zm-11 1L8.5 8.5l.94-2.06 2.06-.94-2.06-.94L8.5 2.5l-.94 2.06-2.06.94zm10 10l.94 2.06.94-2.06 2.06-.94-2.06-.94-.94-2.06-.94 2.06-2.06.94z\"/><path d=\"M17.41 7.96l-1.37-1.37c-.4-.4-.92-.59-1.43-.59-.52 0-1.04.2-1.43.59L10.3 9.45l-7.72 7.72c-.78.78-.78 2.05 0 2.83L4 21.41c.39.39.9.59 1.41.59.51 0 1.02-.2 1.41-.59l7.78-7.78 2.81-2.81c.8-.78.8-2.07 0-2.86zM5.41 20L4 18.59l7.72-7.72 1.47 1.35L5.41 20z\"/>\n",
              "  </svg>\n",
              "      </button>\n",
              "      \n",
              "  <style>\n",
              "    .colab-df-container {\n",
              "      display:flex;\n",
              "      flex-wrap:wrap;\n",
              "      gap: 12px;\n",
              "    }\n",
              "\n",
              "    .colab-df-convert {\n",
              "      background-color: #E8F0FE;\n",
              "      border: none;\n",
              "      border-radius: 50%;\n",
              "      cursor: pointer;\n",
              "      display: none;\n",
              "      fill: #1967D2;\n",
              "      height: 32px;\n",
              "      padding: 0 0 0 0;\n",
              "      width: 32px;\n",
              "    }\n",
              "\n",
              "    .colab-df-convert:hover {\n",
              "      background-color: #E2EBFA;\n",
              "      box-shadow: 0px 1px 2px rgba(60, 64, 67, 0.3), 0px 1px 3px 1px rgba(60, 64, 67, 0.15);\n",
              "      fill: #174EA6;\n",
              "    }\n",
              "\n",
              "    [theme=dark] .colab-df-convert {\n",
              "      background-color: #3B4455;\n",
              "      fill: #D2E3FC;\n",
              "    }\n",
              "\n",
              "    [theme=dark] .colab-df-convert:hover {\n",
              "      background-color: #434B5C;\n",
              "      box-shadow: 0px 1px 3px 1px rgba(0, 0, 0, 0.15);\n",
              "      filter: drop-shadow(0px 1px 2px rgba(0, 0, 0, 0.3));\n",
              "      fill: #FFFFFF;\n",
              "    }\n",
              "  </style>\n",
              "\n",
              "      <script>\n",
              "        const buttonEl =\n",
              "          document.querySelector('#df-a62c4a1f-9874-42c2-a853-de2b8253a95e button.colab-df-convert');\n",
              "        buttonEl.style.display =\n",
              "          google.colab.kernel.accessAllowed ? 'block' : 'none';\n",
              "\n",
              "        async function convertToInteractive(key) {\n",
              "          const element = document.querySelector('#df-a62c4a1f-9874-42c2-a853-de2b8253a95e');\n",
              "          const dataTable =\n",
              "            await google.colab.kernel.invokeFunction('convertToInteractive',\n",
              "                                                     [key], {});\n",
              "          if (!dataTable) return;\n",
              "\n",
              "          const docLinkHtml = 'Like what you see? Visit the ' +\n",
              "            '<a target=\"_blank\" href=https://colab.research.google.com/notebooks/data_table.ipynb>data table notebook</a>'\n",
              "            + ' to learn more about interactive tables.';\n",
              "          element.innerHTML = '';\n",
              "          dataTable['output_type'] = 'display_data';\n",
              "          await google.colab.output.renderOutput(dataTable, element);\n",
              "          const docLink = document.createElement('div');\n",
              "          docLink.innerHTML = docLinkHtml;\n",
              "          element.appendChild(docLink);\n",
              "        }\n",
              "      </script>\n",
              "    </div>\n",
              "  </div>\n",
              "  "
            ]
          },
          "metadata": {},
          "execution_count": 601
        }
      ],
      "source": [
        "test.head()"
      ]
    },
    {
      "cell_type": "markdown",
      "metadata": {
        "_uuid": "df8ec327fd1832b6a47d3a589df262c283553020",
        "id": "TMkfCM6iAk3C"
      },
      "source": [
        "# Model Building :"
      ]
    },
    {
      "cell_type": "markdown",
      "metadata": {
        "_uuid": "cfcf262234c1ba56513649264eef47782ab6254d",
        "id": "jibxDPuFAk3D"
      },
      "source": [
        "After creating new features, we can continue the model building process. "
      ]
    },
    {
      "cell_type": "markdown",
      "metadata": {
        "_uuid": "f725ef7b063d603af483f467bff19742278bcfab",
        "id": "g8cu46ihAk3D"
      },
      "source": [
        "We will build the following models in this section."
      ]
    },
    {
      "cell_type": "markdown",
      "metadata": {
        "_uuid": "4e59b181026fc1e5577f0137e0f6c8678ee748d2",
        "id": "2U-7KMQAAk3D"
      },
      "source": [
        "i)Logistic Regression\n"
      ]
    },
    {
      "cell_type": "markdown",
      "metadata": {
        "_uuid": "fc0fe7c1345c1e0f0ff77bf5130da9d53e96cbc6",
        "id": "k4EX8bjCAk3D"
      },
      "source": [
        "Let’s prepare the data for feeding into the models."
      ]
    },
    {
      "cell_type": "markdown",
      "metadata": {
        "_uuid": "50837b37afac768c1a9c9f2f4be4a6cc546149a9",
        "id": "HvlY29swAk3D"
      },
      "source": [
        "Let's drop the \"Loan_ID\" variable as it do not have any effect on the loan status. We will do the same changes to the test dataset which we did for the training dataset."
      ]
    },
    {
      "cell_type": "markdown",
      "metadata": {
        "_uuid": "2ac67f190905441a35cd1e0b369039c343b10e59",
        "id": "9wBodUgkAk3D"
      },
      "source": [
        "Drop \"Loan_ID\""
      ]
    },
    {
      "cell_type": "code",
      "execution_count": null,
      "metadata": {
        "_uuid": "5d21b5d91e49e55129890a9b1c9b95f5692202c9",
        "id": "OqteMkkKAk3D"
      },
      "outputs": [],
      "source": [
        "train=train.drop(\"Loan_ID\",axis=1)\n",
        "test=test.drop(\"Loan_ID\",axis=1)"
      ]
    },
    {
      "cell_type": "markdown",
      "metadata": {
        "_uuid": "d10188399684bd37120de74ad0b66021c9170ae3",
        "id": "-p53IFNYAk3D"
      },
      "source": [
        "After drop train dataset will look :"
      ]
    },
    {
      "cell_type": "code",
      "execution_count": null,
      "metadata": {
        "_uuid": "41b4ee58f6501e227c32e678e8dd740ee72492f9",
        "colab": {
          "base_uri": "https://localhost:8080/",
          "height": 143
        },
        "id": "mmSpdJDoAk3D",
        "outputId": "8c73b701-2347-4f7d-e0a6-61c381cc73fd"
      },
      "outputs": [
        {
          "output_type": "execute_result",
          "data": {
            "text/plain": [
              "  Gender Married Dependents Education Self_Employed  Credit_History  \\\n",
              "0   Male      No          0  Graduate            No             1.0   \n",
              "1   Male     Yes          1  Graduate            No             1.0   \n",
              "2   Male     Yes          0  Graduate           Yes             1.0   \n",
              "\n",
              "  Property_Area Loan_Status  LoanAmount_log  TotalIncome  TotalIncome_log  \\\n",
              "0         Urban           Y        4.852030       5849.0         8.674026   \n",
              "1         Rural           N        4.852030       6091.0         8.714568   \n",
              "2         Urban           Y        4.189655       3000.0         8.006368   \n",
              "\n",
              "        EMI  Balance_Income  \n",
              "0  0.355556     5493.444444  \n",
              "1  0.355556     5735.444444  \n",
              "2  0.183333     2816.666667  "
            ],
            "text/html": [
              "\n",
              "  <div id=\"df-04d6253c-cfb4-4eb2-b4e7-a57f1904fb09\">\n",
              "    <div class=\"colab-df-container\">\n",
              "      <div>\n",
              "<style scoped>\n",
              "    .dataframe tbody tr th:only-of-type {\n",
              "        vertical-align: middle;\n",
              "    }\n",
              "\n",
              "    .dataframe tbody tr th {\n",
              "        vertical-align: top;\n",
              "    }\n",
              "\n",
              "    .dataframe thead th {\n",
              "        text-align: right;\n",
              "    }\n",
              "</style>\n",
              "<table border=\"1\" class=\"dataframe\">\n",
              "  <thead>\n",
              "    <tr style=\"text-align: right;\">\n",
              "      <th></th>\n",
              "      <th>Gender</th>\n",
              "      <th>Married</th>\n",
              "      <th>Dependents</th>\n",
              "      <th>Education</th>\n",
              "      <th>Self_Employed</th>\n",
              "      <th>Credit_History</th>\n",
              "      <th>Property_Area</th>\n",
              "      <th>Loan_Status</th>\n",
              "      <th>LoanAmount_log</th>\n",
              "      <th>TotalIncome</th>\n",
              "      <th>TotalIncome_log</th>\n",
              "      <th>EMI</th>\n",
              "      <th>Balance_Income</th>\n",
              "    </tr>\n",
              "  </thead>\n",
              "  <tbody>\n",
              "    <tr>\n",
              "      <th>0</th>\n",
              "      <td>Male</td>\n",
              "      <td>No</td>\n",
              "      <td>0</td>\n",
              "      <td>Graduate</td>\n",
              "      <td>No</td>\n",
              "      <td>1.0</td>\n",
              "      <td>Urban</td>\n",
              "      <td>Y</td>\n",
              "      <td>4.852030</td>\n",
              "      <td>5849.0</td>\n",
              "      <td>8.674026</td>\n",
              "      <td>0.355556</td>\n",
              "      <td>5493.444444</td>\n",
              "    </tr>\n",
              "    <tr>\n",
              "      <th>1</th>\n",
              "      <td>Male</td>\n",
              "      <td>Yes</td>\n",
              "      <td>1</td>\n",
              "      <td>Graduate</td>\n",
              "      <td>No</td>\n",
              "      <td>1.0</td>\n",
              "      <td>Rural</td>\n",
              "      <td>N</td>\n",
              "      <td>4.852030</td>\n",
              "      <td>6091.0</td>\n",
              "      <td>8.714568</td>\n",
              "      <td>0.355556</td>\n",
              "      <td>5735.444444</td>\n",
              "    </tr>\n",
              "    <tr>\n",
              "      <th>2</th>\n",
              "      <td>Male</td>\n",
              "      <td>Yes</td>\n",
              "      <td>0</td>\n",
              "      <td>Graduate</td>\n",
              "      <td>Yes</td>\n",
              "      <td>1.0</td>\n",
              "      <td>Urban</td>\n",
              "      <td>Y</td>\n",
              "      <td>4.189655</td>\n",
              "      <td>3000.0</td>\n",
              "      <td>8.006368</td>\n",
              "      <td>0.183333</td>\n",
              "      <td>2816.666667</td>\n",
              "    </tr>\n",
              "  </tbody>\n",
              "</table>\n",
              "</div>\n",
              "      <button class=\"colab-df-convert\" onclick=\"convertToInteractive('df-04d6253c-cfb4-4eb2-b4e7-a57f1904fb09')\"\n",
              "              title=\"Convert this dataframe to an interactive table.\"\n",
              "              style=\"display:none;\">\n",
              "        \n",
              "  <svg xmlns=\"http://www.w3.org/2000/svg\" height=\"24px\"viewBox=\"0 0 24 24\"\n",
              "       width=\"24px\">\n",
              "    <path d=\"M0 0h24v24H0V0z\" fill=\"none\"/>\n",
              "    <path d=\"M18.56 5.44l.94 2.06.94-2.06 2.06-.94-2.06-.94-.94-2.06-.94 2.06-2.06.94zm-11 1L8.5 8.5l.94-2.06 2.06-.94-2.06-.94L8.5 2.5l-.94 2.06-2.06.94zm10 10l.94 2.06.94-2.06 2.06-.94-2.06-.94-.94-2.06-.94 2.06-2.06.94z\"/><path d=\"M17.41 7.96l-1.37-1.37c-.4-.4-.92-.59-1.43-.59-.52 0-1.04.2-1.43.59L10.3 9.45l-7.72 7.72c-.78.78-.78 2.05 0 2.83L4 21.41c.39.39.9.59 1.41.59.51 0 1.02-.2 1.41-.59l7.78-7.78 2.81-2.81c.8-.78.8-2.07 0-2.86zM5.41 20L4 18.59l7.72-7.72 1.47 1.35L5.41 20z\"/>\n",
              "  </svg>\n",
              "      </button>\n",
              "      \n",
              "  <style>\n",
              "    .colab-df-container {\n",
              "      display:flex;\n",
              "      flex-wrap:wrap;\n",
              "      gap: 12px;\n",
              "    }\n",
              "\n",
              "    .colab-df-convert {\n",
              "      background-color: #E8F0FE;\n",
              "      border: none;\n",
              "      border-radius: 50%;\n",
              "      cursor: pointer;\n",
              "      display: none;\n",
              "      fill: #1967D2;\n",
              "      height: 32px;\n",
              "      padding: 0 0 0 0;\n",
              "      width: 32px;\n",
              "    }\n",
              "\n",
              "    .colab-df-convert:hover {\n",
              "      background-color: #E2EBFA;\n",
              "      box-shadow: 0px 1px 2px rgba(60, 64, 67, 0.3), 0px 1px 3px 1px rgba(60, 64, 67, 0.15);\n",
              "      fill: #174EA6;\n",
              "    }\n",
              "\n",
              "    [theme=dark] .colab-df-convert {\n",
              "      background-color: #3B4455;\n",
              "      fill: #D2E3FC;\n",
              "    }\n",
              "\n",
              "    [theme=dark] .colab-df-convert:hover {\n",
              "      background-color: #434B5C;\n",
              "      box-shadow: 0px 1px 3px 1px rgba(0, 0, 0, 0.15);\n",
              "      filter: drop-shadow(0px 1px 2px rgba(0, 0, 0, 0.3));\n",
              "      fill: #FFFFFF;\n",
              "    }\n",
              "  </style>\n",
              "\n",
              "      <script>\n",
              "        const buttonEl =\n",
              "          document.querySelector('#df-04d6253c-cfb4-4eb2-b4e7-a57f1904fb09 button.colab-df-convert');\n",
              "        buttonEl.style.display =\n",
              "          google.colab.kernel.accessAllowed ? 'block' : 'none';\n",
              "\n",
              "        async function convertToInteractive(key) {\n",
              "          const element = document.querySelector('#df-04d6253c-cfb4-4eb2-b4e7-a57f1904fb09');\n",
              "          const dataTable =\n",
              "            await google.colab.kernel.invokeFunction('convertToInteractive',\n",
              "                                                     [key], {});\n",
              "          if (!dataTable) return;\n",
              "\n",
              "          const docLinkHtml = 'Like what you see? Visit the ' +\n",
              "            '<a target=\"_blank\" href=https://colab.research.google.com/notebooks/data_table.ipynb>data table notebook</a>'\n",
              "            + ' to learn more about interactive tables.';\n",
              "          element.innerHTML = '';\n",
              "          dataTable['output_type'] = 'display_data';\n",
              "          await google.colab.output.renderOutput(dataTable, element);\n",
              "          const docLink = document.createElement('div');\n",
              "          docLink.innerHTML = docLinkHtml;\n",
              "          element.appendChild(docLink);\n",
              "        }\n",
              "      </script>\n",
              "    </div>\n",
              "  </div>\n",
              "  "
            ]
          },
          "metadata": {},
          "execution_count": 603
        }
      ],
      "source": [
        "train.head(3)"
      ]
    },
    {
      "cell_type": "markdown",
      "metadata": {
        "_uuid": "6c3d4f9a30f01645c1386aaed413b54e123e4c03",
        "id": "NiWY3QZEAk3D"
      },
      "source": [
        "After drop test dataset will look :"
      ]
    },
    {
      "cell_type": "code",
      "execution_count": null,
      "metadata": {
        "_uuid": "ffd79add8826c39dbb729c7c7bb8e2fcde9dde58",
        "colab": {
          "base_uri": "https://localhost:8080/",
          "height": 143
        },
        "id": "XftClYkCAk3D",
        "outputId": "a39bad03-0bc9-4209-de8f-85d730196a1f"
      },
      "outputs": [
        {
          "output_type": "execute_result",
          "data": {
            "text/plain": [
              "  Gender Married Dependents Education Self_Employed  Credit_History  \\\n",
              "0   Male     Yes          0  Graduate            No             1.0   \n",
              "1   Male     Yes          1  Graduate            No             1.0   \n",
              "2   Male     Yes          2  Graduate            No             1.0   \n",
              "\n",
              "  Property_Area  LoanAmount_log  TotalIncome  TotalIncome_log       EMI  \\\n",
              "0         Urban        4.852030         5720         8.674026  0.305556   \n",
              "1         Urban        4.852030         4576         8.714568  0.350000   \n",
              "2         Urban        4.189655         6800         8.006368  0.577778   \n",
              "\n",
              "   Balance_Income  \n",
              "0     5719.694444  \n",
              "1     4575.650000  \n",
              "2     6799.422222  "
            ],
            "text/html": [
              "\n",
              "  <div id=\"df-49d5c777-7171-443d-91c6-031a611e5a0d\">\n",
              "    <div class=\"colab-df-container\">\n",
              "      <div>\n",
              "<style scoped>\n",
              "    .dataframe tbody tr th:only-of-type {\n",
              "        vertical-align: middle;\n",
              "    }\n",
              "\n",
              "    .dataframe tbody tr th {\n",
              "        vertical-align: top;\n",
              "    }\n",
              "\n",
              "    .dataframe thead th {\n",
              "        text-align: right;\n",
              "    }\n",
              "</style>\n",
              "<table border=\"1\" class=\"dataframe\">\n",
              "  <thead>\n",
              "    <tr style=\"text-align: right;\">\n",
              "      <th></th>\n",
              "      <th>Gender</th>\n",
              "      <th>Married</th>\n",
              "      <th>Dependents</th>\n",
              "      <th>Education</th>\n",
              "      <th>Self_Employed</th>\n",
              "      <th>Credit_History</th>\n",
              "      <th>Property_Area</th>\n",
              "      <th>LoanAmount_log</th>\n",
              "      <th>TotalIncome</th>\n",
              "      <th>TotalIncome_log</th>\n",
              "      <th>EMI</th>\n",
              "      <th>Balance_Income</th>\n",
              "    </tr>\n",
              "  </thead>\n",
              "  <tbody>\n",
              "    <tr>\n",
              "      <th>0</th>\n",
              "      <td>Male</td>\n",
              "      <td>Yes</td>\n",
              "      <td>0</td>\n",
              "      <td>Graduate</td>\n",
              "      <td>No</td>\n",
              "      <td>1.0</td>\n",
              "      <td>Urban</td>\n",
              "      <td>4.852030</td>\n",
              "      <td>5720</td>\n",
              "      <td>8.674026</td>\n",
              "      <td>0.305556</td>\n",
              "      <td>5719.694444</td>\n",
              "    </tr>\n",
              "    <tr>\n",
              "      <th>1</th>\n",
              "      <td>Male</td>\n",
              "      <td>Yes</td>\n",
              "      <td>1</td>\n",
              "      <td>Graduate</td>\n",
              "      <td>No</td>\n",
              "      <td>1.0</td>\n",
              "      <td>Urban</td>\n",
              "      <td>4.852030</td>\n",
              "      <td>4576</td>\n",
              "      <td>8.714568</td>\n",
              "      <td>0.350000</td>\n",
              "      <td>4575.650000</td>\n",
              "    </tr>\n",
              "    <tr>\n",
              "      <th>2</th>\n",
              "      <td>Male</td>\n",
              "      <td>Yes</td>\n",
              "      <td>2</td>\n",
              "      <td>Graduate</td>\n",
              "      <td>No</td>\n",
              "      <td>1.0</td>\n",
              "      <td>Urban</td>\n",
              "      <td>4.189655</td>\n",
              "      <td>6800</td>\n",
              "      <td>8.006368</td>\n",
              "      <td>0.577778</td>\n",
              "      <td>6799.422222</td>\n",
              "    </tr>\n",
              "  </tbody>\n",
              "</table>\n",
              "</div>\n",
              "      <button class=\"colab-df-convert\" onclick=\"convertToInteractive('df-49d5c777-7171-443d-91c6-031a611e5a0d')\"\n",
              "              title=\"Convert this dataframe to an interactive table.\"\n",
              "              style=\"display:none;\">\n",
              "        \n",
              "  <svg xmlns=\"http://www.w3.org/2000/svg\" height=\"24px\"viewBox=\"0 0 24 24\"\n",
              "       width=\"24px\">\n",
              "    <path d=\"M0 0h24v24H0V0z\" fill=\"none\"/>\n",
              "    <path d=\"M18.56 5.44l.94 2.06.94-2.06 2.06-.94-2.06-.94-.94-2.06-.94 2.06-2.06.94zm-11 1L8.5 8.5l.94-2.06 2.06-.94-2.06-.94L8.5 2.5l-.94 2.06-2.06.94zm10 10l.94 2.06.94-2.06 2.06-.94-2.06-.94-.94-2.06-.94 2.06-2.06.94z\"/><path d=\"M17.41 7.96l-1.37-1.37c-.4-.4-.92-.59-1.43-.59-.52 0-1.04.2-1.43.59L10.3 9.45l-7.72 7.72c-.78.78-.78 2.05 0 2.83L4 21.41c.39.39.9.59 1.41.59.51 0 1.02-.2 1.41-.59l7.78-7.78 2.81-2.81c.8-.78.8-2.07 0-2.86zM5.41 20L4 18.59l7.72-7.72 1.47 1.35L5.41 20z\"/>\n",
              "  </svg>\n",
              "      </button>\n",
              "      \n",
              "  <style>\n",
              "    .colab-df-container {\n",
              "      display:flex;\n",
              "      flex-wrap:wrap;\n",
              "      gap: 12px;\n",
              "    }\n",
              "\n",
              "    .colab-df-convert {\n",
              "      background-color: #E8F0FE;\n",
              "      border: none;\n",
              "      border-radius: 50%;\n",
              "      cursor: pointer;\n",
              "      display: none;\n",
              "      fill: #1967D2;\n",
              "      height: 32px;\n",
              "      padding: 0 0 0 0;\n",
              "      width: 32px;\n",
              "    }\n",
              "\n",
              "    .colab-df-convert:hover {\n",
              "      background-color: #E2EBFA;\n",
              "      box-shadow: 0px 1px 2px rgba(60, 64, 67, 0.3), 0px 1px 3px 1px rgba(60, 64, 67, 0.15);\n",
              "      fill: #174EA6;\n",
              "    }\n",
              "\n",
              "    [theme=dark] .colab-df-convert {\n",
              "      background-color: #3B4455;\n",
              "      fill: #D2E3FC;\n",
              "    }\n",
              "\n",
              "    [theme=dark] .colab-df-convert:hover {\n",
              "      background-color: #434B5C;\n",
              "      box-shadow: 0px 1px 3px 1px rgba(0, 0, 0, 0.15);\n",
              "      filter: drop-shadow(0px 1px 2px rgba(0, 0, 0, 0.3));\n",
              "      fill: #FFFFFF;\n",
              "    }\n",
              "  </style>\n",
              "\n",
              "      <script>\n",
              "        const buttonEl =\n",
              "          document.querySelector('#df-49d5c777-7171-443d-91c6-031a611e5a0d button.colab-df-convert');\n",
              "        buttonEl.style.display =\n",
              "          google.colab.kernel.accessAllowed ? 'block' : 'none';\n",
              "\n",
              "        async function convertToInteractive(key) {\n",
              "          const element = document.querySelector('#df-49d5c777-7171-443d-91c6-031a611e5a0d');\n",
              "          const dataTable =\n",
              "            await google.colab.kernel.invokeFunction('convertToInteractive',\n",
              "                                                     [key], {});\n",
              "          if (!dataTable) return;\n",
              "\n",
              "          const docLinkHtml = 'Like what you see? Visit the ' +\n",
              "            '<a target=\"_blank\" href=https://colab.research.google.com/notebooks/data_table.ipynb>data table notebook</a>'\n",
              "            + ' to learn more about interactive tables.';\n",
              "          element.innerHTML = '';\n",
              "          dataTable['output_type'] = 'display_data';\n",
              "          await google.colab.output.renderOutput(dataTable, element);\n",
              "          const docLink = document.createElement('div');\n",
              "          docLink.innerHTML = docLinkHtml;\n",
              "          element.appendChild(docLink);\n",
              "        }\n",
              "      </script>\n",
              "    </div>\n",
              "  </div>\n",
              "  "
            ]
          },
          "metadata": {},
          "execution_count": 604
        }
      ],
      "source": [
        "test.head(3)"
      ]
    },
    {
      "cell_type": "markdown",
      "metadata": {
        "_uuid": "4da0d513749f36e8c1de87a4877f2a637f42bc27",
        "id": "n00-pPAfAk3D"
      },
      "source": [
        "We will use scikit-learn (sklearn) for making different models which is an open source library for Python. It is one of the most efficient tool which contains many inbuilt functions that can be used for modeling in Python."
      ]
    },
    {
      "cell_type": "markdown",
      "metadata": {
        "_uuid": "744435df3f78972b9171cbf52efb9828013548cf",
        "id": "VcSk79vSAk3E"
      },
      "source": [
        "Sklearn requires the target variable in a separate dataset. So, we will drop our target variable from the train dataset and save it in another dataset."
      ]
    },
    {
      "cell_type": "markdown",
      "metadata": {
        "_uuid": "da641002381860e70256376127879e90f87d2446",
        "id": "LS5YESI0Ak3E"
      },
      "source": [
        "droping the target variable \"Loan_Status\""
      ]
    },
    {
      "cell_type": "code",
      "execution_count": null,
      "metadata": {
        "_uuid": "c104efaf293248e4e3a5b887fde7d926440e0866",
        "id": "ew6XLFrwAk3E"
      },
      "outputs": [],
      "source": [
        "X=train.drop(\"Loan_Status\",1)"
      ]
    },
    {
      "cell_type": "code",
      "execution_count": null,
      "metadata": {
        "_uuid": "19253f4905cf8e616003bd5d9ece39f5f8543795",
        "colab": {
          "base_uri": "https://localhost:8080/",
          "height": 112
        },
        "id": "zTNzSs6jAk3E",
        "outputId": "6789364e-e63b-464e-e81c-d30328935542"
      },
      "outputs": [
        {
          "output_type": "execute_result",
          "data": {
            "text/plain": [
              "  Gender Married Dependents Education Self_Employed  Credit_History  \\\n",
              "0   Male      No          0  Graduate            No             1.0   \n",
              "1   Male     Yes          1  Graduate            No             1.0   \n",
              "\n",
              "  Property_Area  LoanAmount_log  TotalIncome  TotalIncome_log       EMI  \\\n",
              "0         Urban         4.85203       5849.0         8.674026  0.355556   \n",
              "1         Rural         4.85203       6091.0         8.714568  0.355556   \n",
              "\n",
              "   Balance_Income  \n",
              "0     5493.444444  \n",
              "1     5735.444444  "
            ],
            "text/html": [
              "\n",
              "  <div id=\"df-0c2e7e15-824f-41c3-a098-b88278cb47c2\">\n",
              "    <div class=\"colab-df-container\">\n",
              "      <div>\n",
              "<style scoped>\n",
              "    .dataframe tbody tr th:only-of-type {\n",
              "        vertical-align: middle;\n",
              "    }\n",
              "\n",
              "    .dataframe tbody tr th {\n",
              "        vertical-align: top;\n",
              "    }\n",
              "\n",
              "    .dataframe thead th {\n",
              "        text-align: right;\n",
              "    }\n",
              "</style>\n",
              "<table border=\"1\" class=\"dataframe\">\n",
              "  <thead>\n",
              "    <tr style=\"text-align: right;\">\n",
              "      <th></th>\n",
              "      <th>Gender</th>\n",
              "      <th>Married</th>\n",
              "      <th>Dependents</th>\n",
              "      <th>Education</th>\n",
              "      <th>Self_Employed</th>\n",
              "      <th>Credit_History</th>\n",
              "      <th>Property_Area</th>\n",
              "      <th>LoanAmount_log</th>\n",
              "      <th>TotalIncome</th>\n",
              "      <th>TotalIncome_log</th>\n",
              "      <th>EMI</th>\n",
              "      <th>Balance_Income</th>\n",
              "    </tr>\n",
              "  </thead>\n",
              "  <tbody>\n",
              "    <tr>\n",
              "      <th>0</th>\n",
              "      <td>Male</td>\n",
              "      <td>No</td>\n",
              "      <td>0</td>\n",
              "      <td>Graduate</td>\n",
              "      <td>No</td>\n",
              "      <td>1.0</td>\n",
              "      <td>Urban</td>\n",
              "      <td>4.85203</td>\n",
              "      <td>5849.0</td>\n",
              "      <td>8.674026</td>\n",
              "      <td>0.355556</td>\n",
              "      <td>5493.444444</td>\n",
              "    </tr>\n",
              "    <tr>\n",
              "      <th>1</th>\n",
              "      <td>Male</td>\n",
              "      <td>Yes</td>\n",
              "      <td>1</td>\n",
              "      <td>Graduate</td>\n",
              "      <td>No</td>\n",
              "      <td>1.0</td>\n",
              "      <td>Rural</td>\n",
              "      <td>4.85203</td>\n",
              "      <td>6091.0</td>\n",
              "      <td>8.714568</td>\n",
              "      <td>0.355556</td>\n",
              "      <td>5735.444444</td>\n",
              "    </tr>\n",
              "  </tbody>\n",
              "</table>\n",
              "</div>\n",
              "      <button class=\"colab-df-convert\" onclick=\"convertToInteractive('df-0c2e7e15-824f-41c3-a098-b88278cb47c2')\"\n",
              "              title=\"Convert this dataframe to an interactive table.\"\n",
              "              style=\"display:none;\">\n",
              "        \n",
              "  <svg xmlns=\"http://www.w3.org/2000/svg\" height=\"24px\"viewBox=\"0 0 24 24\"\n",
              "       width=\"24px\">\n",
              "    <path d=\"M0 0h24v24H0V0z\" fill=\"none\"/>\n",
              "    <path d=\"M18.56 5.44l.94 2.06.94-2.06 2.06-.94-2.06-.94-.94-2.06-.94 2.06-2.06.94zm-11 1L8.5 8.5l.94-2.06 2.06-.94-2.06-.94L8.5 2.5l-.94 2.06-2.06.94zm10 10l.94 2.06.94-2.06 2.06-.94-2.06-.94-.94-2.06-.94 2.06-2.06.94z\"/><path d=\"M17.41 7.96l-1.37-1.37c-.4-.4-.92-.59-1.43-.59-.52 0-1.04.2-1.43.59L10.3 9.45l-7.72 7.72c-.78.78-.78 2.05 0 2.83L4 21.41c.39.39.9.59 1.41.59.51 0 1.02-.2 1.41-.59l7.78-7.78 2.81-2.81c.8-.78.8-2.07 0-2.86zM5.41 20L4 18.59l7.72-7.72 1.47 1.35L5.41 20z\"/>\n",
              "  </svg>\n",
              "      </button>\n",
              "      \n",
              "  <style>\n",
              "    .colab-df-container {\n",
              "      display:flex;\n",
              "      flex-wrap:wrap;\n",
              "      gap: 12px;\n",
              "    }\n",
              "\n",
              "    .colab-df-convert {\n",
              "      background-color: #E8F0FE;\n",
              "      border: none;\n",
              "      border-radius: 50%;\n",
              "      cursor: pointer;\n",
              "      display: none;\n",
              "      fill: #1967D2;\n",
              "      height: 32px;\n",
              "      padding: 0 0 0 0;\n",
              "      width: 32px;\n",
              "    }\n",
              "\n",
              "    .colab-df-convert:hover {\n",
              "      background-color: #E2EBFA;\n",
              "      box-shadow: 0px 1px 2px rgba(60, 64, 67, 0.3), 0px 1px 3px 1px rgba(60, 64, 67, 0.15);\n",
              "      fill: #174EA6;\n",
              "    }\n",
              "\n",
              "    [theme=dark] .colab-df-convert {\n",
              "      background-color: #3B4455;\n",
              "      fill: #D2E3FC;\n",
              "    }\n",
              "\n",
              "    [theme=dark] .colab-df-convert:hover {\n",
              "      background-color: #434B5C;\n",
              "      box-shadow: 0px 1px 3px 1px rgba(0, 0, 0, 0.15);\n",
              "      filter: drop-shadow(0px 1px 2px rgba(0, 0, 0, 0.3));\n",
              "      fill: #FFFFFF;\n",
              "    }\n",
              "  </style>\n",
              "\n",
              "      <script>\n",
              "        const buttonEl =\n",
              "          document.querySelector('#df-0c2e7e15-824f-41c3-a098-b88278cb47c2 button.colab-df-convert');\n",
              "        buttonEl.style.display =\n",
              "          google.colab.kernel.accessAllowed ? 'block' : 'none';\n",
              "\n",
              "        async function convertToInteractive(key) {\n",
              "          const element = document.querySelector('#df-0c2e7e15-824f-41c3-a098-b88278cb47c2');\n",
              "          const dataTable =\n",
              "            await google.colab.kernel.invokeFunction('convertToInteractive',\n",
              "                                                     [key], {});\n",
              "          if (!dataTable) return;\n",
              "\n",
              "          const docLinkHtml = 'Like what you see? Visit the ' +\n",
              "            '<a target=\"_blank\" href=https://colab.research.google.com/notebooks/data_table.ipynb>data table notebook</a>'\n",
              "            + ' to learn more about interactive tables.';\n",
              "          element.innerHTML = '';\n",
              "          dataTable['output_type'] = 'display_data';\n",
              "          await google.colab.output.renderOutput(dataTable, element);\n",
              "          const docLink = document.createElement('div');\n",
              "          docLink.innerHTML = docLinkHtml;\n",
              "          element.appendChild(docLink);\n",
              "        }\n",
              "      </script>\n",
              "    </div>\n",
              "  </div>\n",
              "  "
            ]
          },
          "metadata": {},
          "execution_count": 606
        }
      ],
      "source": [
        "X.head(2)"
      ]
    },
    {
      "cell_type": "markdown",
      "metadata": {
        "_uuid": "b8a8e11f18cc64e60f06f0ff76ce720b16b5b370",
        "id": "WE2IaEADAk3E"
      },
      "source": [
        "save the target variable \"Loan_Status\" in another dataset"
      ]
    },
    {
      "cell_type": "code",
      "execution_count": null,
      "metadata": {
        "_uuid": "193d3661cbd73a672f5ea18db68a6ba279b06b06",
        "id": "FomJ6X1SAk3E"
      },
      "outputs": [],
      "source": [
        "y=train[[\"Loan_Status\"]]"
      ]
    },
    {
      "cell_type": "code",
      "execution_count": null,
      "metadata": {
        "_uuid": "12954bd4adb6d51a736b625450a3d1c29ffe823b",
        "colab": {
          "base_uri": "https://localhost:8080/",
          "height": 112
        },
        "id": "rGI0sf5HAk3E",
        "outputId": "2679605e-5397-4ad7-c6b3-9b58668dedef"
      },
      "outputs": [
        {
          "output_type": "execute_result",
          "data": {
            "text/plain": [
              "  Loan_Status\n",
              "0           Y\n",
              "1           N"
            ],
            "text/html": [
              "\n",
              "  <div id=\"df-e33099d6-1b38-4b75-9109-ad8c9a66719c\">\n",
              "    <div class=\"colab-df-container\">\n",
              "      <div>\n",
              "<style scoped>\n",
              "    .dataframe tbody tr th:only-of-type {\n",
              "        vertical-align: middle;\n",
              "    }\n",
              "\n",
              "    .dataframe tbody tr th {\n",
              "        vertical-align: top;\n",
              "    }\n",
              "\n",
              "    .dataframe thead th {\n",
              "        text-align: right;\n",
              "    }\n",
              "</style>\n",
              "<table border=\"1\" class=\"dataframe\">\n",
              "  <thead>\n",
              "    <tr style=\"text-align: right;\">\n",
              "      <th></th>\n",
              "      <th>Loan_Status</th>\n",
              "    </tr>\n",
              "  </thead>\n",
              "  <tbody>\n",
              "    <tr>\n",
              "      <th>0</th>\n",
              "      <td>Y</td>\n",
              "    </tr>\n",
              "    <tr>\n",
              "      <th>1</th>\n",
              "      <td>N</td>\n",
              "    </tr>\n",
              "  </tbody>\n",
              "</table>\n",
              "</div>\n",
              "      <button class=\"colab-df-convert\" onclick=\"convertToInteractive('df-e33099d6-1b38-4b75-9109-ad8c9a66719c')\"\n",
              "              title=\"Convert this dataframe to an interactive table.\"\n",
              "              style=\"display:none;\">\n",
              "        \n",
              "  <svg xmlns=\"http://www.w3.org/2000/svg\" height=\"24px\"viewBox=\"0 0 24 24\"\n",
              "       width=\"24px\">\n",
              "    <path d=\"M0 0h24v24H0V0z\" fill=\"none\"/>\n",
              "    <path d=\"M18.56 5.44l.94 2.06.94-2.06 2.06-.94-2.06-.94-.94-2.06-.94 2.06-2.06.94zm-11 1L8.5 8.5l.94-2.06 2.06-.94-2.06-.94L8.5 2.5l-.94 2.06-2.06.94zm10 10l.94 2.06.94-2.06 2.06-.94-2.06-.94-.94-2.06-.94 2.06-2.06.94z\"/><path d=\"M17.41 7.96l-1.37-1.37c-.4-.4-.92-.59-1.43-.59-.52 0-1.04.2-1.43.59L10.3 9.45l-7.72 7.72c-.78.78-.78 2.05 0 2.83L4 21.41c.39.39.9.59 1.41.59.51 0 1.02-.2 1.41-.59l7.78-7.78 2.81-2.81c.8-.78.8-2.07 0-2.86zM5.41 20L4 18.59l7.72-7.72 1.47 1.35L5.41 20z\"/>\n",
              "  </svg>\n",
              "      </button>\n",
              "      \n",
              "  <style>\n",
              "    .colab-df-container {\n",
              "      display:flex;\n",
              "      flex-wrap:wrap;\n",
              "      gap: 12px;\n",
              "    }\n",
              "\n",
              "    .colab-df-convert {\n",
              "      background-color: #E8F0FE;\n",
              "      border: none;\n",
              "      border-radius: 50%;\n",
              "      cursor: pointer;\n",
              "      display: none;\n",
              "      fill: #1967D2;\n",
              "      height: 32px;\n",
              "      padding: 0 0 0 0;\n",
              "      width: 32px;\n",
              "    }\n",
              "\n",
              "    .colab-df-convert:hover {\n",
              "      background-color: #E2EBFA;\n",
              "      box-shadow: 0px 1px 2px rgba(60, 64, 67, 0.3), 0px 1px 3px 1px rgba(60, 64, 67, 0.15);\n",
              "      fill: #174EA6;\n",
              "    }\n",
              "\n",
              "    [theme=dark] .colab-df-convert {\n",
              "      background-color: #3B4455;\n",
              "      fill: #D2E3FC;\n",
              "    }\n",
              "\n",
              "    [theme=dark] .colab-df-convert:hover {\n",
              "      background-color: #434B5C;\n",
              "      box-shadow: 0px 1px 3px 1px rgba(0, 0, 0, 0.15);\n",
              "      filter: drop-shadow(0px 1px 2px rgba(0, 0, 0, 0.3));\n",
              "      fill: #FFFFFF;\n",
              "    }\n",
              "  </style>\n",
              "\n",
              "      <script>\n",
              "        const buttonEl =\n",
              "          document.querySelector('#df-e33099d6-1b38-4b75-9109-ad8c9a66719c button.colab-df-convert');\n",
              "        buttonEl.style.display =\n",
              "          google.colab.kernel.accessAllowed ? 'block' : 'none';\n",
              "\n",
              "        async function convertToInteractive(key) {\n",
              "          const element = document.querySelector('#df-e33099d6-1b38-4b75-9109-ad8c9a66719c');\n",
              "          const dataTable =\n",
              "            await google.colab.kernel.invokeFunction('convertToInteractive',\n",
              "                                                     [key], {});\n",
              "          if (!dataTable) return;\n",
              "\n",
              "          const docLinkHtml = 'Like what you see? Visit the ' +\n",
              "            '<a target=\"_blank\" href=https://colab.research.google.com/notebooks/data_table.ipynb>data table notebook</a>'\n",
              "            + ' to learn more about interactive tables.';\n",
              "          element.innerHTML = '';\n",
              "          dataTable['output_type'] = 'display_data';\n",
              "          await google.colab.output.renderOutput(dataTable, element);\n",
              "          const docLink = document.createElement('div');\n",
              "          docLink.innerHTML = docLinkHtml;\n",
              "          element.appendChild(docLink);\n",
              "        }\n",
              "      </script>\n",
              "    </div>\n",
              "  </div>\n",
              "  "
            ]
          },
          "metadata": {},
          "execution_count": 608
        }
      ],
      "source": [
        "y.head(2)"
      ]
    },
    {
      "cell_type": "markdown",
      "metadata": {
        "_uuid": "6e953caa8b6703a1809af04fc70a99ac4ad0d8b6",
        "id": "naxpaURMAk3E"
      },
      "source": [
        "Now we will make dummy variables for the categorical variables. Dummy variable turns categorical variables into a series of 0 and 1, making them lot easier to quantify and compare. \n",
        "\n",
        "Let us understand the process of dummies first:"
      ]
    },
    {
      "cell_type": "markdown",
      "metadata": {
        "_uuid": "9aaf423488821ee0ba6cf25067d7e8d26f15ec73",
        "id": "HU_sCL-NAk3E"
      },
      "source": [
        "Consider the “Gender” variable. It has two classes, Male and Female.\n",
        "\n",
        "As logistic regression takes only the numerical values as input, we have to change male and female into numerical value.\n",
        "\n",
        "Once we apply dummies to this variable, it will convert the “Gender” variable into two variables(Gender_Male and Gender_Female),\n",
        "one for each class, i.e. Male and Female.\n",
        "\n",
        "\n",
        "Gender_Male will have a value of 0 if the gender is Female and a value of 1 if the gender is Male."
      ]
    },
    {
      "cell_type": "code",
      "execution_count": null,
      "metadata": {
        "_uuid": "47897cac8f4f1bc6bb0b76c0d5fb4e418561b1ee",
        "id": "gTZSv4dCAk3E"
      },
      "outputs": [],
      "source": [
        "X = pd.get_dummies(X)"
      ]
    },
    {
      "cell_type": "code",
      "execution_count": null,
      "metadata": {
        "_uuid": "4ecdc1c4afdb305e39d237a19700e921fb871d3b",
        "colab": {
          "base_uri": "https://localhost:8080/",
          "height": 254
        },
        "id": "QVlOtg3nAk3E",
        "outputId": "93ccdc46-92c4-4cb8-d02a-c25e5d1ed0db"
      },
      "outputs": [
        {
          "output_type": "execute_result",
          "data": {
            "text/plain": [
              "   Credit_History  LoanAmount_log  TotalIncome  TotalIncome_log       EMI  \\\n",
              "0             1.0        4.852030       5849.0         8.674026  0.355556   \n",
              "1             1.0        4.852030       6091.0         8.714568  0.355556   \n",
              "2             1.0        4.189655       3000.0         8.006368  0.183333   \n",
              "\n",
              "   Balance_Income  Gender_Female  Gender_Male  Married_No  Married_Yes  ...  \\\n",
              "0     5493.444444              0            1           1            0  ...   \n",
              "1     5735.444444              0            1           0            1  ...   \n",
              "2     2816.666667              0            1           0            1  ...   \n",
              "\n",
              "   Dependents_1  Dependents_2  Dependents_3+  Education_Graduate  \\\n",
              "0             0             0              0                   1   \n",
              "1             1             0              0                   1   \n",
              "2             0             0              0                   1   \n",
              "\n",
              "   Education_Not Graduate  Self_Employed_No  Self_Employed_Yes  \\\n",
              "0                       0                 1                  0   \n",
              "1                       0                 1                  0   \n",
              "2                       0                 0                  1   \n",
              "\n",
              "   Property_Area_Rural  Property_Area_Semiurban  Property_Area_Urban  \n",
              "0                    0                        0                    1  \n",
              "1                    1                        0                    0  \n",
              "2                    0                        0                    1  \n",
              "\n",
              "[3 rows x 21 columns]"
            ],
            "text/html": [
              "\n",
              "  <div id=\"df-b0f9c0df-0872-4f52-a451-ea829a492215\">\n",
              "    <div class=\"colab-df-container\">\n",
              "      <div>\n",
              "<style scoped>\n",
              "    .dataframe tbody tr th:only-of-type {\n",
              "        vertical-align: middle;\n",
              "    }\n",
              "\n",
              "    .dataframe tbody tr th {\n",
              "        vertical-align: top;\n",
              "    }\n",
              "\n",
              "    .dataframe thead th {\n",
              "        text-align: right;\n",
              "    }\n",
              "</style>\n",
              "<table border=\"1\" class=\"dataframe\">\n",
              "  <thead>\n",
              "    <tr style=\"text-align: right;\">\n",
              "      <th></th>\n",
              "      <th>Credit_History</th>\n",
              "      <th>LoanAmount_log</th>\n",
              "      <th>TotalIncome</th>\n",
              "      <th>TotalIncome_log</th>\n",
              "      <th>EMI</th>\n",
              "      <th>Balance_Income</th>\n",
              "      <th>Gender_Female</th>\n",
              "      <th>Gender_Male</th>\n",
              "      <th>Married_No</th>\n",
              "      <th>Married_Yes</th>\n",
              "      <th>...</th>\n",
              "      <th>Dependents_1</th>\n",
              "      <th>Dependents_2</th>\n",
              "      <th>Dependents_3+</th>\n",
              "      <th>Education_Graduate</th>\n",
              "      <th>Education_Not Graduate</th>\n",
              "      <th>Self_Employed_No</th>\n",
              "      <th>Self_Employed_Yes</th>\n",
              "      <th>Property_Area_Rural</th>\n",
              "      <th>Property_Area_Semiurban</th>\n",
              "      <th>Property_Area_Urban</th>\n",
              "    </tr>\n",
              "  </thead>\n",
              "  <tbody>\n",
              "    <tr>\n",
              "      <th>0</th>\n",
              "      <td>1.0</td>\n",
              "      <td>4.852030</td>\n",
              "      <td>5849.0</td>\n",
              "      <td>8.674026</td>\n",
              "      <td>0.355556</td>\n",
              "      <td>5493.444444</td>\n",
              "      <td>0</td>\n",
              "      <td>1</td>\n",
              "      <td>1</td>\n",
              "      <td>0</td>\n",
              "      <td>...</td>\n",
              "      <td>0</td>\n",
              "      <td>0</td>\n",
              "      <td>0</td>\n",
              "      <td>1</td>\n",
              "      <td>0</td>\n",
              "      <td>1</td>\n",
              "      <td>0</td>\n",
              "      <td>0</td>\n",
              "      <td>0</td>\n",
              "      <td>1</td>\n",
              "    </tr>\n",
              "    <tr>\n",
              "      <th>1</th>\n",
              "      <td>1.0</td>\n",
              "      <td>4.852030</td>\n",
              "      <td>6091.0</td>\n",
              "      <td>8.714568</td>\n",
              "      <td>0.355556</td>\n",
              "      <td>5735.444444</td>\n",
              "      <td>0</td>\n",
              "      <td>1</td>\n",
              "      <td>0</td>\n",
              "      <td>1</td>\n",
              "      <td>...</td>\n",
              "      <td>1</td>\n",
              "      <td>0</td>\n",
              "      <td>0</td>\n",
              "      <td>1</td>\n",
              "      <td>0</td>\n",
              "      <td>1</td>\n",
              "      <td>0</td>\n",
              "      <td>1</td>\n",
              "      <td>0</td>\n",
              "      <td>0</td>\n",
              "    </tr>\n",
              "    <tr>\n",
              "      <th>2</th>\n",
              "      <td>1.0</td>\n",
              "      <td>4.189655</td>\n",
              "      <td>3000.0</td>\n",
              "      <td>8.006368</td>\n",
              "      <td>0.183333</td>\n",
              "      <td>2816.666667</td>\n",
              "      <td>0</td>\n",
              "      <td>1</td>\n",
              "      <td>0</td>\n",
              "      <td>1</td>\n",
              "      <td>...</td>\n",
              "      <td>0</td>\n",
              "      <td>0</td>\n",
              "      <td>0</td>\n",
              "      <td>1</td>\n",
              "      <td>0</td>\n",
              "      <td>0</td>\n",
              "      <td>1</td>\n",
              "      <td>0</td>\n",
              "      <td>0</td>\n",
              "      <td>1</td>\n",
              "    </tr>\n",
              "  </tbody>\n",
              "</table>\n",
              "<p>3 rows × 21 columns</p>\n",
              "</div>\n",
              "      <button class=\"colab-df-convert\" onclick=\"convertToInteractive('df-b0f9c0df-0872-4f52-a451-ea829a492215')\"\n",
              "              title=\"Convert this dataframe to an interactive table.\"\n",
              "              style=\"display:none;\">\n",
              "        \n",
              "  <svg xmlns=\"http://www.w3.org/2000/svg\" height=\"24px\"viewBox=\"0 0 24 24\"\n",
              "       width=\"24px\">\n",
              "    <path d=\"M0 0h24v24H0V0z\" fill=\"none\"/>\n",
              "    <path d=\"M18.56 5.44l.94 2.06.94-2.06 2.06-.94-2.06-.94-.94-2.06-.94 2.06-2.06.94zm-11 1L8.5 8.5l.94-2.06 2.06-.94-2.06-.94L8.5 2.5l-.94 2.06-2.06.94zm10 10l.94 2.06.94-2.06 2.06-.94-2.06-.94-.94-2.06-.94 2.06-2.06.94z\"/><path d=\"M17.41 7.96l-1.37-1.37c-.4-.4-.92-.59-1.43-.59-.52 0-1.04.2-1.43.59L10.3 9.45l-7.72 7.72c-.78.78-.78 2.05 0 2.83L4 21.41c.39.39.9.59 1.41.59.51 0 1.02-.2 1.41-.59l7.78-7.78 2.81-2.81c.8-.78.8-2.07 0-2.86zM5.41 20L4 18.59l7.72-7.72 1.47 1.35L5.41 20z\"/>\n",
              "  </svg>\n",
              "      </button>\n",
              "      \n",
              "  <style>\n",
              "    .colab-df-container {\n",
              "      display:flex;\n",
              "      flex-wrap:wrap;\n",
              "      gap: 12px;\n",
              "    }\n",
              "\n",
              "    .colab-df-convert {\n",
              "      background-color: #E8F0FE;\n",
              "      border: none;\n",
              "      border-radius: 50%;\n",
              "      cursor: pointer;\n",
              "      display: none;\n",
              "      fill: #1967D2;\n",
              "      height: 32px;\n",
              "      padding: 0 0 0 0;\n",
              "      width: 32px;\n",
              "    }\n",
              "\n",
              "    .colab-df-convert:hover {\n",
              "      background-color: #E2EBFA;\n",
              "      box-shadow: 0px 1px 2px rgba(60, 64, 67, 0.3), 0px 1px 3px 1px rgba(60, 64, 67, 0.15);\n",
              "      fill: #174EA6;\n",
              "    }\n",
              "\n",
              "    [theme=dark] .colab-df-convert {\n",
              "      background-color: #3B4455;\n",
              "      fill: #D2E3FC;\n",
              "    }\n",
              "\n",
              "    [theme=dark] .colab-df-convert:hover {\n",
              "      background-color: #434B5C;\n",
              "      box-shadow: 0px 1px 3px 1px rgba(0, 0, 0, 0.15);\n",
              "      filter: drop-shadow(0px 1px 2px rgba(0, 0, 0, 0.3));\n",
              "      fill: #FFFFFF;\n",
              "    }\n",
              "  </style>\n",
              "\n",
              "      <script>\n",
              "        const buttonEl =\n",
              "          document.querySelector('#df-b0f9c0df-0872-4f52-a451-ea829a492215 button.colab-df-convert');\n",
              "        buttonEl.style.display =\n",
              "          google.colab.kernel.accessAllowed ? 'block' : 'none';\n",
              "\n",
              "        async function convertToInteractive(key) {\n",
              "          const element = document.querySelector('#df-b0f9c0df-0872-4f52-a451-ea829a492215');\n",
              "          const dataTable =\n",
              "            await google.colab.kernel.invokeFunction('convertToInteractive',\n",
              "                                                     [key], {});\n",
              "          if (!dataTable) return;\n",
              "\n",
              "          const docLinkHtml = 'Like what you see? Visit the ' +\n",
              "            '<a target=\"_blank\" href=https://colab.research.google.com/notebooks/data_table.ipynb>data table notebook</a>'\n",
              "            + ' to learn more about interactive tables.';\n",
              "          element.innerHTML = '';\n",
              "          dataTable['output_type'] = 'display_data';\n",
              "          await google.colab.output.renderOutput(dataTable, element);\n",
              "          const docLink = document.createElement('div');\n",
              "          docLink.innerHTML = docLinkHtml;\n",
              "          element.appendChild(docLink);\n",
              "        }\n",
              "      </script>\n",
              "    </div>\n",
              "  </div>\n",
              "  "
            ]
          },
          "metadata": {},
          "execution_count": 610
        }
      ],
      "source": [
        "X.head(3)"
      ]
    },
    {
      "cell_type": "code",
      "execution_count": null,
      "metadata": {
        "_uuid": "5849fb86b374237185ac491d155a6e52000c8c26",
        "id": "MSyh-8pkAk3F"
      },
      "outputs": [],
      "source": [
        "train=pd.get_dummies(train)\n",
        "test=pd.get_dummies(test)"
      ]
    },
    {
      "cell_type": "code",
      "execution_count": null,
      "metadata": {
        "_uuid": "65d7d6185509c119f1cee79166cb0558d69f8713",
        "colab": {
          "base_uri": "https://localhost:8080/",
          "height": 254
        },
        "id": "R6lpbHCyAk3F",
        "outputId": "c6ca5779-7808-4e9a-a641-a590455abcb6"
      },
      "outputs": [
        {
          "output_type": "execute_result",
          "data": {
            "text/plain": [
              "   Credit_History  LoanAmount_log  TotalIncome  TotalIncome_log       EMI  \\\n",
              "0             1.0        4.852030       5849.0         8.674026  0.355556   \n",
              "1             1.0        4.852030       6091.0         8.714568  0.355556   \n",
              "2             1.0        4.189655       3000.0         8.006368  0.183333   \n",
              "\n",
              "   Balance_Income  Gender_Female  Gender_Male  Married_No  Married_Yes  ...  \\\n",
              "0     5493.444444              0            1           1            0  ...   \n",
              "1     5735.444444              0            1           0            1  ...   \n",
              "2     2816.666667              0            1           0            1  ...   \n",
              "\n",
              "   Dependents_3+  Education_Graduate  Education_Not Graduate  \\\n",
              "0              0                   1                       0   \n",
              "1              0                   1                       0   \n",
              "2              0                   1                       0   \n",
              "\n",
              "   Self_Employed_No  Self_Employed_Yes  Property_Area_Rural  \\\n",
              "0                 1                  0                    0   \n",
              "1                 1                  0                    1   \n",
              "2                 0                  1                    0   \n",
              "\n",
              "   Property_Area_Semiurban  Property_Area_Urban  Loan_Status_N  Loan_Status_Y  \n",
              "0                        0                    1              0              1  \n",
              "1                        0                    0              1              0  \n",
              "2                        0                    1              0              1  \n",
              "\n",
              "[3 rows x 23 columns]"
            ],
            "text/html": [
              "\n",
              "  <div id=\"df-2aa4c718-9320-487a-b0dd-0fb6e52c6229\">\n",
              "    <div class=\"colab-df-container\">\n",
              "      <div>\n",
              "<style scoped>\n",
              "    .dataframe tbody tr th:only-of-type {\n",
              "        vertical-align: middle;\n",
              "    }\n",
              "\n",
              "    .dataframe tbody tr th {\n",
              "        vertical-align: top;\n",
              "    }\n",
              "\n",
              "    .dataframe thead th {\n",
              "        text-align: right;\n",
              "    }\n",
              "</style>\n",
              "<table border=\"1\" class=\"dataframe\">\n",
              "  <thead>\n",
              "    <tr style=\"text-align: right;\">\n",
              "      <th></th>\n",
              "      <th>Credit_History</th>\n",
              "      <th>LoanAmount_log</th>\n",
              "      <th>TotalIncome</th>\n",
              "      <th>TotalIncome_log</th>\n",
              "      <th>EMI</th>\n",
              "      <th>Balance_Income</th>\n",
              "      <th>Gender_Female</th>\n",
              "      <th>Gender_Male</th>\n",
              "      <th>Married_No</th>\n",
              "      <th>Married_Yes</th>\n",
              "      <th>...</th>\n",
              "      <th>Dependents_3+</th>\n",
              "      <th>Education_Graduate</th>\n",
              "      <th>Education_Not Graduate</th>\n",
              "      <th>Self_Employed_No</th>\n",
              "      <th>Self_Employed_Yes</th>\n",
              "      <th>Property_Area_Rural</th>\n",
              "      <th>Property_Area_Semiurban</th>\n",
              "      <th>Property_Area_Urban</th>\n",
              "      <th>Loan_Status_N</th>\n",
              "      <th>Loan_Status_Y</th>\n",
              "    </tr>\n",
              "  </thead>\n",
              "  <tbody>\n",
              "    <tr>\n",
              "      <th>0</th>\n",
              "      <td>1.0</td>\n",
              "      <td>4.852030</td>\n",
              "      <td>5849.0</td>\n",
              "      <td>8.674026</td>\n",
              "      <td>0.355556</td>\n",
              "      <td>5493.444444</td>\n",
              "      <td>0</td>\n",
              "      <td>1</td>\n",
              "      <td>1</td>\n",
              "      <td>0</td>\n",
              "      <td>...</td>\n",
              "      <td>0</td>\n",
              "      <td>1</td>\n",
              "      <td>0</td>\n",
              "      <td>1</td>\n",
              "      <td>0</td>\n",
              "      <td>0</td>\n",
              "      <td>0</td>\n",
              "      <td>1</td>\n",
              "      <td>0</td>\n",
              "      <td>1</td>\n",
              "    </tr>\n",
              "    <tr>\n",
              "      <th>1</th>\n",
              "      <td>1.0</td>\n",
              "      <td>4.852030</td>\n",
              "      <td>6091.0</td>\n",
              "      <td>8.714568</td>\n",
              "      <td>0.355556</td>\n",
              "      <td>5735.444444</td>\n",
              "      <td>0</td>\n",
              "      <td>1</td>\n",
              "      <td>0</td>\n",
              "      <td>1</td>\n",
              "      <td>...</td>\n",
              "      <td>0</td>\n",
              "      <td>1</td>\n",
              "      <td>0</td>\n",
              "      <td>1</td>\n",
              "      <td>0</td>\n",
              "      <td>1</td>\n",
              "      <td>0</td>\n",
              "      <td>0</td>\n",
              "      <td>1</td>\n",
              "      <td>0</td>\n",
              "    </tr>\n",
              "    <tr>\n",
              "      <th>2</th>\n",
              "      <td>1.0</td>\n",
              "      <td>4.189655</td>\n",
              "      <td>3000.0</td>\n",
              "      <td>8.006368</td>\n",
              "      <td>0.183333</td>\n",
              "      <td>2816.666667</td>\n",
              "      <td>0</td>\n",
              "      <td>1</td>\n",
              "      <td>0</td>\n",
              "      <td>1</td>\n",
              "      <td>...</td>\n",
              "      <td>0</td>\n",
              "      <td>1</td>\n",
              "      <td>0</td>\n",
              "      <td>0</td>\n",
              "      <td>1</td>\n",
              "      <td>0</td>\n",
              "      <td>0</td>\n",
              "      <td>1</td>\n",
              "      <td>0</td>\n",
              "      <td>1</td>\n",
              "    </tr>\n",
              "  </tbody>\n",
              "</table>\n",
              "<p>3 rows × 23 columns</p>\n",
              "</div>\n",
              "      <button class=\"colab-df-convert\" onclick=\"convertToInteractive('df-2aa4c718-9320-487a-b0dd-0fb6e52c6229')\"\n",
              "              title=\"Convert this dataframe to an interactive table.\"\n",
              "              style=\"display:none;\">\n",
              "        \n",
              "  <svg xmlns=\"http://www.w3.org/2000/svg\" height=\"24px\"viewBox=\"0 0 24 24\"\n",
              "       width=\"24px\">\n",
              "    <path d=\"M0 0h24v24H0V0z\" fill=\"none\"/>\n",
              "    <path d=\"M18.56 5.44l.94 2.06.94-2.06 2.06-.94-2.06-.94-.94-2.06-.94 2.06-2.06.94zm-11 1L8.5 8.5l.94-2.06 2.06-.94-2.06-.94L8.5 2.5l-.94 2.06-2.06.94zm10 10l.94 2.06.94-2.06 2.06-.94-2.06-.94-.94-2.06-.94 2.06-2.06.94z\"/><path d=\"M17.41 7.96l-1.37-1.37c-.4-.4-.92-.59-1.43-.59-.52 0-1.04.2-1.43.59L10.3 9.45l-7.72 7.72c-.78.78-.78 2.05 0 2.83L4 21.41c.39.39.9.59 1.41.59.51 0 1.02-.2 1.41-.59l7.78-7.78 2.81-2.81c.8-.78.8-2.07 0-2.86zM5.41 20L4 18.59l7.72-7.72 1.47 1.35L5.41 20z\"/>\n",
              "  </svg>\n",
              "      </button>\n",
              "      \n",
              "  <style>\n",
              "    .colab-df-container {\n",
              "      display:flex;\n",
              "      flex-wrap:wrap;\n",
              "      gap: 12px;\n",
              "    }\n",
              "\n",
              "    .colab-df-convert {\n",
              "      background-color: #E8F0FE;\n",
              "      border: none;\n",
              "      border-radius: 50%;\n",
              "      cursor: pointer;\n",
              "      display: none;\n",
              "      fill: #1967D2;\n",
              "      height: 32px;\n",
              "      padding: 0 0 0 0;\n",
              "      width: 32px;\n",
              "    }\n",
              "\n",
              "    .colab-df-convert:hover {\n",
              "      background-color: #E2EBFA;\n",
              "      box-shadow: 0px 1px 2px rgba(60, 64, 67, 0.3), 0px 1px 3px 1px rgba(60, 64, 67, 0.15);\n",
              "      fill: #174EA6;\n",
              "    }\n",
              "\n",
              "    [theme=dark] .colab-df-convert {\n",
              "      background-color: #3B4455;\n",
              "      fill: #D2E3FC;\n",
              "    }\n",
              "\n",
              "    [theme=dark] .colab-df-convert:hover {\n",
              "      background-color: #434B5C;\n",
              "      box-shadow: 0px 1px 3px 1px rgba(0, 0, 0, 0.15);\n",
              "      filter: drop-shadow(0px 1px 2px rgba(0, 0, 0, 0.3));\n",
              "      fill: #FFFFFF;\n",
              "    }\n",
              "  </style>\n",
              "\n",
              "      <script>\n",
              "        const buttonEl =\n",
              "          document.querySelector('#df-2aa4c718-9320-487a-b0dd-0fb6e52c6229 button.colab-df-convert');\n",
              "        buttonEl.style.display =\n",
              "          google.colab.kernel.accessAllowed ? 'block' : 'none';\n",
              "\n",
              "        async function convertToInteractive(key) {\n",
              "          const element = document.querySelector('#df-2aa4c718-9320-487a-b0dd-0fb6e52c6229');\n",
              "          const dataTable =\n",
              "            await google.colab.kernel.invokeFunction('convertToInteractive',\n",
              "                                                     [key], {});\n",
              "          if (!dataTable) return;\n",
              "\n",
              "          const docLinkHtml = 'Like what you see? Visit the ' +\n",
              "            '<a target=\"_blank\" href=https://colab.research.google.com/notebooks/data_table.ipynb>data table notebook</a>'\n",
              "            + ' to learn more about interactive tables.';\n",
              "          element.innerHTML = '';\n",
              "          dataTable['output_type'] = 'display_data';\n",
              "          await google.colab.output.renderOutput(dataTable, element);\n",
              "          const docLink = document.createElement('div');\n",
              "          docLink.innerHTML = docLinkHtml;\n",
              "          element.appendChild(docLink);\n",
              "        }\n",
              "      </script>\n",
              "    </div>\n",
              "  </div>\n",
              "  "
            ]
          },
          "metadata": {},
          "execution_count": 612
        }
      ],
      "source": [
        "train.head(3)"
      ]
    },
    {
      "cell_type": "code",
      "execution_count": null,
      "metadata": {
        "_uuid": "b0b6fe929ee06556152b590f74037085624476ec",
        "colab": {
          "base_uri": "https://localhost:8080/",
          "height": 254
        },
        "id": "0eK1PJKEAk3F",
        "outputId": "cafa5c54-aa4b-4575-808d-2eda4ec4bc6f"
      },
      "outputs": [
        {
          "output_type": "execute_result",
          "data": {
            "text/plain": [
              "   Credit_History  LoanAmount_log  TotalIncome  TotalIncome_log       EMI  \\\n",
              "0             1.0        4.852030         5720         8.674026  0.305556   \n",
              "1             1.0        4.852030         4576         8.714568  0.350000   \n",
              "2             1.0        4.189655         6800         8.006368  0.577778   \n",
              "\n",
              "   Balance_Income  Gender_Female  Gender_Male  Married_No  Married_Yes  ...  \\\n",
              "0     5719.694444              0            1           0            1  ...   \n",
              "1     4575.650000              0            1           0            1  ...   \n",
              "2     6799.422222              0            1           0            1  ...   \n",
              "\n",
              "   Dependents_1  Dependents_2  Dependents_3+  Education_Graduate  \\\n",
              "0             0             0              0                   1   \n",
              "1             1             0              0                   1   \n",
              "2             0             1              0                   1   \n",
              "\n",
              "   Education_Not Graduate  Self_Employed_No  Self_Employed_Yes  \\\n",
              "0                       0                 1                  0   \n",
              "1                       0                 1                  0   \n",
              "2                       0                 1                  0   \n",
              "\n",
              "   Property_Area_Rural  Property_Area_Semiurban  Property_Area_Urban  \n",
              "0                    0                        0                    1  \n",
              "1                    0                        0                    1  \n",
              "2                    0                        0                    1  \n",
              "\n",
              "[3 rows x 21 columns]"
            ],
            "text/html": [
              "\n",
              "  <div id=\"df-a84f788e-1876-4c05-9f1f-7e1904f176ac\">\n",
              "    <div class=\"colab-df-container\">\n",
              "      <div>\n",
              "<style scoped>\n",
              "    .dataframe tbody tr th:only-of-type {\n",
              "        vertical-align: middle;\n",
              "    }\n",
              "\n",
              "    .dataframe tbody tr th {\n",
              "        vertical-align: top;\n",
              "    }\n",
              "\n",
              "    .dataframe thead th {\n",
              "        text-align: right;\n",
              "    }\n",
              "</style>\n",
              "<table border=\"1\" class=\"dataframe\">\n",
              "  <thead>\n",
              "    <tr style=\"text-align: right;\">\n",
              "      <th></th>\n",
              "      <th>Credit_History</th>\n",
              "      <th>LoanAmount_log</th>\n",
              "      <th>TotalIncome</th>\n",
              "      <th>TotalIncome_log</th>\n",
              "      <th>EMI</th>\n",
              "      <th>Balance_Income</th>\n",
              "      <th>Gender_Female</th>\n",
              "      <th>Gender_Male</th>\n",
              "      <th>Married_No</th>\n",
              "      <th>Married_Yes</th>\n",
              "      <th>...</th>\n",
              "      <th>Dependents_1</th>\n",
              "      <th>Dependents_2</th>\n",
              "      <th>Dependents_3+</th>\n",
              "      <th>Education_Graduate</th>\n",
              "      <th>Education_Not Graduate</th>\n",
              "      <th>Self_Employed_No</th>\n",
              "      <th>Self_Employed_Yes</th>\n",
              "      <th>Property_Area_Rural</th>\n",
              "      <th>Property_Area_Semiurban</th>\n",
              "      <th>Property_Area_Urban</th>\n",
              "    </tr>\n",
              "  </thead>\n",
              "  <tbody>\n",
              "    <tr>\n",
              "      <th>0</th>\n",
              "      <td>1.0</td>\n",
              "      <td>4.852030</td>\n",
              "      <td>5720</td>\n",
              "      <td>8.674026</td>\n",
              "      <td>0.305556</td>\n",
              "      <td>5719.694444</td>\n",
              "      <td>0</td>\n",
              "      <td>1</td>\n",
              "      <td>0</td>\n",
              "      <td>1</td>\n",
              "      <td>...</td>\n",
              "      <td>0</td>\n",
              "      <td>0</td>\n",
              "      <td>0</td>\n",
              "      <td>1</td>\n",
              "      <td>0</td>\n",
              "      <td>1</td>\n",
              "      <td>0</td>\n",
              "      <td>0</td>\n",
              "      <td>0</td>\n",
              "      <td>1</td>\n",
              "    </tr>\n",
              "    <tr>\n",
              "      <th>1</th>\n",
              "      <td>1.0</td>\n",
              "      <td>4.852030</td>\n",
              "      <td>4576</td>\n",
              "      <td>8.714568</td>\n",
              "      <td>0.350000</td>\n",
              "      <td>4575.650000</td>\n",
              "      <td>0</td>\n",
              "      <td>1</td>\n",
              "      <td>0</td>\n",
              "      <td>1</td>\n",
              "      <td>...</td>\n",
              "      <td>1</td>\n",
              "      <td>0</td>\n",
              "      <td>0</td>\n",
              "      <td>1</td>\n",
              "      <td>0</td>\n",
              "      <td>1</td>\n",
              "      <td>0</td>\n",
              "      <td>0</td>\n",
              "      <td>0</td>\n",
              "      <td>1</td>\n",
              "    </tr>\n",
              "    <tr>\n",
              "      <th>2</th>\n",
              "      <td>1.0</td>\n",
              "      <td>4.189655</td>\n",
              "      <td>6800</td>\n",
              "      <td>8.006368</td>\n",
              "      <td>0.577778</td>\n",
              "      <td>6799.422222</td>\n",
              "      <td>0</td>\n",
              "      <td>1</td>\n",
              "      <td>0</td>\n",
              "      <td>1</td>\n",
              "      <td>...</td>\n",
              "      <td>0</td>\n",
              "      <td>1</td>\n",
              "      <td>0</td>\n",
              "      <td>1</td>\n",
              "      <td>0</td>\n",
              "      <td>1</td>\n",
              "      <td>0</td>\n",
              "      <td>0</td>\n",
              "      <td>0</td>\n",
              "      <td>1</td>\n",
              "    </tr>\n",
              "  </tbody>\n",
              "</table>\n",
              "<p>3 rows × 21 columns</p>\n",
              "</div>\n",
              "      <button class=\"colab-df-convert\" onclick=\"convertToInteractive('df-a84f788e-1876-4c05-9f1f-7e1904f176ac')\"\n",
              "              title=\"Convert this dataframe to an interactive table.\"\n",
              "              style=\"display:none;\">\n",
              "        \n",
              "  <svg xmlns=\"http://www.w3.org/2000/svg\" height=\"24px\"viewBox=\"0 0 24 24\"\n",
              "       width=\"24px\">\n",
              "    <path d=\"M0 0h24v24H0V0z\" fill=\"none\"/>\n",
              "    <path d=\"M18.56 5.44l.94 2.06.94-2.06 2.06-.94-2.06-.94-.94-2.06-.94 2.06-2.06.94zm-11 1L8.5 8.5l.94-2.06 2.06-.94-2.06-.94L8.5 2.5l-.94 2.06-2.06.94zm10 10l.94 2.06.94-2.06 2.06-.94-2.06-.94-.94-2.06-.94 2.06-2.06.94z\"/><path d=\"M17.41 7.96l-1.37-1.37c-.4-.4-.92-.59-1.43-.59-.52 0-1.04.2-1.43.59L10.3 9.45l-7.72 7.72c-.78.78-.78 2.05 0 2.83L4 21.41c.39.39.9.59 1.41.59.51 0 1.02-.2 1.41-.59l7.78-7.78 2.81-2.81c.8-.78.8-2.07 0-2.86zM5.41 20L4 18.59l7.72-7.72 1.47 1.35L5.41 20z\"/>\n",
              "  </svg>\n",
              "      </button>\n",
              "      \n",
              "  <style>\n",
              "    .colab-df-container {\n",
              "      display:flex;\n",
              "      flex-wrap:wrap;\n",
              "      gap: 12px;\n",
              "    }\n",
              "\n",
              "    .colab-df-convert {\n",
              "      background-color: #E8F0FE;\n",
              "      border: none;\n",
              "      border-radius: 50%;\n",
              "      cursor: pointer;\n",
              "      display: none;\n",
              "      fill: #1967D2;\n",
              "      height: 32px;\n",
              "      padding: 0 0 0 0;\n",
              "      width: 32px;\n",
              "    }\n",
              "\n",
              "    .colab-df-convert:hover {\n",
              "      background-color: #E2EBFA;\n",
              "      box-shadow: 0px 1px 2px rgba(60, 64, 67, 0.3), 0px 1px 3px 1px rgba(60, 64, 67, 0.15);\n",
              "      fill: #174EA6;\n",
              "    }\n",
              "\n",
              "    [theme=dark] .colab-df-convert {\n",
              "      background-color: #3B4455;\n",
              "      fill: #D2E3FC;\n",
              "    }\n",
              "\n",
              "    [theme=dark] .colab-df-convert:hover {\n",
              "      background-color: #434B5C;\n",
              "      box-shadow: 0px 1px 3px 1px rgba(0, 0, 0, 0.15);\n",
              "      filter: drop-shadow(0px 1px 2px rgba(0, 0, 0, 0.3));\n",
              "      fill: #FFFFFF;\n",
              "    }\n",
              "  </style>\n",
              "\n",
              "      <script>\n",
              "        const buttonEl =\n",
              "          document.querySelector('#df-a84f788e-1876-4c05-9f1f-7e1904f176ac button.colab-df-convert');\n",
              "        buttonEl.style.display =\n",
              "          google.colab.kernel.accessAllowed ? 'block' : 'none';\n",
              "\n",
              "        async function convertToInteractive(key) {\n",
              "          const element = document.querySelector('#df-a84f788e-1876-4c05-9f1f-7e1904f176ac');\n",
              "          const dataTable =\n",
              "            await google.colab.kernel.invokeFunction('convertToInteractive',\n",
              "                                                     [key], {});\n",
              "          if (!dataTable) return;\n",
              "\n",
              "          const docLinkHtml = 'Like what you see? Visit the ' +\n",
              "            '<a target=\"_blank\" href=https://colab.research.google.com/notebooks/data_table.ipynb>data table notebook</a>'\n",
              "            + ' to learn more about interactive tables.';\n",
              "          element.innerHTML = '';\n",
              "          dataTable['output_type'] = 'display_data';\n",
              "          await google.colab.output.renderOutput(dataTable, element);\n",
              "          const docLink = document.createElement('div');\n",
              "          docLink.innerHTML = docLinkHtml;\n",
              "          element.appendChild(docLink);\n",
              "        }\n",
              "      </script>\n",
              "    </div>\n",
              "  </div>\n",
              "  "
            ]
          },
          "metadata": {},
          "execution_count": 613
        }
      ],
      "source": [
        "test.head(3)"
      ]
    },
    {
      "cell_type": "markdown",
      "metadata": {
        "_uuid": "2619abfc26a29a1e685ecd7f0a37df7ae94b4f2c",
        "id": "UI4BfvpeAk3F"
      },
      "source": [
        "Now we will train the model on training dataset and make predictions for the test dataset. But can we validate these predictions?\n",
        "One way of doing this is we can divide our train dataset into two parts:train and validation.\n",
        "We can train the model on this train part and using that make predictions for the validation part.\n",
        "In this way we can validate our predictions as we have the true predictions for the validation part (which we do not have for the test dataset)."
      ]
    },
    {
      "cell_type": "markdown",
      "metadata": {
        "_uuid": "56724b726ad64aef11a0f6dfa90a470cef2a634a",
        "id": "y8B6MdbcAk3F"
      },
      "source": [
        "\n",
        "\n",
        "We will use the train_test_split function from sklearn to divide our train dataset. So, first let us import train_test_split."
      ]
    },
    {
      "cell_type": "code",
      "execution_count": null,
      "metadata": {
        "_uuid": "3a0ef20360693aa2dc4753424f04182b4f54b7bb",
        "id": "KrKbYUCHAk3F"
      },
      "outputs": [],
      "source": [
        "from sklearn.model_selection import train_test_split"
      ]
    },
    {
      "cell_type": "code",
      "execution_count": null,
      "metadata": {
        "_uuid": "27ba6fc88f59953263ccb3804a893438370e647b",
        "id": "vZTH3-N5Ak3F"
      },
      "outputs": [],
      "source": [
        "x_train,x_cv,y_train,y_cv=train_test_split(X,y,test_size=0.3,random_state=1)"
      ]
    },
    {
      "cell_type": "markdown",
      "metadata": {
        "_uuid": "c1f8ce9b54cf71a8056dc21e4ab7d43653c57759",
        "id": "Dlgp7nTQAk3F"
      },
      "source": [
        "The dataset has been divided into training and validation part.\n",
        "\n",
        "70% data will use for train the model and rest of the 30% data will use for checking validation of the model. "
      ]
    },
    {
      "cell_type": "markdown",
      "metadata": {
        "_uuid": "7557d3aeb1981a5ce7b8309f0f51efd656f68a6b",
        "id": "r1MijDR2Ak3F"
      },
      "source": [
        "# Logistic Regression"
      ]
    },
    {
      "cell_type": "markdown",
      "metadata": {
        "_uuid": "173efa1eda104ff6cdbb5751200625644924663a",
        "id": "HY7Fe-4aAk3F"
      },
      "source": [
        "Let's import LogisticRegression and accuracy_score from sklearn and fit the logistic regression model."
      ]
    },
    {
      "cell_type": "code",
      "execution_count": null,
      "metadata": {
        "_uuid": "ec196aaf363a59297c067bfe01f288de066e1544",
        "id": "alkohIGtAk3G"
      },
      "outputs": [],
      "source": [
        "from sklearn.linear_model import LogisticRegression\n",
        "from sklearn.metrics import accuracy_score"
      ]
    },
    {
      "cell_type": "code",
      "execution_count": null,
      "metadata": {
        "_uuid": "eb1ffac44c357932290298b850f7a4ef4ab0569c",
        "id": "qd6e7VDAAk3G"
      },
      "outputs": [],
      "source": [
        "logistic_model = LogisticRegression(random_state=1)"
      ]
    },
    {
      "cell_type": "code",
      "execution_count": null,
      "metadata": {
        "_uuid": "86ee315d51dafe52d2bff3dbb6be12270f0e1082",
        "colab": {
          "base_uri": "https://localhost:8080/"
        },
        "id": "jsQXiaF8Ak3G",
        "outputId": "50ed1959-818b-48df-dbf1-546a065bd97c"
      },
      "outputs": [
        {
          "output_type": "execute_result",
          "data": {
            "text/plain": [
              "LogisticRegression(random_state=1)"
            ]
          },
          "metadata": {},
          "execution_count": 618
        }
      ],
      "source": [
        "logistic_model.fit(x_train,y_train)"
      ]
    },
    {
      "cell_type": "markdown",
      "metadata": {
        "_uuid": "31b3f7a159c00adbaf6fb913654369b5925142c8",
        "id": "IYzTBfGXAk3G"
      },
      "source": [
        "Let’s predict the Loan_Status for validation set"
      ]
    },
    {
      "cell_type": "code",
      "execution_count": null,
      "metadata": {
        "_uuid": "4368bd0b148a47fcfda60fe1b1b2cebdd6857073",
        "id": "ckDVLMVsAk3G"
      },
      "outputs": [],
      "source": [
        "pred_cv_logistic=logistic_model.predict(x_cv)"
      ]
    },
    {
      "cell_type": "markdown",
      "metadata": {
        "_uuid": "38b322e103d1513778803ee664876b8d45563eef",
        "id": "ZY_7Xzv5Ak3G"
      },
      "source": [
        "Now calculate how accurate our predictions are by calculating the accuracy."
      ]
    },
    {
      "cell_type": "code",
      "execution_count": null,
      "metadata": {
        "_uuid": "1848df46293ce9254398468e7f11485ec01d3843",
        "id": "zJklfXHRAk3G"
      },
      "outputs": [],
      "source": [
        "score_logistic =accuracy_score(pred_cv_logistic,y_cv)*100 "
      ]
    },
    {
      "cell_type": "code",
      "execution_count": null,
      "metadata": {
        "_uuid": "860581c8438aa107451f13c351522a7c976dbf61",
        "colab": {
          "base_uri": "https://localhost:8080/"
        },
        "id": "W_WR4yO4Ak3G",
        "outputId": "568e68c4-37e9-4b3a-ec31-c918a0893466"
      },
      "outputs": [
        {
          "output_type": "execute_result",
          "data": {
            "text/plain": [
              "75.67567567567568"
            ]
          },
          "metadata": {},
          "execution_count": 621
        }
      ],
      "source": [
        "score_logistic"
      ]
    },
    {
      "cell_type": "markdown",
      "metadata": {
        "_uuid": "b60fa07995e333d08740823eff8b5e7de76a24f0",
        "id": "RlJ65DJmAk3G"
      },
      "source": [
        "So our predictions are almost 75% accurate, i.e. we have identified 75% of the loan status correctly for our logistic regression model."
      ]
    },
    {
      "cell_type": "markdown",
      "metadata": {
        "_uuid": "a11387ca0a24e00333d1f183d70d6052dc5332b9",
        "id": "eTj4a3qtAk3G"
      },
      "source": [
        "Let’s make predictions for the test dataset."
      ]
    },
    {
      "cell_type": "code",
      "execution_count": null,
      "metadata": {
        "_uuid": "90ca7a4591c33e435effe77ff5d9188f524bc4d3",
        "id": "ufkZMIS-Ak3H"
      },
      "outputs": [],
      "source": [
        "pred_test_logistic = logistic_model.predict(test)"
      ]
    },
    {
      "cell_type": "code",
      "source": [
        "pred_test_logistic"
      ],
      "metadata": {
        "colab": {
          "base_uri": "https://localhost:8080/"
        },
        "id": "5bqg9OWaCOiR",
        "outputId": "94dab9fd-03eb-46b2-cbd4-c35e1303eab2"
      },
      "execution_count": null,
      "outputs": [
        {
          "output_type": "execute_result",
          "data": {
            "text/plain": [
              "array(['Y', 'Y', 'Y', 'Y', 'N', 'Y', 'Y', 'N', 'Y', 'Y', 'N', 'Y', 'Y',\n",
              "       'Y', 'Y', 'Y', 'Y', 'Y', 'Y', 'Y', 'Y', 'N', 'Y', 'N', 'Y', 'N',\n",
              "       'Y', 'Y', 'Y', 'Y', 'Y', 'Y', 'Y', 'Y', 'Y', 'N', 'Y', 'Y', 'Y',\n",
              "       'Y', 'Y', 'Y', 'Y', 'Y', 'Y', 'Y', 'Y', 'Y', 'Y', 'Y', 'Y', 'Y',\n",
              "       'Y', 'Y', 'Y', 'N', 'N', 'Y', 'Y', 'Y', 'Y', 'Y', 'Y', 'N', 'Y',\n",
              "       'Y', 'N', 'Y', 'Y', 'N', 'Y', 'Y', 'Y', 'Y', 'Y', 'Y', 'Y', 'Y',\n",
              "       'Y', 'Y', 'N', 'Y', 'N', 'Y', 'Y', 'Y', 'Y', 'Y', 'Y', 'Y', 'Y',\n",
              "       'Y', 'Y', 'Y', 'Y', 'Y', 'Y', 'Y', 'Y', 'Y', 'Y', 'Y', 'Y', 'Y',\n",
              "       'Y', 'Y', 'N', 'Y', 'Y', 'Y', 'Y', 'Y', 'Y', 'Y', 'Y', 'Y', 'Y',\n",
              "       'N', 'N', 'N', 'Y', 'Y', 'Y', 'N', 'N', 'Y', 'N', 'Y', 'Y', 'Y',\n",
              "       'Y', 'Y', 'Y', 'Y', 'Y', 'Y', 'Y', 'Y', 'Y', 'Y', 'N', 'Y', 'N',\n",
              "       'Y', 'Y', 'Y', 'Y', 'N', 'Y', 'Y', 'Y', 'Y', 'Y', 'N', 'Y', 'Y',\n",
              "       'Y', 'Y', 'Y', 'Y', 'Y', 'N', 'Y', 'Y', 'Y', 'N', 'N', 'Y', 'Y',\n",
              "       'Y', 'Y', 'Y', 'Y', 'N', 'N', 'Y', 'Y', 'Y', 'Y', 'Y', 'Y', 'Y',\n",
              "       'Y', 'Y', 'Y', 'Y', 'Y', 'Y', 'Y', 'Y', 'Y', 'Y', 'N', 'N', 'Y',\n",
              "       'Y', 'Y', 'Y', 'N', 'Y', 'Y', 'Y', 'Y', 'Y', 'Y', 'Y', 'Y', 'Y',\n",
              "       'Y', 'N', 'Y', 'N', 'Y', 'Y', 'Y', 'Y', 'Y', 'Y', 'Y', 'Y', 'Y',\n",
              "       'Y', 'Y', 'Y', 'N', 'Y', 'Y', 'Y', 'Y', 'N', 'Y', 'Y', 'Y', 'Y',\n",
              "       'Y', 'N', 'N', 'Y', 'Y', 'Y', 'N', 'Y', 'Y', 'N', 'Y', 'Y', 'Y',\n",
              "       'Y', 'Y', 'Y', 'N', 'Y', 'Y', 'Y', 'Y', 'N', 'Y', 'Y', 'Y', 'Y',\n",
              "       'Y', 'Y', 'Y', 'Y', 'Y', 'Y', 'N', 'N', 'N', 'Y', 'Y', 'Y', 'Y',\n",
              "       'Y', 'N', 'Y', 'Y', 'Y', 'N', 'Y', 'Y', 'Y', 'Y', 'N', 'Y', 'Y',\n",
              "       'Y', 'Y', 'Y', 'Y', 'Y', 'Y', 'N', 'N', 'Y', 'Y', 'Y', 'N', 'Y',\n",
              "       'Y', 'Y', 'N', 'Y', 'Y', 'Y', 'Y', 'Y', 'Y', 'Y', 'Y', 'Y', 'N',\n",
              "       'Y', 'Y', 'Y', 'Y', 'Y', 'N', 'N', 'Y', 'Y', 'Y', 'Y', 'Y', 'Y',\n",
              "       'N', 'Y', 'Y', 'Y', 'Y', 'Y', 'Y', 'Y', 'Y', 'Y', 'Y', 'N', 'Y',\n",
              "       'Y', 'N', 'Y', 'Y', 'Y', 'Y', 'Y', 'Y', 'N', 'N', 'Y', 'Y', 'Y',\n",
              "       'Y', 'Y', 'Y', 'N', 'Y', 'Y', 'Y', 'Y', 'Y', 'Y', 'Y', 'Y', 'Y',\n",
              "       'Y', 'Y', 'Y'], dtype=object)"
            ]
          },
          "metadata": {},
          "execution_count": 623
        }
      ]
    }
  ],
  "metadata": {
    "kernelspec": {
      "display_name": "Python 3",
      "language": "python",
      "name": "python3"
    },
    "language_info": {
      "codemirror_mode": {
        "name": "ipython",
        "version": 3
      },
      "file_extension": ".py",
      "mimetype": "text/x-python",
      "name": "python",
      "nbconvert_exporter": "python",
      "pygments_lexer": "ipython3",
      "version": "3.6.6"
    },
    "colab": {
      "provenance": [],
      "collapsed_sections": []
    }
  },
  "nbformat": 4,
  "nbformat_minor": 0
}